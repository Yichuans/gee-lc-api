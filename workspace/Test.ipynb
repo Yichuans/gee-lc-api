{
 "cells": [
  {
   "cell_type": "code",
   "execution_count": 1,
   "metadata": {},
   "outputs": [],
   "source": [
    "import ee"
   ]
  },
  {
   "cell_type": "code",
   "execution_count": 2,
   "metadata": {},
   "outputs": [
    {
     "ename": "EEException",
     "evalue": "Please authorize access to your Earth Engine account by running\n\nearthengine authenticate\n\nin your command line, and then retry.",
     "output_type": "error",
     "traceback": [
      "\u001b[0;31m---------------------------------------------------------------------------\u001b[0m",
      "\u001b[0;31mEEException\u001b[0m                               Traceback (most recent call last)",
      "\u001b[0;32m<ipython-input-2-99e03d56abd3>\u001b[0m in \u001b[0;36m<module>\u001b[0;34m()\u001b[0m\n\u001b[0;32m----> 1\u001b[0;31m \u001b[0mee\u001b[0m\u001b[0;34m.\u001b[0m\u001b[0mInitialize\u001b[0m\u001b[0;34m(\u001b[0m\u001b[0;34m)\u001b[0m\u001b[0;34m\u001b[0m\u001b[0m\n\u001b[0m",
      "\u001b[0;32m/usr/local/lib/python2.7/dist-packages/ee/__init__.pyc\u001b[0m in \u001b[0;36mInitialize\u001b[0;34m(credentials, opt_url, use_cloud_api, cloud_api_key)\u001b[0m\n\u001b[1;32m     94\u001b[0m   \"\"\"\n\u001b[1;32m     95\u001b[0m   \u001b[0;32mif\u001b[0m \u001b[0mcredentials\u001b[0m \u001b[0;34m==\u001b[0m \u001b[0;34m'persistent'\u001b[0m\u001b[0;34m:\u001b[0m\u001b[0;34m\u001b[0m\u001b[0m\n\u001b[0;32m---> 96\u001b[0;31m     \u001b[0mcredentials\u001b[0m \u001b[0;34m=\u001b[0m \u001b[0m_GetPersistentCredentials\u001b[0m\u001b[0;34m(\u001b[0m\u001b[0;34m)\u001b[0m\u001b[0;34m\u001b[0m\u001b[0m\n\u001b[0m\u001b[1;32m     97\u001b[0m   data.initialize(\n\u001b[1;32m     98\u001b[0m       \u001b[0mcredentials\u001b[0m\u001b[0;34m=\u001b[0m\u001b[0mcredentials\u001b[0m\u001b[0;34m,\u001b[0m\u001b[0;34m\u001b[0m\u001b[0m\n",
      "\u001b[0;32m/usr/local/lib/python2.7/dist-packages/ee/_helpers.pyc\u001b[0m in \u001b[0;36m_GetPersistentCredentials\u001b[0;34m()\u001b[0m\n\u001b[1;32m     38\u001b[0m         None, 'https://accounts.google.com/o/oauth2/token', None)\n\u001b[1;32m     39\u001b[0m   \u001b[0;32mexcept\u001b[0m \u001b[0mIOError\u001b[0m\u001b[0;34m:\u001b[0m\u001b[0;34m\u001b[0m\u001b[0m\n\u001b[0;32m---> 40\u001b[0;31m     raise EEException('Please authorize access to your Earth Engine account '\n\u001b[0m\u001b[1;32m     41\u001b[0m                       \u001b[0;34m'by running\\n\\nearthengine authenticate\\n\\nin your '\u001b[0m\u001b[0;34m\u001b[0m\u001b[0m\n\u001b[1;32m     42\u001b[0m                       'command line, and then retry.')\n",
      "\u001b[0;31mEEException\u001b[0m: Please authorize access to your Earth Engine account by running\n\nearthengine authenticate\n\nin your command line, and then retry."
     ]
    }
   ],
   "source": [
    "ee.Initialize()"
   ]
  },
  {
   "cell_type": "code",
   "execution_count": 3,
   "metadata": {},
   "outputs": [
    {
     "name": "stdout",
     "output_type": "stream",
     "text": [
      "Paste the following address into a web browser:\n",
      "\n",
      "    https://accounts.google.com/o/oauth2/auth?scope=https%3A%2F%2Fwww.googleapis.com%2Fauth%2Fearthengine+https%3A%2F%2Fwww.googleapis.com%2Fauth%2Fdevstorage.full_control&redirect_uri=urn%3Aietf%3Awg%3Aoauth%3A2.0%3Aoob&response_type=code&client_id=517222506229-vsmmajv00ul0bs7p89v5m89qs8eb9359.apps.googleusercontent.com\n",
      "\n",
      "On the web page, please authorize access to your Earth Engine account and copy the authentication code. Next authenticate with the following command:\n",
      "\n",
      "    earthengine authenticate --authorization-code=PLACE_AUTH_CODE_HERE\n",
      "\n"
     ]
    }
   ],
   "source": [
    "%%bash\n",
    "earthengine authenticate --quiet"
   ]
  },
  {
   "cell_type": "code",
   "execution_count": 6,
   "metadata": {},
   "outputs": [
    {
     "name": "stdout",
     "output_type": "stream",
     "text": [
      "\n",
      "Successfully saved authorization token.\n"
     ]
    }
   ],
   "source": [
    "%%bash\n",
    "earthengine authenticate --authorization-code=4/6gAxehQ5WqQT1UNqP5kmS86y9h8Uk4-c5QIz5aLIyOmIWDH8NCiERas"
   ]
  },
  {
   "cell_type": "code",
   "execution_count": null,
   "metadata": {},
   "outputs": [],
   "source": []
  }
 ],
 "metadata": {
  "kernelspec": {
   "display_name": "Python 2",
   "language": "python",
   "name": "python2"
  },
  "language_info": {
   "codemirror_mode": {
    "name": "ipython",
    "version": 2
   },
   "file_extension": ".py",
   "mimetype": "text/x-python",
   "name": "python",
   "nbconvert_exporter": "python",
   "pygments_lexer": "ipython2",
   "version": "2.7.12"
  }
 },
 "nbformat": 4,
 "nbformat_minor": 2
}
