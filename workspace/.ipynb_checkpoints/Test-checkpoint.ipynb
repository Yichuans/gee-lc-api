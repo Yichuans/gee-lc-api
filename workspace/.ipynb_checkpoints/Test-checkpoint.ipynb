{
 "cells": [
  {
   "cell_type": "code",
   "execution_count": 1,
   "metadata": {},
   "outputs": [],
   "source": [
    "import ee"
   ]
  },
  {
   "cell_type": "code",
   "execution_count": 2,
   "metadata": {},
   "outputs": [],
   "source": [
    "ee.Initialize()"
   ]
  },
  {
   "cell_type": "markdown",
   "metadata": {},
   "source": [
    "# Utility"
   ]
  },
  {
   "cell_type": "code",
   "execution_count": 6,
   "metadata": {},
   "outputs": [],
   "source": [
    "import ee.mapclient\n",
    "import ipyleaflet\n",
    "def GetTileLayerUrl(ee_image_object):\n",
    "  map_id = ee.Image(ee_image_object).getMapId()\n",
    "  tile_url_template = \"https://earthengine.googleapis.com/map/{mapid}/{{z}}/{{x}}/{{y}}?token={token}\"\n",
    "  return tile_url_template.format(**map_id)"
   ]
  },
  {
   "cell_type": "markdown",
   "metadata": {},
   "source": [
    "# Image"
   ]
  },
  {
   "cell_type": "code",
   "execution_count": 26,
   "metadata": {},
   "outputs": [],
   "source": [
    "image1 = ee.Image(1)"
   ]
  },
  {
   "cell_type": "code",
   "execution_count": 28,
   "metadata": {},
   "outputs": [
    {
     "name": "stdout",
     "output_type": "stream",
     "text": [
      "ee.Image({\n",
      "  \"type\": \"Invocation\", \n",
      "  \"arguments\": {\n",
      "    \"value\": 1\n",
      "  }, \n",
      "  \"functionName\": \"Image.constant\"\n",
      "})\n"
     ]
    }
   ],
   "source": [
    "print(image1)"
   ]
  },
  {
   "cell_type": "code",
   "execution_count": 31,
   "metadata": {},
   "outputs": [
    {
     "data": {
      "text/plain": [
       "[u'constant']"
      ]
     },
     "execution_count": 31,
     "metadata": {},
     "output_type": "execute_result"
    }
   ],
   "source": [
    "image1.bandNames().getInfo()"
   ]
  },
  {
   "cell_type": "markdown",
   "metadata": {},
   "source": [
    "# MODIS"
   ]
  },
  {
   "cell_type": "code",
   "execution_count": 3,
   "metadata": {},
   "outputs": [],
   "source": [
    "modis = ee.ImageCollection('MODIS/006/MCD12Q1')"
   ]
  },
  {
   "cell_type": "code",
   "execution_count": 8,
   "metadata": {},
   "outputs": [],
   "source": [
    "modislc_IGBP = modis.select('LC_Type1')"
   ]
  },
  {
   "cell_type": "code",
   "execution_count": 12,
   "metadata": {},
   "outputs": [
    {
     "data": {
      "text/plain": [
       "(ee.imagecollection.ImageCollection, ee.imagecollection.ImageCollection)"
      ]
     },
     "execution_count": 12,
     "metadata": {},
     "output_type": "execute_result"
    }
   ],
   "source": [
    "type(modis), type(modislc_IGBP)"
   ]
  },
  {
   "cell_type": "code",
   "execution_count": null,
   "metadata": {},
   "outputs": [],
   "source": []
  },
  {
   "cell_type": "code",
   "execution_count": 16,
   "metadata": {},
   "outputs": [],
   "source": [
    "a = modis.size()\n",
    "b = modislc_IGBP.size()"
   ]
  },
  {
   "cell_type": "code",
   "execution_count": 33,
   "metadata": {},
   "outputs": [],
   "source": [
    "c = modislc_IGBP.first()"
   ]
  },
  {
   "cell_type": "code",
   "execution_count": 24,
   "metadata": {},
   "outputs": [
    {
     "data": {
      "text/plain": [
       "17"
      ]
     },
     "execution_count": 24,
     "metadata": {},
     "output_type": "execute_result"
    }
   ],
   "source": [
    "a.getInfo()"
   ]
  },
  {
   "cell_type": "code",
   "execution_count": 39,
   "metadata": {},
   "outputs": [
    {
     "data": {
      "text/plain": [
       "{'image': <ee.image.Image at 0x7f8080fc5490>,\n",
       " u'mapid': u'c501fe10b497f98d2778cc8ab3249ca5',\n",
       " 'tile_fetcher': <ee.data.TileFetcher at 0x7f80810e1810>,\n",
       " u'token': u'8b44e2449b3219e12dd13522da04004c'}"
      ]
     },
     "execution_count": 39,
     "metadata": {},
     "output_type": "execute_result"
    }
   ],
   "source": [
    "c.getMapId()"
   ]
  },
  {
   "cell_type": "code",
   "execution_count": 41,
   "metadata": {},
   "outputs": [],
   "source": [
    "d = modislc_IGBP.filterDate('2015', '2016')"
   ]
  },
  {
   "cell_type": "code",
   "execution_count": 179,
   "metadata": {},
   "outputs": [
    {
     "data": {
      "text/plain": [
       "{u'bands': [{u'crs': u'SR-ORG:6974',\n",
       "   u'crs_transform': [463.312716528,\n",
       "    0.0,\n",
       "    -20015109.354,\n",
       "    0.0,\n",
       "    -463.312716527,\n",
       "    10007554.677],\n",
       "   u'data_type': {u'max': 255,\n",
       "    u'min': 0,\n",
       "    u'precision': u'int',\n",
       "    u'type': u'PixelType'},\n",
       "   u'dimensions': [86400, 43200],\n",
       "   u'id': u'LC_Type1'}],\n",
       " u'id': u'MODIS/006/MCD12Q1/2016_01_01',\n",
       " u'properties': {u'LC_Prop1_class_names': [u'Barren: at least of area 60% is non-vegetated barren (sand, rock, soil) or permanent snow/ice with less than 10% vegetation.',\n",
       "   u'Permanent Snow and Ice: at least 60% of area is covered by snow and ice for at least 10 months of the year.',\n",
       "   u'Water Bodies: at least 60% of area is covered by permanent water bodies.',\n",
       "   u'Evergreen Needleleaf Forests: dominated by evergreen conifer trees (>2m). Tree cover >60%.',\n",
       "   u'Evergreen Broadleaf Forests: dominated by evergreen broadleaf and palmate trees (>2m). Tree cover >60%.',\n",
       "   u'Deciduous Needleleaf Forests: dominated by deciduous needleleaf (larch) trees (>2m). Tree cover >60%.',\n",
       "   u'Deciduous Broadleaf Forests: dominated by deciduous broadleaf trees (>2m). Tree cover >60%.',\n",
       "   u'Mixed Broadleaf/Needleleaf Forests: co-dominated (40-60%) by broadleaf deciduous and evergreen needleleaf tree (>2m) types. Tree cover >60%.',\n",
       "   u'Mixed Broadleaf Evergreen/Deciduous Forests: co-dominated (40-60%) by broadleaf evergreen and deciduous tree (>2m) types. Tree cover >60%.',\n",
       "   u'Open Forests: tree cover 30-60% (canopy >2m).',\n",
       "   u'Sparse Forests: tree cover 10-30% (canopy >2m).',\n",
       "   u'Dense Herbaceous: dominated by herbaceous annuals (<2m) at least 60% cover.',\n",
       "   u'Sparse Herbaceous: dominated by herbaceous annuals (<2m) 10-60% cover.',\n",
       "   u'Dense Shrublands: dominated by woody perennials (1-2m) >60% cover.',\n",
       "   u'Shrubland/Grassland Mosaics: dominated by woody perennials (1-2m) 10-60% cover with dense herbaceous annual understory.',\n",
       "   u'Sparse Shrublands: dominated by woody perennials (1-2m) 10-60% cover with minimal herbaceous understory.'],\n",
       "  u'LC_Prop1_class_palette': [u'f9ffa4',\n",
       "   u'69fff8',\n",
       "   u'1c0dff',\n",
       "   u'05450a',\n",
       "   u'086a10',\n",
       "   u'54a708',\n",
       "   u'78d203',\n",
       "   u'005a00',\n",
       "   u'009900',\n",
       "   u'006c00',\n",
       "   u'00d000',\n",
       "   u'b6ff05',\n",
       "   u'98d604',\n",
       "   u'dcd159',\n",
       "   u'f1fb58',\n",
       "   u'fbee65'],\n",
       "  u'LC_Prop1_class_values': [1,\n",
       "   2,\n",
       "   3,\n",
       "   11,\n",
       "   12,\n",
       "   13,\n",
       "   14,\n",
       "   15,\n",
       "   16,\n",
       "   21,\n",
       "   22,\n",
       "   31,\n",
       "   32,\n",
       "   41,\n",
       "   42,\n",
       "   43],\n",
       "  u'LC_Prop2_class_names': [u'Barren: at least of area 60% is non-vegetated barren (sand, rock, soil) or permanent snow/ice with less than 10% vegetation.',\n",
       "   u'Permanent Snow and Ice: at least 60% of area is covered by snow and ice for at least 10 months of the year.',\n",
       "   u'Water Bodies: at least 60% of area is covered by permanent water bodies.',\n",
       "   u'Urban and Built-up Lands: at least 30% of area is made up ofimpervious surfaces including building materials, asphalt, and vehicles.',\n",
       "   u'Dense Forests: tree cover >60% (canopy >2m).',\n",
       "   u'Open Forests: tree cover 10-60% (canopy >2m).',\n",
       "   u'Forest/Cropland Mosaics: mosaics of small-scale cultivation 40-60% with >10% natural tree cover.',\n",
       "   u'Natural Herbaceous: dominated by herbaceous annuals (<2m). At least 10% cover.',\n",
       "   u'Natural Herbaceous/Croplands Mosaics: mosaics of small-scale cultivation 40-60% with natural shrub or herbaceous vegetation.',\n",
       "   u'Herbaceous Croplands: dominated by herbaceous annuals (<2m). At least 60% cover. Cultivated fraction >60%.',\n",
       "   u'Shrublands: shrub cover >60% (1-2m).'],\n",
       "  u'LC_Prop2_class_palette': [u'f9ffa4',\n",
       "   u'69fff8',\n",
       "   u'1c0dff',\n",
       "   u'a5a5a5',\n",
       "   u'003f00',\n",
       "   u'006c00',\n",
       "   u'e3ff77',\n",
       "   u'b6ff05',\n",
       "   u'93ce04',\n",
       "   u'77a703',\n",
       "   u'dcd159'],\n",
       "  u'LC_Prop2_class_values': [1, 2, 3, 9, 10, 20, 25, 30, 35, 36, 40],\n",
       "  u'LC_Prop3_class_names': [u'Barren: at least of area 60% is non-vegetated barren (sand, rock, soil) or permanent snow/ice with less than 10% vegetation.',\n",
       "   u'Permanent Snow and Ice: at least 60% of area is covered by snow and ice for at least 10 months of the year.',\n",
       "   u'Water Bodies: at least 60% of area is covered by permanent water bodies.',\n",
       "   u'Dense Forests: tree cover >60% (canopy >2m).',\n",
       "   u'Open Forests: tree cover 10-60% (canopy >2m).',\n",
       "   u'Woody Wetlands: shrub and tree cover >10% (>1m). Permanently or seasonally inundated.',\n",
       "   u'Grasslands: dominated by herbaceous annuals (<2m) >10% cover.',\n",
       "   u'Shrublands: shrub cover >60% (1-2m).',\n",
       "   u'Herbaceous Wetlands: dominated by herbaceous annuals (<2m) >10% cover. Permanently or seasonally inundated.',\n",
       "   u'Tundra: tree cover <10%. Snow-covered for at least 8 months of the year.'],\n",
       "  u'LC_Prop3_class_palette': [u'f9ffa4',\n",
       "   u'69fff8',\n",
       "   u'1c0dff',\n",
       "   u'003f00',\n",
       "   u'006c00',\n",
       "   u'72834a',\n",
       "   u'b6ff05',\n",
       "   u'c6b044',\n",
       "   u'3aba73',\n",
       "   u'1e9db3'],\n",
       "  u'LC_Prop3_class_values': [1, 2, 3, 10, 20, 27, 30, 40, 50, 51],\n",
       "  u'LC_Type1_class_names': [u'Evergreen Needleleaf Forests: dominated by evergreen conifer trees (canopy >2m). Tree cover >60%.',\n",
       "   u'Evergreen Broadleaf Forests: dominated by evergreen broadleaf and palmate trees (canopy >2m). Tree cover >60%.',\n",
       "   u'Deciduous Needleleaf Forests: dominated by deciduous needleleaf (larch) trees (canopy >2m). Tree cover >60%.',\n",
       "   u'Deciduous Broadleaf Forests: dominated by deciduous broadleaf trees (canopy >2m). Tree cover >60%.',\n",
       "   u'Mixed Forests: dominated by neither deciduous nor evergreen (40-60% of each) tree type (canopy >2m). Tree cover >60%.',\n",
       "   u'Closed Shrublands: dominated by woody perennials (1-2m height) >60% cover.',\n",
       "   u'Open Shrublands: dominated by woody perennials (1-2m height) 10-60% cover.',\n",
       "   u'Woody Savannas: tree cover 30-60% (canopy >2m).',\n",
       "   u'Savannas: tree cover 10-30% (canopy >2m).',\n",
       "   u'Grasslands: dominated by herbaceous annuals (<2m).',\n",
       "   u'Permanent Wetlands: permanently inundated lands with 30-60% water cover and >10% vegetated cover.',\n",
       "   u'Croplands: at least 60% of area is cultivated cropland.',\n",
       "   u'Urban and Built-up Lands: at least 30% impervious surface area including building materials, asphalt and vehicles.',\n",
       "   u'Cropland/Natural Vegetation Mosaics: mosaics of small-scale cultivation 40-60% with natural tree, shrub, or herbaceous vegetation.',\n",
       "   u'Permanent Snow and Ice: at least 60% of area is covered by snow and ice for at least 10 months of the year.',\n",
       "   u'Barren: at least 60% of area is non-vegetated barren (sand, rock, soil) areas with less than 10% vegetation.',\n",
       "   u'Water Bodies: at least 60% of area is covered by permanent water bodies.'],\n",
       "  u'LC_Type1_class_palette': [u'05450a',\n",
       "   u'086a10',\n",
       "   u'54a708',\n",
       "   u'78d203',\n",
       "   u'009900',\n",
       "   u'c6b044',\n",
       "   u'dcd159',\n",
       "   u'dade48',\n",
       "   u'fbff13',\n",
       "   u'b6ff05',\n",
       "   u'27ff87',\n",
       "   u'c24f44',\n",
       "   u'a5a5a5',\n",
       "   u'ff6d4c',\n",
       "   u'69fff8',\n",
       "   u'f9ffa4',\n",
       "   u'1c0dff'],\n",
       "  u'LC_Type1_class_values': [1,\n",
       "   2,\n",
       "   3,\n",
       "   4,\n",
       "   5,\n",
       "   6,\n",
       "   7,\n",
       "   8,\n",
       "   9,\n",
       "   10,\n",
       "   11,\n",
       "   12,\n",
       "   13,\n",
       "   14,\n",
       "   15,\n",
       "   16,\n",
       "   17],\n",
       "  u'LC_Type2_class_names': [u'Water Bodies: at least 60% of area is covered by permanent water bodies.',\n",
       "   u'Evergreen Needleleaf Forests: dominated by evergreen conifer trees (canopy >2m). Tree cover >60%.',\n",
       "   u'Evergreen Broadleaf Forests: dominated by evergreen broadleaf and palmate trees (canopy >2m). Tree cover >60%.',\n",
       "   u'Deciduous Needleleaf Forests: dominated by deciduous needleleaf (larch) trees (canopy >2m). Tree cover >60%.',\n",
       "   u'Deciduous Broadleaf Forests: dominated by deciduous broadleaf trees (canopy >2m). Tree cover >60%.',\n",
       "   u'Mixed Forests: dominated by neither deciduous nor evergreen (40-60% of each) tree type (canopy >2m). Tree cover >60%.',\n",
       "   u'Closed Shrublands: dominated by woody perennials (1-2m height) >60% cover.',\n",
       "   u'Open Shrublands: dominated by woody perennials (1-2m height) 10-60% cover.',\n",
       "   u'Woody Savannas: tree cover 30-60% (canopy >2m).',\n",
       "   u'Savannas: tree cover 10-30% (canopy >2m).',\n",
       "   u'Grasslands: dominated by herbaceous annuals (<2m).',\n",
       "   u'Permanent Wetlands: permanently inundated lands with 30-60% water cover and >10% vegetated cover.',\n",
       "   u'Croplands: at least 60% of area is cultivated cropland.',\n",
       "   u'Urban and Built-up Lands: at least 30% impervious surface area including building materials, asphalt and vehicles.',\n",
       "   u'Cropland/Natural Vegetation Mosaics: mosaics of small-scale cultivation 40-60% with natural tree, shrub, or herbaceous vegetation.',\n",
       "   u'Non-Vegetated Lands: at least 60% of area is non-vegetated barren (sand, rock, soil) or permanent snow and ice with less than 10% vegetation.'],\n",
       "  u'LC_Type2_class_palette': [u'1c0dff',\n",
       "   u'05450a',\n",
       "   u'086a10',\n",
       "   u'54a708',\n",
       "   u'78d203',\n",
       "   u'009900',\n",
       "   u'c6b044',\n",
       "   u'dcd159',\n",
       "   u'dade48',\n",
       "   u'fbff13',\n",
       "   u'b6ff05',\n",
       "   u'27ff87',\n",
       "   u'c24f44',\n",
       "   u'a5a5a5',\n",
       "   u'ff6d4c',\n",
       "   u'f9ffa4'],\n",
       "  u'LC_Type2_class_values': [0,\n",
       "   1,\n",
       "   2,\n",
       "   3,\n",
       "   4,\n",
       "   5,\n",
       "   6,\n",
       "   7,\n",
       "   8,\n",
       "   9,\n",
       "   10,\n",
       "   11,\n",
       "   12,\n",
       "   13,\n",
       "   14,\n",
       "   15],\n",
       "  u'LC_Type3_class_names': [u'Water Bodies: at least 60% of area is covered by permanent water bodies.',\n",
       "   u'Grasslands: dominated by herbaceous annuals (<2m) including cereal croplands.',\n",
       "   u'Shrublands: shrub (1-2m) cover >10%.',\n",
       "   u'Broadleaf Croplands: bominated by herbaceous annuals (<2m) that are cultivated with broadleaf crops.',\n",
       "   u'Savannas: between 10-60% tree cover (>2m).',\n",
       "   u'Evergreen Broadleaf Forests: dominated by evergreen broadleaf and palmate trees (canopy >2m). Tree cover >60%.',\n",
       "   u'Deciduous Broadleaf Forests: dominated by deciduous broadleaf trees (canopy >2m). Tree cover >60%.',\n",
       "   u'Evergreen Needleleaf Forests: dominated by evergreen conifer trees (canopy >2m). Tree cover >60%.',\n",
       "   u'Deciduous Needleleaf Forests: dominated by deciduous needleleaf (larch) trees (canopy >2m). Tree cover >60%.',\n",
       "   u'Non-Vegetated Lands: at least 60% of area is non-vegetated barren (sand, rock, soil) or permanent snow and ice with less than 10% vegetation.',\n",
       "   u'Urban and Built-up Lands: at least 30% impervious surface area including building materials, asphalt and vehicles.'],\n",
       "  u'LC_Type3_class_palette': [u'1c0dff',\n",
       "   u'b6ff05',\n",
       "   u'dcd159',\n",
       "   u'c24f44',\n",
       "   u'fbff13',\n",
       "   u'086a10',\n",
       "   u'78d203',\n",
       "   u'05450a',\n",
       "   u'54a708',\n",
       "   u'f9ffa4',\n",
       "   u'a5a5a5'],\n",
       "  u'LC_Type3_class_values': [0, 1, 2, 3, 4, 5, 6, 7, 8, 9, 10],\n",
       "  u'LC_Type4_class_names': [u'Water Bodies: at least 60% of area is covered by permanent water bodies.',\n",
       "   u'Evergreen Needleleaf Vegetation: dominated by evergreen conifer trees and shrubs (>1m). Woody vegetation cover >10%.',\n",
       "   u'Evergreen Broadleaf Vegetation: dominated by evergreen broadleaf and palmate trees and shrubs (>1m). Woody vegetation cover >10%.',\n",
       "   u'Deciduous Needleleaf Vegetation: dominated by deciduous needleleaf (larch) trees and shrubs (>1m). Woody vegetation cover >10%.',\n",
       "   u'Deciduous Broadleaf Vegetation: dominated by deciduous broadleaf trees and shrubs (>1m). Woody vegetation cover >10%.',\n",
       "   u'Annual Broadleaf Vegetation: dominated by herbaceous annuals (<2m). At least 60% cultivated broadleaf crops.',\n",
       "   u'Annual Grass Vegetation: dominated by herbaceous annuals (<2m) including cereal croplands.',\n",
       "   u'Non-Vegetated Lands: at least 60% of area is non-vegetated barren (sand, rock, soil) or permanent snow/ice with less than 10% vegetation.',\n",
       "   u'Urban and Built-up Lands: at least 30% impervious surface area including building materials, asphalt, and vehicles.'],\n",
       "  u'LC_Type4_class_palette': [u'1c0dff',\n",
       "   u'05450a',\n",
       "   u'086a10',\n",
       "   u'54a708',\n",
       "   u'78d203',\n",
       "   u'009900',\n",
       "   u'b6ff05',\n",
       "   u'f9ffa4',\n",
       "   u'a5a5a5'],\n",
       "  u'LC_Type4_class_values': [0, 1, 2, 3, 4, 5, 6, 7, 8],\n",
       "  u'LC_Type5_class_names': [u'Water Bodies: at least 60% of area is covered by permanent water bodies.',\n",
       "   u'Evergreen Needleleaf Trees: dominated by evergreen conifer trees (>2m). Tree cover >10%.',\n",
       "   u'Evergreen Broadleaf Trees: dominated by evergreen broadleaf and palmate trees (>2m). Tree cover >10%.',\n",
       "   u'Deciduous Needleleaf Trees: dominated by deciduous needleleaf (larch) trees (>2m). Tree cover >10%.',\n",
       "   u'Deciduous Broadleaf Trees: dominated by deciduous broadleaf trees (>2m). Tree cover >10%.',\n",
       "   u'Shrub: Shrub (1-2m) cover >10%.',\n",
       "   u'Grass: dominated by herbaceous annuals (<2m) that are not cultivated.',\n",
       "   u'Cereal Croplands: dominated by herbaceous annuals (<2m). At least 60% cultivated cereal crops.',\n",
       "   u'Broadleaf Croplands: dominated by herbaceous annuals (<2m). At least 60% cultivated broadleaf crops.',\n",
       "   u'Urban and Built-up Lands: at least 30% impervious surface area including building materials, asphalt, and vehicles.',\n",
       "   u'Permanent Snow and Ice: at least 60% of area is covered by snow and ice for at least 10 months of the year.',\n",
       "   u'Non-Vegetated Lands: at least 60% of area is non-vegetated barren (sand, rock, soil) with less than 10% vegetation.'],\n",
       "  u'LC_Type5_class_palette': [u'1c0dff',\n",
       "   u'05450a',\n",
       "   u'086a10',\n",
       "   u'54a708',\n",
       "   u'78d203',\n",
       "   u'dcd159',\n",
       "   u'b6ff05',\n",
       "   u'dade48',\n",
       "   u'c24f44',\n",
       "   u'a5a5a5',\n",
       "   u'69fff8',\n",
       "   u'f9ffa4'],\n",
       "  u'LC_Type5_class_values': [0, 1, 2, 3, 4, 5, 6, 7, 8, 9, 10, 11],\n",
       "  u'LW_class_names': [u'Water', u'Land'],\n",
       "  u'LW_class_palette': [u'1c0dff', u'f9ffa4'],\n",
       "  u'LW_class_values': [1, 2],\n",
       "  u'system:asset_size': 1839986005,\n",
       "  u'system:footprint': {u'coordinates': [[-180.0, -90.0],\n",
       "    [180.0, -90.0],\n",
       "    [180.0, 90.0],\n",
       "    [-180.0, 90.0],\n",
       "    [-180.0, -90.0]],\n",
       "   u'type': u'LinearRing'},\n",
       "  u'system:index': u'2016_01_01',\n",
       "  u'system:time_end': 1483142400000,\n",
       "  u'system:time_start': 1451606400000},\n",
       " u'type': u'Image',\n",
       " u'version': 1534716950331894}"
      ]
     },
     "execution_count": 179,
     "metadata": {},
     "output_type": "execute_result"
    }
   ],
   "source": [
    "modislc_IGBP.filterDate('2016', '2018').first().getInfo()"
   ]
  },
  {
   "cell_type": "code",
   "execution_count": 46,
   "metadata": {},
   "outputs": [],
   "source": [
    "e = d.first()"
   ]
  },
  {
   "cell_type": "code",
   "execution_count": 52,
   "metadata": {},
   "outputs": [],
   "source": [
    "f = modis.filterDate('2013', '2016')"
   ]
  },
  {
   "cell_type": "code",
   "execution_count": 56,
   "metadata": {},
   "outputs": [
    {
     "data": {
      "text/plain": [
       "[u'LC_Type1',\n",
       " u'LC_Type2',\n",
       " u'LC_Type3',\n",
       " u'LC_Type4',\n",
       " u'LC_Type5',\n",
       " u'LC_Prop1_Assessment',\n",
       " u'LC_Prop2_Assessment',\n",
       " u'LC_Prop3_Assessment',\n",
       " u'LC_Prop1',\n",
       " u'LC_Prop2',\n",
       " u'LC_Prop3',\n",
       " u'QC',\n",
       " u'LW']"
      ]
     },
     "execution_count": 56,
     "metadata": {},
     "output_type": "execute_result"
    }
   ],
   "source": [
    "# how many bands (different LC classifications?) for each image\n",
    "g = f.first()\n",
    "g.bandNames().getInfo()"
   ]
  },
  {
   "cell_type": "markdown",
   "metadata": {},
   "source": [
    "# Explore meta data\n",
    "`ee.ImageCollection` and `ee.Image`"
   ]
  },
  {
   "cell_type": "code",
   "execution_count": 95,
   "metadata": {},
   "outputs": [],
   "source": [
    "meta_modis = modis.getInfo()"
   ]
  },
  {
   "cell_type": "code",
   "execution_count": 96,
   "metadata": {},
   "outputs": [
    {
     "data": {
      "text/plain": [
       "[u'features', u'bands', u'properties', u'version', u'type', u'id']"
      ]
     },
     "execution_count": 96,
     "metadata": {},
     "output_type": "execute_result"
    }
   ],
   "source": [
    "meta_modis.keys()"
   ]
  },
  {
   "cell_type": "code",
   "execution_count": 99,
   "metadata": {},
   "outputs": [
    {
     "data": {
      "text/plain": [
       "[u'provider_url',\n",
       " u'system:visualization_0_palette',\n",
       " u'system:visualization_0_max',\n",
       " u'system:visualization_0_bands',\n",
       " u'source_tags',\n",
       " u'title',\n",
       " u'period_mapping',\n",
       " u'description',\n",
       " u'product_tags',\n",
       " u'period',\n",
       " u'system:visualization_0_name',\n",
       " u'date_range',\n",
       " u'sample',\n",
       " u'system:is_global',\n",
       " u'system:visualization_0_min',\n",
       " u'provider',\n",
       " u'tags',\n",
       " u'thumb']"
      ]
     },
     "execution_count": 99,
     "metadata": {},
     "output_type": "execute_result"
    }
   ],
   "source": [
    "meta_modis['properties'].keys()"
   ]
  },
  {
   "cell_type": "code",
   "execution_count": 190,
   "metadata": {},
   "outputs": [
    {
     "data": {
      "text/plain": [
       "[978307200000.0, 1483142400000.0]"
      ]
     },
     "execution_count": 190,
     "metadata": {},
     "output_type": "execute_result"
    }
   ],
   "source": [
    "meta_modis['properties']['date_range']"
   ]
  },
  {
   "cell_type": "code",
   "execution_count": 188,
   "metadata": {},
   "outputs": [
    {
     "data": {
      "text/plain": [
       "{u'bands': [{u'crs': u'SR-ORG:6974',\n",
       "   u'crs_transform': [463.312716528,\n",
       "    0.0,\n",
       "    -20015109.354,\n",
       "    0.0,\n",
       "    -463.312716527,\n",
       "    10007554.677],\n",
       "   u'data_type': {u'max': 255,\n",
       "    u'min': 0,\n",
       "    u'precision': u'int',\n",
       "    u'type': u'PixelType'},\n",
       "   u'dimensions': [86400, 43200],\n",
       "   u'id': u'LC_Type1'},\n",
       "  {u'crs': u'SR-ORG:6974',\n",
       "   u'crs_transform': [463.312716528,\n",
       "    0.0,\n",
       "    -20015109.354,\n",
       "    0.0,\n",
       "    -463.312716527,\n",
       "    10007554.677],\n",
       "   u'data_type': {u'max': 255,\n",
       "    u'min': 0,\n",
       "    u'precision': u'int',\n",
       "    u'type': u'PixelType'},\n",
       "   u'dimensions': [86400, 43200],\n",
       "   u'id': u'LC_Type2'},\n",
       "  {u'crs': u'SR-ORG:6974',\n",
       "   u'crs_transform': [463.312716528,\n",
       "    0.0,\n",
       "    -20015109.354,\n",
       "    0.0,\n",
       "    -463.312716527,\n",
       "    10007554.677],\n",
       "   u'data_type': {u'max': 255,\n",
       "    u'min': 0,\n",
       "    u'precision': u'int',\n",
       "    u'type': u'PixelType'},\n",
       "   u'dimensions': [86400, 43200],\n",
       "   u'id': u'LC_Type3'},\n",
       "  {u'crs': u'SR-ORG:6974',\n",
       "   u'crs_transform': [463.312716528,\n",
       "    0.0,\n",
       "    -20015109.354,\n",
       "    0.0,\n",
       "    -463.312716527,\n",
       "    10007554.677],\n",
       "   u'data_type': {u'max': 255,\n",
       "    u'min': 0,\n",
       "    u'precision': u'int',\n",
       "    u'type': u'PixelType'},\n",
       "   u'dimensions': [86400, 43200],\n",
       "   u'id': u'LC_Type4'},\n",
       "  {u'crs': u'SR-ORG:6974',\n",
       "   u'crs_transform': [463.312716528,\n",
       "    0.0,\n",
       "    -20015109.354,\n",
       "    0.0,\n",
       "    -463.312716527,\n",
       "    10007554.677],\n",
       "   u'data_type': {u'max': 255,\n",
       "    u'min': 0,\n",
       "    u'precision': u'int',\n",
       "    u'type': u'PixelType'},\n",
       "   u'dimensions': [86400, 43200],\n",
       "   u'id': u'LC_Type5'},\n",
       "  {u'crs': u'SR-ORG:6974',\n",
       "   u'crs_transform': [463.312716528,\n",
       "    0.0,\n",
       "    -20015109.354,\n",
       "    0.0,\n",
       "    -463.312716527,\n",
       "    10007554.677],\n",
       "   u'data_type': {u'max': 255,\n",
       "    u'min': 0,\n",
       "    u'precision': u'int',\n",
       "    u'type': u'PixelType'},\n",
       "   u'dimensions': [86400, 43200],\n",
       "   u'id': u'LC_Prop1_Assessment'},\n",
       "  {u'crs': u'SR-ORG:6974',\n",
       "   u'crs_transform': [463.312716528,\n",
       "    0.0,\n",
       "    -20015109.354,\n",
       "    0.0,\n",
       "    -463.312716527,\n",
       "    10007554.677],\n",
       "   u'data_type': {u'max': 255,\n",
       "    u'min': 0,\n",
       "    u'precision': u'int',\n",
       "    u'type': u'PixelType'},\n",
       "   u'dimensions': [86400, 43200],\n",
       "   u'id': u'LC_Prop2_Assessment'},\n",
       "  {u'crs': u'SR-ORG:6974',\n",
       "   u'crs_transform': [463.312716528,\n",
       "    0.0,\n",
       "    -20015109.354,\n",
       "    0.0,\n",
       "    -463.312716527,\n",
       "    10007554.677],\n",
       "   u'data_type': {u'max': 255,\n",
       "    u'min': 0,\n",
       "    u'precision': u'int',\n",
       "    u'type': u'PixelType'},\n",
       "   u'dimensions': [86400, 43200],\n",
       "   u'id': u'LC_Prop3_Assessment'},\n",
       "  {u'crs': u'SR-ORG:6974',\n",
       "   u'crs_transform': [463.312716528,\n",
       "    0.0,\n",
       "    -20015109.354,\n",
       "    0.0,\n",
       "    -463.312716527,\n",
       "    10007554.677],\n",
       "   u'data_type': {u'max': 255,\n",
       "    u'min': 0,\n",
       "    u'precision': u'int',\n",
       "    u'type': u'PixelType'},\n",
       "   u'dimensions': [86400, 43200],\n",
       "   u'id': u'LC_Prop1'},\n",
       "  {u'crs': u'SR-ORG:6974',\n",
       "   u'crs_transform': [463.312716528,\n",
       "    0.0,\n",
       "    -20015109.354,\n",
       "    0.0,\n",
       "    -463.312716527,\n",
       "    10007554.677],\n",
       "   u'data_type': {u'max': 255,\n",
       "    u'min': 0,\n",
       "    u'precision': u'int',\n",
       "    u'type': u'PixelType'},\n",
       "   u'dimensions': [86400, 43200],\n",
       "   u'id': u'LC_Prop2'},\n",
       "  {u'crs': u'SR-ORG:6974',\n",
       "   u'crs_transform': [463.312716528,\n",
       "    0.0,\n",
       "    -20015109.354,\n",
       "    0.0,\n",
       "    -463.312716527,\n",
       "    10007554.677],\n",
       "   u'data_type': {u'max': 255,\n",
       "    u'min': 0,\n",
       "    u'precision': u'int',\n",
       "    u'type': u'PixelType'},\n",
       "   u'dimensions': [86400, 43200],\n",
       "   u'id': u'LC_Prop3'},\n",
       "  {u'crs': u'SR-ORG:6974',\n",
       "   u'crs_transform': [463.312716528,\n",
       "    0.0,\n",
       "    -20015109.354,\n",
       "    0.0,\n",
       "    -463.312716527,\n",
       "    10007554.677],\n",
       "   u'data_type': {u'max': 255,\n",
       "    u'min': 0,\n",
       "    u'precision': u'int',\n",
       "    u'type': u'PixelType'},\n",
       "   u'dimensions': [86400, 43200],\n",
       "   u'id': u'QC'},\n",
       "  {u'crs': u'SR-ORG:6974',\n",
       "   u'crs_transform': [463.312716528,\n",
       "    0.0,\n",
       "    -20015109.354,\n",
       "    0.0,\n",
       "    -463.312716527,\n",
       "    10007554.677],\n",
       "   u'data_type': {u'max': 255,\n",
       "    u'min': 0,\n",
       "    u'precision': u'int',\n",
       "    u'type': u'PixelType'},\n",
       "   u'dimensions': [86400, 43200],\n",
       "   u'id': u'LW'}],\n",
       " u'id': u'MODIS/006/MCD12Q1/2016_01_01',\n",
       " u'properties': {u'LC_Prop1_class_names': [u'Barren: at least of area 60% is non-vegetated barren (sand, rock, soil) or permanent snow/ice with less than 10% vegetation.',\n",
       "   u'Permanent Snow and Ice: at least 60% of area is covered by snow and ice for at least 10 months of the year.',\n",
       "   u'Water Bodies: at least 60% of area is covered by permanent water bodies.',\n",
       "   u'Evergreen Needleleaf Forests: dominated by evergreen conifer trees (>2m). Tree cover >60%.',\n",
       "   u'Evergreen Broadleaf Forests: dominated by evergreen broadleaf and palmate trees (>2m). Tree cover >60%.',\n",
       "   u'Deciduous Needleleaf Forests: dominated by deciduous needleleaf (larch) trees (>2m). Tree cover >60%.',\n",
       "   u'Deciduous Broadleaf Forests: dominated by deciduous broadleaf trees (>2m). Tree cover >60%.',\n",
       "   u'Mixed Broadleaf/Needleleaf Forests: co-dominated (40-60%) by broadleaf deciduous and evergreen needleleaf tree (>2m) types. Tree cover >60%.',\n",
       "   u'Mixed Broadleaf Evergreen/Deciduous Forests: co-dominated (40-60%) by broadleaf evergreen and deciduous tree (>2m) types. Tree cover >60%.',\n",
       "   u'Open Forests: tree cover 30-60% (canopy >2m).',\n",
       "   u'Sparse Forests: tree cover 10-30% (canopy >2m).',\n",
       "   u'Dense Herbaceous: dominated by herbaceous annuals (<2m) at least 60% cover.',\n",
       "   u'Sparse Herbaceous: dominated by herbaceous annuals (<2m) 10-60% cover.',\n",
       "   u'Dense Shrublands: dominated by woody perennials (1-2m) >60% cover.',\n",
       "   u'Shrubland/Grassland Mosaics: dominated by woody perennials (1-2m) 10-60% cover with dense herbaceous annual understory.',\n",
       "   u'Sparse Shrublands: dominated by woody perennials (1-2m) 10-60% cover with minimal herbaceous understory.'],\n",
       "  u'LC_Prop1_class_palette': [u'f9ffa4',\n",
       "   u'69fff8',\n",
       "   u'1c0dff',\n",
       "   u'05450a',\n",
       "   u'086a10',\n",
       "   u'54a708',\n",
       "   u'78d203',\n",
       "   u'005a00',\n",
       "   u'009900',\n",
       "   u'006c00',\n",
       "   u'00d000',\n",
       "   u'b6ff05',\n",
       "   u'98d604',\n",
       "   u'dcd159',\n",
       "   u'f1fb58',\n",
       "   u'fbee65'],\n",
       "  u'LC_Prop1_class_values': [1,\n",
       "   2,\n",
       "   3,\n",
       "   11,\n",
       "   12,\n",
       "   13,\n",
       "   14,\n",
       "   15,\n",
       "   16,\n",
       "   21,\n",
       "   22,\n",
       "   31,\n",
       "   32,\n",
       "   41,\n",
       "   42,\n",
       "   43],\n",
       "  u'LC_Prop2_class_names': [u'Barren: at least of area 60% is non-vegetated barren (sand, rock, soil) or permanent snow/ice with less than 10% vegetation.',\n",
       "   u'Permanent Snow and Ice: at least 60% of area is covered by snow and ice for at least 10 months of the year.',\n",
       "   u'Water Bodies: at least 60% of area is covered by permanent water bodies.',\n",
       "   u'Urban and Built-up Lands: at least 30% of area is made up ofimpervious surfaces including building materials, asphalt, and vehicles.',\n",
       "   u'Dense Forests: tree cover >60% (canopy >2m).',\n",
       "   u'Open Forests: tree cover 10-60% (canopy >2m).',\n",
       "   u'Forest/Cropland Mosaics: mosaics of small-scale cultivation 40-60% with >10% natural tree cover.',\n",
       "   u'Natural Herbaceous: dominated by herbaceous annuals (<2m). At least 10% cover.',\n",
       "   u'Natural Herbaceous/Croplands Mosaics: mosaics of small-scale cultivation 40-60% with natural shrub or herbaceous vegetation.',\n",
       "   u'Herbaceous Croplands: dominated by herbaceous annuals (<2m). At least 60% cover. Cultivated fraction >60%.',\n",
       "   u'Shrublands: shrub cover >60% (1-2m).'],\n",
       "  u'LC_Prop2_class_palette': [u'f9ffa4',\n",
       "   u'69fff8',\n",
       "   u'1c0dff',\n",
       "   u'a5a5a5',\n",
       "   u'003f00',\n",
       "   u'006c00',\n",
       "   u'e3ff77',\n",
       "   u'b6ff05',\n",
       "   u'93ce04',\n",
       "   u'77a703',\n",
       "   u'dcd159'],\n",
       "  u'LC_Prop2_class_values': [1, 2, 3, 9, 10, 20, 25, 30, 35, 36, 40],\n",
       "  u'LC_Prop3_class_names': [u'Barren: at least of area 60% is non-vegetated barren (sand, rock, soil) or permanent snow/ice with less than 10% vegetation.',\n",
       "   u'Permanent Snow and Ice: at least 60% of area is covered by snow and ice for at least 10 months of the year.',\n",
       "   u'Water Bodies: at least 60% of area is covered by permanent water bodies.',\n",
       "   u'Dense Forests: tree cover >60% (canopy >2m).',\n",
       "   u'Open Forests: tree cover 10-60% (canopy >2m).',\n",
       "   u'Woody Wetlands: shrub and tree cover >10% (>1m). Permanently or seasonally inundated.',\n",
       "   u'Grasslands: dominated by herbaceous annuals (<2m) >10% cover.',\n",
       "   u'Shrublands: shrub cover >60% (1-2m).',\n",
       "   u'Herbaceous Wetlands: dominated by herbaceous annuals (<2m) >10% cover. Permanently or seasonally inundated.',\n",
       "   u'Tundra: tree cover <10%. Snow-covered for at least 8 months of the year.'],\n",
       "  u'LC_Prop3_class_palette': [u'f9ffa4',\n",
       "   u'69fff8',\n",
       "   u'1c0dff',\n",
       "   u'003f00',\n",
       "   u'006c00',\n",
       "   u'72834a',\n",
       "   u'b6ff05',\n",
       "   u'c6b044',\n",
       "   u'3aba73',\n",
       "   u'1e9db3'],\n",
       "  u'LC_Prop3_class_values': [1, 2, 3, 10, 20, 27, 30, 40, 50, 51],\n",
       "  u'LC_Type1_class_names': [u'Evergreen Needleleaf Forests: dominated by evergreen conifer trees (canopy >2m). Tree cover >60%.',\n",
       "   u'Evergreen Broadleaf Forests: dominated by evergreen broadleaf and palmate trees (canopy >2m). Tree cover >60%.',\n",
       "   u'Deciduous Needleleaf Forests: dominated by deciduous needleleaf (larch) trees (canopy >2m). Tree cover >60%.',\n",
       "   u'Deciduous Broadleaf Forests: dominated by deciduous broadleaf trees (canopy >2m). Tree cover >60%.',\n",
       "   u'Mixed Forests: dominated by neither deciduous nor evergreen (40-60% of each) tree type (canopy >2m). Tree cover >60%.',\n",
       "   u'Closed Shrublands: dominated by woody perennials (1-2m height) >60% cover.',\n",
       "   u'Open Shrublands: dominated by woody perennials (1-2m height) 10-60% cover.',\n",
       "   u'Woody Savannas: tree cover 30-60% (canopy >2m).',\n",
       "   u'Savannas: tree cover 10-30% (canopy >2m).',\n",
       "   u'Grasslands: dominated by herbaceous annuals (<2m).',\n",
       "   u'Permanent Wetlands: permanently inundated lands with 30-60% water cover and >10% vegetated cover.',\n",
       "   u'Croplands: at least 60% of area is cultivated cropland.',\n",
       "   u'Urban and Built-up Lands: at least 30% impervious surface area including building materials, asphalt and vehicles.',\n",
       "   u'Cropland/Natural Vegetation Mosaics: mosaics of small-scale cultivation 40-60% with natural tree, shrub, or herbaceous vegetation.',\n",
       "   u'Permanent Snow and Ice: at least 60% of area is covered by snow and ice for at least 10 months of the year.',\n",
       "   u'Barren: at least 60% of area is non-vegetated barren (sand, rock, soil) areas with less than 10% vegetation.',\n",
       "   u'Water Bodies: at least 60% of area is covered by permanent water bodies.'],\n",
       "  u'LC_Type1_class_palette': [u'05450a',\n",
       "   u'086a10',\n",
       "   u'54a708',\n",
       "   u'78d203',\n",
       "   u'009900',\n",
       "   u'c6b044',\n",
       "   u'dcd159',\n",
       "   u'dade48',\n",
       "   u'fbff13',\n",
       "   u'b6ff05',\n",
       "   u'27ff87',\n",
       "   u'c24f44',\n",
       "   u'a5a5a5',\n",
       "   u'ff6d4c',\n",
       "   u'69fff8',\n",
       "   u'f9ffa4',\n",
       "   u'1c0dff'],\n",
       "  u'LC_Type1_class_values': [1,\n",
       "   2,\n",
       "   3,\n",
       "   4,\n",
       "   5,\n",
       "   6,\n",
       "   7,\n",
       "   8,\n",
       "   9,\n",
       "   10,\n",
       "   11,\n",
       "   12,\n",
       "   13,\n",
       "   14,\n",
       "   15,\n",
       "   16,\n",
       "   17],\n",
       "  u'LC_Type2_class_names': [u'Water Bodies: at least 60% of area is covered by permanent water bodies.',\n",
       "   u'Evergreen Needleleaf Forests: dominated by evergreen conifer trees (canopy >2m). Tree cover >60%.',\n",
       "   u'Evergreen Broadleaf Forests: dominated by evergreen broadleaf and palmate trees (canopy >2m). Tree cover >60%.',\n",
       "   u'Deciduous Needleleaf Forests: dominated by deciduous needleleaf (larch) trees (canopy >2m). Tree cover >60%.',\n",
       "   u'Deciduous Broadleaf Forests: dominated by deciduous broadleaf trees (canopy >2m). Tree cover >60%.',\n",
       "   u'Mixed Forests: dominated by neither deciduous nor evergreen (40-60% of each) tree type (canopy >2m). Tree cover >60%.',\n",
       "   u'Closed Shrublands: dominated by woody perennials (1-2m height) >60% cover.',\n",
       "   u'Open Shrublands: dominated by woody perennials (1-2m height) 10-60% cover.',\n",
       "   u'Woody Savannas: tree cover 30-60% (canopy >2m).',\n",
       "   u'Savannas: tree cover 10-30% (canopy >2m).',\n",
       "   u'Grasslands: dominated by herbaceous annuals (<2m).',\n",
       "   u'Permanent Wetlands: permanently inundated lands with 30-60% water cover and >10% vegetated cover.',\n",
       "   u'Croplands: at least 60% of area is cultivated cropland.',\n",
       "   u'Urban and Built-up Lands: at least 30% impervious surface area including building materials, asphalt and vehicles.',\n",
       "   u'Cropland/Natural Vegetation Mosaics: mosaics of small-scale cultivation 40-60% with natural tree, shrub, or herbaceous vegetation.',\n",
       "   u'Non-Vegetated Lands: at least 60% of area is non-vegetated barren (sand, rock, soil) or permanent snow and ice with less than 10% vegetation.'],\n",
       "  u'LC_Type2_class_palette': [u'1c0dff',\n",
       "   u'05450a',\n",
       "   u'086a10',\n",
       "   u'54a708',\n",
       "   u'78d203',\n",
       "   u'009900',\n",
       "   u'c6b044',\n",
       "   u'dcd159',\n",
       "   u'dade48',\n",
       "   u'fbff13',\n",
       "   u'b6ff05',\n",
       "   u'27ff87',\n",
       "   u'c24f44',\n",
       "   u'a5a5a5',\n",
       "   u'ff6d4c',\n",
       "   u'f9ffa4'],\n",
       "  u'LC_Type2_class_values': [0,\n",
       "   1,\n",
       "   2,\n",
       "   3,\n",
       "   4,\n",
       "   5,\n",
       "   6,\n",
       "   7,\n",
       "   8,\n",
       "   9,\n",
       "   10,\n",
       "   11,\n",
       "   12,\n",
       "   13,\n",
       "   14,\n",
       "   15],\n",
       "  u'LC_Type3_class_names': [u'Water Bodies: at least 60% of area is covered by permanent water bodies.',\n",
       "   u'Grasslands: dominated by herbaceous annuals (<2m) including cereal croplands.',\n",
       "   u'Shrublands: shrub (1-2m) cover >10%.',\n",
       "   u'Broadleaf Croplands: bominated by herbaceous annuals (<2m) that are cultivated with broadleaf crops.',\n",
       "   u'Savannas: between 10-60% tree cover (>2m).',\n",
       "   u'Evergreen Broadleaf Forests: dominated by evergreen broadleaf and palmate trees (canopy >2m). Tree cover >60%.',\n",
       "   u'Deciduous Broadleaf Forests: dominated by deciduous broadleaf trees (canopy >2m). Tree cover >60%.',\n",
       "   u'Evergreen Needleleaf Forests: dominated by evergreen conifer trees (canopy >2m). Tree cover >60%.',\n",
       "   u'Deciduous Needleleaf Forests: dominated by deciduous needleleaf (larch) trees (canopy >2m). Tree cover >60%.',\n",
       "   u'Non-Vegetated Lands: at least 60% of area is non-vegetated barren (sand, rock, soil) or permanent snow and ice with less than 10% vegetation.',\n",
       "   u'Urban and Built-up Lands: at least 30% impervious surface area including building materials, asphalt and vehicles.'],\n",
       "  u'LC_Type3_class_palette': [u'1c0dff',\n",
       "   u'b6ff05',\n",
       "   u'dcd159',\n",
       "   u'c24f44',\n",
       "   u'fbff13',\n",
       "   u'086a10',\n",
       "   u'78d203',\n",
       "   u'05450a',\n",
       "   u'54a708',\n",
       "   u'f9ffa4',\n",
       "   u'a5a5a5'],\n",
       "  u'LC_Type3_class_values': [0, 1, 2, 3, 4, 5, 6, 7, 8, 9, 10],\n",
       "  u'LC_Type4_class_names': [u'Water Bodies: at least 60% of area is covered by permanent water bodies.',\n",
       "   u'Evergreen Needleleaf Vegetation: dominated by evergreen conifer trees and shrubs (>1m). Woody vegetation cover >10%.',\n",
       "   u'Evergreen Broadleaf Vegetation: dominated by evergreen broadleaf and palmate trees and shrubs (>1m). Woody vegetation cover >10%.',\n",
       "   u'Deciduous Needleleaf Vegetation: dominated by deciduous needleleaf (larch) trees and shrubs (>1m). Woody vegetation cover >10%.',\n",
       "   u'Deciduous Broadleaf Vegetation: dominated by deciduous broadleaf trees and shrubs (>1m). Woody vegetation cover >10%.',\n",
       "   u'Annual Broadleaf Vegetation: dominated by herbaceous annuals (<2m). At least 60% cultivated broadleaf crops.',\n",
       "   u'Annual Grass Vegetation: dominated by herbaceous annuals (<2m) including cereal croplands.',\n",
       "   u'Non-Vegetated Lands: at least 60% of area is non-vegetated barren (sand, rock, soil) or permanent snow/ice with less than 10% vegetation.',\n",
       "   u'Urban and Built-up Lands: at least 30% impervious surface area including building materials, asphalt, and vehicles.'],\n",
       "  u'LC_Type4_class_palette': [u'1c0dff',\n",
       "   u'05450a',\n",
       "   u'086a10',\n",
       "   u'54a708',\n",
       "   u'78d203',\n",
       "   u'009900',\n",
       "   u'b6ff05',\n",
       "   u'f9ffa4',\n",
       "   u'a5a5a5'],\n",
       "  u'LC_Type4_class_values': [0, 1, 2, 3, 4, 5, 6, 7, 8],\n",
       "  u'LC_Type5_class_names': [u'Water Bodies: at least 60% of area is covered by permanent water bodies.',\n",
       "   u'Evergreen Needleleaf Trees: dominated by evergreen conifer trees (>2m). Tree cover >10%.',\n",
       "   u'Evergreen Broadleaf Trees: dominated by evergreen broadleaf and palmate trees (>2m). Tree cover >10%.',\n",
       "   u'Deciduous Needleleaf Trees: dominated by deciduous needleleaf (larch) trees (>2m). Tree cover >10%.',\n",
       "   u'Deciduous Broadleaf Trees: dominated by deciduous broadleaf trees (>2m). Tree cover >10%.',\n",
       "   u'Shrub: Shrub (1-2m) cover >10%.',\n",
       "   u'Grass: dominated by herbaceous annuals (<2m) that are not cultivated.',\n",
       "   u'Cereal Croplands: dominated by herbaceous annuals (<2m). At least 60% cultivated cereal crops.',\n",
       "   u'Broadleaf Croplands: dominated by herbaceous annuals (<2m). At least 60% cultivated broadleaf crops.',\n",
       "   u'Urban and Built-up Lands: at least 30% impervious surface area including building materials, asphalt, and vehicles.',\n",
       "   u'Permanent Snow and Ice: at least 60% of area is covered by snow and ice for at least 10 months of the year.',\n",
       "   u'Non-Vegetated Lands: at least 60% of area is non-vegetated barren (sand, rock, soil) with less than 10% vegetation.'],\n",
       "  u'LC_Type5_class_palette': [u'1c0dff',\n",
       "   u'05450a',\n",
       "   u'086a10',\n",
       "   u'54a708',\n",
       "   u'78d203',\n",
       "   u'dcd159',\n",
       "   u'b6ff05',\n",
       "   u'dade48',\n",
       "   u'c24f44',\n",
       "   u'a5a5a5',\n",
       "   u'69fff8',\n",
       "   u'f9ffa4'],\n",
       "  u'LC_Type5_class_values': [0, 1, 2, 3, 4, 5, 6, 7, 8, 9, 10, 11],\n",
       "  u'LW_class_names': [u'Water', u'Land'],\n",
       "  u'LW_class_palette': [u'1c0dff', u'f9ffa4'],\n",
       "  u'LW_class_values': [1, 2],\n",
       "  u'system:asset_size': 1839986005,\n",
       "  u'system:footprint': {u'coordinates': [[-180.0, -90.0],\n",
       "    [180.0, -90.0],\n",
       "    [180.0, 90.0],\n",
       "    [-180.0, 90.0],\n",
       "    [-180.0, -90.0]],\n",
       "   u'type': u'LinearRing'},\n",
       "  u'system:index': u'2016_01_01',\n",
       "  u'system:time_end': 1483142400000,\n",
       "  u'system:time_start': 1451606400000},\n",
       " u'type': u'Image',\n",
       " u'version': 1534716950331894}"
      ]
     },
     "execution_count": 188,
     "metadata": {},
     "output_type": "execute_result"
    }
   ],
   "source": [
    "modis.filterDate('2016-01-01', '2016-12-31').first().getInfo()"
   ]
  },
  {
   "cell_type": "code",
   "execution_count": 184,
   "metadata": {},
   "outputs": [
    {
     "data": {
      "text/html": [
       "<p>The MCD12Q1 V6 product provides global land cover types at yearly intervals\n",
       "(2001-2016) derived from six different classification schemes. It is derived\n",
       "using supervised classifications of MODIS Terra and Aqua reflectance data.\n",
       "The supervised classifications then undergo additional post-processing that\n",
       "incorporate prior knowledge and ancillary information to further refine\n",
       "specific classes.</p><p><b>Resolution</b><br>500 meters\n",
       "</p><p><b>Cadence</b><br>\n",
       "  1 year\n",
       "</p><p><b>Bands</b><table class=\"eecat\"><tr><th scope=\"col\">Name</th><th scope=\"col\">Units</th><th scope=\"col\">Min</th><th scope=\"col\">Max</th><th scope=\"col\">Description</th></tr><tr><td>LC_Type1</td><td></td><td></td><td></td><td><p>Land Cover Type 1: Annual International Geosphere-Biosphere Programme (IGBP) classification</p></td></tr><tr><td>LC_Type2</td><td></td><td></td><td></td><td><p>Land Cover Type 2: Annual University of Maryland (UMD) classification</p></td></tr><tr><td>LC_Type3</td><td></td><td></td><td></td><td><p>Land Cover Type 3: Annual Leaf Area Index (LAI) classification</p></td></tr><tr><td>LC_Type4</td><td></td><td></td><td></td><td><p>Land Cover Type 4: Annual BIOME-Biogeochemical Cycles (BGC) classification</p></td></tr><tr><td>LC_Type5</td><td></td><td></td><td></td><td><p>Land Cover Type 5: Annual Plant Functional Types classification</p></td></tr><tr><td>LC_Prop1_Assessment</td><td>%</td><td>\n",
       "          0\n",
       "</td><td>\n",
       "          100\n",
       "</td><td><p>LCCS1 land cover layer confidence</p></td></tr><tr><td>LC_Prop2_Assessment</td><td>%</td><td>\n",
       "          0\n",
       "</td><td>\n",
       "          100\n",
       "</td><td><p>LCCS2 land use layer confidence</p></td></tr><tr><td>LC_Prop3_Assessment</td><td>%</td><td>\n",
       "          0\n",
       "</td><td>\n",
       "          100\n",
       "</td><td><p>LCCS3 surface hydrology layer confidence</p></td></tr><tr><td>LC_Prop1</td><td></td><td></td><td></td><td><p>FAO-Land Cover Classification System 1 (LCCS1) land cover layer</p></td></tr><tr><td>LC_Prop2</td><td></td><td></td><td></td><td><p>FAO-LCCS2 land use layer</p></td></tr><tr><td>LC_Prop3</td><td></td><td></td><td></td><td><p>FAO-LCCS3 surface hydrology layer</p></td></tr><tr><td>QC</td><td></td><td></td><td></td><td><p>Product quality flags</p></td></tr><tr><td>LW</td><td></td><td></td><td></td><td><p>Binary land (class 2) / water (class 1) mask derived from MOD44W</p></td></tr></table><p><b>LC_Type1 Class Table</b><table class=\"eecat\"><tr><th scope=\"col\">Value</th><th scope=\"col\">Color</th><th scope=\"col\">Description</th></tr><tr><td>1</td><td><span style=\"background-color:05450a\">05450a</span></td><td>Evergreen Needleleaf Forests: dominated by evergreen conifer trees (canopy >2m). Tree cover >60%.</td></tr><tr><td>2</td><td><span style=\"background-color:086a10\">086a10</span></td><td>Evergreen Broadleaf Forests: dominated by evergreen broadleaf and palmate trees (canopy >2m). Tree cover >60%.</td></tr><tr><td>3</td><td><span style=\"background-color:54a708\">54a708</span></td><td>Deciduous Needleleaf Forests: dominated by deciduous needleleaf (larch) trees (canopy >2m). Tree cover >60%.</td></tr><tr><td>4</td><td><span style=\"background-color:78d203\">78d203</span></td><td>Deciduous Broadleaf Forests: dominated by deciduous broadleaf trees (canopy >2m). Tree cover >60%.</td></tr><tr><td>5</td><td><span style=\"background-color:009900\">009900</span></td><td>Mixed Forests: dominated by neither deciduous nor evergreen (40-60% of each) tree type (canopy >2m). Tree cover >60%.</td></tr><tr><td>6</td><td><span style=\"background-color:c6b044\">c6b044</span></td><td>Closed Shrublands: dominated by woody perennials (1-2m height) >60% cover.</td></tr><tr><td>7</td><td><span style=\"background-color:dcd159\">dcd159</span></td><td>Open Shrublands: dominated by woody perennials (1-2m height) 10-60% cover.</td></tr><tr><td>8</td><td><span style=\"background-color:dade48\">dade48</span></td><td>Woody Savannas: tree cover 30-60% (canopy >2m).</td></tr><tr><td>9</td><td><span style=\"background-color:fbff13\">fbff13</span></td><td>Savannas: tree cover 10-30% (canopy >2m).</td></tr><tr><td>10</td><td><span style=\"background-color:b6ff05\">b6ff05</span></td><td>Grasslands: dominated by herbaceous annuals (<2m).</td></tr><tr><td>11</td><td><span style=\"background-color:27ff87\">27ff87</span></td><td>Permanent Wetlands: permanently inundated lands with 30-60% water cover and >10% vegetated cover.</td></tr><tr><td>12</td><td><span style=\"background-color:c24f44\">c24f44</span></td><td>Croplands: at least 60% of area is cultivated cropland.</td></tr><tr><td>13</td><td><span style=\"background-color:a5a5a5\">a5a5a5</span></td><td>Urban and Built-up Lands: at least 30% impervious surface area including building materials, asphalt and vehicles.</td></tr><tr><td>14</td><td><span style=\"background-color:ff6d4c\">ff6d4c</span></td><td>Cropland/Natural Vegetation Mosaics: mosaics of small-scale cultivation 40-60% with natural tree, shrub, or herbaceous vegetation.</td></tr><tr><td>15</td><td><span style=\"background-color:69fff8\">69fff8</span></td><td>Permanent Snow and Ice: at least 60% of area is covered by snow and ice for at least 10 months of the year.</td></tr><tr><td>16</td><td><span style=\"background-color:f9ffa4\">f9ffa4</span></td><td>Barren: at least 60% of area is non-vegetated barren (sand, rock, soil) areas with less than 10% vegetation.</td></tr><tr><td>17</td><td><span style=\"background-color:1c0dff\">1c0dff</span></td><td>Water Bodies: at least 60% of area is covered by permanent water bodies.</td></tr></table><p><b>LC_Type2 Class Table</b><table class=\"eecat\"><tr><th scope=\"col\">Value</th><th scope=\"col\">Color</th><th scope=\"col\">Description</th></tr><tr><td>0</td><td><span style=\"background-color:1c0dff\">1c0dff</span></td><td>Water Bodies: at least 60% of area is covered by permanent water bodies.</td></tr><tr><td>1</td><td><span style=\"background-color:05450a\">05450a</span></td><td>Evergreen Needleleaf Forests: dominated by evergreen conifer trees (canopy >2m). Tree cover >60%.</td></tr><tr><td>2</td><td><span style=\"background-color:086a10\">086a10</span></td><td>Evergreen Broadleaf Forests: dominated by evergreen broadleaf and palmate trees (canopy >2m). Tree cover >60%.</td></tr><tr><td>3</td><td><span style=\"background-color:54a708\">54a708</span></td><td>Deciduous Needleleaf Forests: dominated by deciduous needleleaf (larch) trees (canopy >2m). Tree cover >60%.</td></tr><tr><td>4</td><td><span style=\"background-color:78d203\">78d203</span></td><td>Deciduous Broadleaf Forests: dominated by deciduous broadleaf trees (canopy >2m). Tree cover >60%.</td></tr><tr><td>5</td><td><span style=\"background-color:009900\">009900</span></td><td>Mixed Forests: dominated by neither deciduous nor evergreen (40-60% of each) tree type (canopy >2m). Tree cover >60%.</td></tr><tr><td>6</td><td><span style=\"background-color:c6b044\">c6b044</span></td><td>Closed Shrublands: dominated by woody perennials (1-2m height) >60% cover.</td></tr><tr><td>7</td><td><span style=\"background-color:dcd159\">dcd159</span></td><td>Open Shrublands: dominated by woody perennials (1-2m height) 10-60% cover.</td></tr><tr><td>8</td><td><span style=\"background-color:dade48\">dade48</span></td><td>Woody Savannas: tree cover 30-60% (canopy >2m).</td></tr><tr><td>9</td><td><span style=\"background-color:fbff13\">fbff13</span></td><td>Savannas: tree cover 10-30% (canopy >2m).</td></tr><tr><td>10</td><td><span style=\"background-color:b6ff05\">b6ff05</span></td><td>Grasslands: dominated by herbaceous annuals (<2m).</td></tr><tr><td>11</td><td><span style=\"background-color:27ff87\">27ff87</span></td><td>Permanent Wetlands: permanently inundated lands with 30-60% water cover and >10% vegetated cover.</td></tr><tr><td>12</td><td><span style=\"background-color:c24f44\">c24f44</span></td><td>Croplands: at least 60% of area is cultivated cropland.</td></tr><tr><td>13</td><td><span style=\"background-color:a5a5a5\">a5a5a5</span></td><td>Urban and Built-up Lands: at least 30% impervious surface area including building materials, asphalt and vehicles.</td></tr><tr><td>14</td><td><span style=\"background-color:ff6d4c\">ff6d4c</span></td><td>Cropland/Natural Vegetation Mosaics: mosaics of small-scale cultivation 40-60% with natural tree, shrub, or herbaceous vegetation.</td></tr><tr><td>15</td><td><span style=\"background-color:f9ffa4\">f9ffa4</span></td><td>Non-Vegetated Lands: at least 60% of area is non-vegetated barren (sand, rock, soil) or permanent snow and ice with less than 10% vegetation.</td></tr></table><p><b>LC_Type3 Class Table</b><table class=\"eecat\"><tr><th scope=\"col\">Value</th><th scope=\"col\">Color</th><th scope=\"col\">Description</th></tr><tr><td>0</td><td><span style=\"background-color:1c0dff\">1c0dff</span></td><td>Water Bodies: at least 60% of area is covered by permanent water bodies.</td></tr><tr><td>1</td><td><span style=\"background-color:b6ff05\">b6ff05</span></td><td>Grasslands: dominated by herbaceous annuals (<2m) including cereal croplands.</td></tr><tr><td>2</td><td><span style=\"background-color:dcd159\">dcd159</span></td><td>Shrublands: shrub (1-2m) cover >10%.</td></tr><tr><td>3</td><td><span style=\"background-color:c24f44\">c24f44</span></td><td>Broadleaf Croplands: bominated by herbaceous annuals (<2m) that are cultivated with broadleaf crops.</td></tr><tr><td>4</td><td><span style=\"background-color:fbff13\">fbff13</span></td><td>Savannas: between 10-60% tree cover (>2m).</td></tr><tr><td>5</td><td><span style=\"background-color:086a10\">086a10</span></td><td>Evergreen Broadleaf Forests: dominated by evergreen broadleaf and palmate trees (canopy >2m). Tree cover >60%.</td></tr><tr><td>6</td><td><span style=\"background-color:78d203\">78d203</span></td><td>Deciduous Broadleaf Forests: dominated by deciduous broadleaf trees (canopy >2m). Tree cover >60%.</td></tr><tr><td>7</td><td><span style=\"background-color:05450a\">05450a</span></td><td>Evergreen Needleleaf Forests: dominated by evergreen conifer trees (canopy >2m). Tree cover >60%.</td></tr><tr><td>8</td><td><span style=\"background-color:54a708\">54a708</span></td><td>Deciduous Needleleaf Forests: dominated by deciduous needleleaf (larch) trees (canopy >2m). Tree cover >60%.</td></tr><tr><td>9</td><td><span style=\"background-color:f9ffa4\">f9ffa4</span></td><td>Non-Vegetated Lands: at least 60% of area is non-vegetated barren (sand, rock, soil) or permanent snow and ice with less than 10% vegetation.</td></tr><tr><td>10</td><td><span style=\"background-color:a5a5a5\">a5a5a5</span></td><td>Urban and Built-up Lands: at least 30% impervious surface area including building materials, asphalt and vehicles.</td></tr></table><p><b>LC_Type4 Class Table</b><table class=\"eecat\"><tr><th scope=\"col\">Value</th><th scope=\"col\">Color</th><th scope=\"col\">Description</th></tr><tr><td>0</td><td><span style=\"background-color:1c0dff\">1c0dff</span></td><td>Water Bodies: at least 60% of area is covered by permanent water bodies.</td></tr><tr><td>1</td><td><span style=\"background-color:05450a\">05450a</span></td><td>Evergreen Needleleaf Vegetation: dominated by evergreen conifer trees and shrubs (>1m). Woody vegetation cover >10%.</td></tr><tr><td>2</td><td><span style=\"background-color:086a10\">086a10</span></td><td>Evergreen Broadleaf Vegetation: dominated by evergreen broadleaf and palmate trees and shrubs (>1m). Woody vegetation cover >10%.</td></tr><tr><td>3</td><td><span style=\"background-color:54a708\">54a708</span></td><td>Deciduous Needleleaf Vegetation: dominated by deciduous needleleaf (larch) trees and shrubs (>1m). Woody vegetation cover >10%.</td></tr><tr><td>4</td><td><span style=\"background-color:78d203\">78d203</span></td><td>Deciduous Broadleaf Vegetation: dominated by deciduous broadleaf trees and shrubs (>1m). Woody vegetation cover >10%.</td></tr><tr><td>5</td><td><span style=\"background-color:009900\">009900</span></td><td>Annual Broadleaf Vegetation: dominated by herbaceous annuals (<2m). At least 60% cultivated broadleaf crops.</td></tr><tr><td>6</td><td><span style=\"background-color:b6ff05\">b6ff05</span></td><td>Annual Grass Vegetation: dominated by herbaceous annuals (<2m) including cereal croplands.</td></tr><tr><td>7</td><td><span style=\"background-color:f9ffa4\">f9ffa4</span></td><td>Non-Vegetated Lands: at least 60% of area is non-vegetated barren (sand, rock, soil) or permanent snow/ice with less than 10% vegetation.</td></tr><tr><td>8</td><td><span style=\"background-color:a5a5a5\">a5a5a5</span></td><td>Urban and Built-up Lands: at least 30% impervious surface area including building materials, asphalt, and vehicles.</td></tr></table><p><b>LC_Type5 Class Table</b><table class=\"eecat\"><tr><th scope=\"col\">Value</th><th scope=\"col\">Color</th><th scope=\"col\">Description</th></tr><tr><td>0</td><td><span style=\"background-color:1c0dff\">1c0dff</span></td><td>Water Bodies: at least 60% of area is covered by permanent water bodies.</td></tr><tr><td>1</td><td><span style=\"background-color:05450a\">05450a</span></td><td>Evergreen Needleleaf Trees: dominated by evergreen conifer trees (>2m). Tree cover >10%.</td></tr><tr><td>2</td><td><span style=\"background-color:086a10\">086a10</span></td><td>Evergreen Broadleaf Trees: dominated by evergreen broadleaf and palmate trees (>2m). Tree cover >10%.</td></tr><tr><td>3</td><td><span style=\"background-color:54a708\">54a708</span></td><td>Deciduous Needleleaf Trees: dominated by deciduous needleleaf (larch) trees (>2m). Tree cover >10%.</td></tr><tr><td>4</td><td><span style=\"background-color:78d203\">78d203</span></td><td>Deciduous Broadleaf Trees: dominated by deciduous broadleaf trees (>2m). Tree cover >10%.</td></tr><tr><td>5</td><td><span style=\"background-color:dcd159\">dcd159</span></td><td>Shrub: Shrub (1-2m) cover >10%.</td></tr><tr><td>6</td><td><span style=\"background-color:b6ff05\">b6ff05</span></td><td>Grass: dominated by herbaceous annuals (<2m) that are not cultivated.</td></tr><tr><td>7</td><td><span style=\"background-color:dade48\">dade48</span></td><td>Cereal Croplands: dominated by herbaceous annuals (<2m). At least 60% cultivated cereal crops.</td></tr><tr><td>8</td><td><span style=\"background-color:c24f44\">c24f44</span></td><td>Broadleaf Croplands: dominated by herbaceous annuals (<2m). At least 60% cultivated broadleaf crops.</td></tr><tr><td>9</td><td><span style=\"background-color:a5a5a5\">a5a5a5</span></td><td>Urban and Built-up Lands: at least 30% impervious surface area including building materials, asphalt, and vehicles.</td></tr><tr><td>10</td><td><span style=\"background-color:69fff8\">69fff8</span></td><td>Permanent Snow and Ice: at least 60% of area is covered by snow and ice for at least 10 months of the year.</td></tr><tr><td>11</td><td><span style=\"background-color:f9ffa4\">f9ffa4</span></td><td>Non-Vegetated Lands: at least 60% of area is non-vegetated barren (sand, rock, soil) with less than 10% vegetation.</td></tr></table><p><b>LC_Prop1 Class Table</b><table class=\"eecat\"><tr><th scope=\"col\">Value</th><th scope=\"col\">Color</th><th scope=\"col\">Description</th></tr><tr><td>1</td><td><span style=\"background-color:f9ffa4\">f9ffa4</span></td><td>Barren: at least of area 60% is non-vegetated barren (sand, rock, soil) or permanent snow/ice with less than 10% vegetation.</td></tr><tr><td>2</td><td><span style=\"background-color:69fff8\">69fff8</span></td><td>Permanent Snow and Ice: at least 60% of area is covered by snow and ice for at least 10 months of the year.</td></tr><tr><td>3</td><td><span style=\"background-color:1c0dff\">1c0dff</span></td><td>Water Bodies: at least 60% of area is covered by permanent water bodies.</td></tr><tr><td>11</td><td><span style=\"background-color:05450a\">05450a</span></td><td>Evergreen Needleleaf Forests: dominated by evergreen conifer trees (>2m). Tree cover >60%.</td></tr><tr><td>12</td><td><span style=\"background-color:086a10\">086a10</span></td><td>Evergreen Broadleaf Forests: dominated by evergreen broadleaf and palmate trees (>2m). Tree cover >60%.</td></tr><tr><td>13</td><td><span style=\"background-color:54a708\">54a708</span></td><td>Deciduous Needleleaf Forests: dominated by deciduous needleleaf (larch) trees (>2m). Tree cover >60%.</td></tr><tr><td>14</td><td><span style=\"background-color:78d203\">78d203</span></td><td>Deciduous Broadleaf Forests: dominated by deciduous broadleaf trees (>2m). Tree cover >60%.</td></tr><tr><td>15</td><td><span style=\"background-color:005a00\">005a00</span></td><td>Mixed Broadleaf/Needleleaf Forests: co-dominated (40-60%) by broadleaf deciduous and evergreen needleleaf tree (>2m) types. Tree cover >60%.</td></tr><tr><td>16</td><td><span style=\"background-color:009900\">009900</span></td><td>Mixed Broadleaf Evergreen/Deciduous Forests: co-dominated (40-60%) by broadleaf evergreen and deciduous tree (>2m) types. Tree cover >60%.</td></tr><tr><td>21</td><td><span style=\"background-color:006c00\">006c00</span></td><td>Open Forests: tree cover 30-60% (canopy >2m).</td></tr><tr><td>22</td><td><span style=\"background-color:00d000\">00d000</span></td><td>Sparse Forests: tree cover 10-30% (canopy >2m).</td></tr><tr><td>31</td><td><span style=\"background-color:b6ff05\">b6ff05</span></td><td>Dense Herbaceous: dominated by herbaceous annuals (<2m) at least 60% cover.</td></tr><tr><td>32</td><td><span style=\"background-color:98d604\">98d604</span></td><td>Sparse Herbaceous: dominated by herbaceous annuals (<2m) 10-60% cover.</td></tr><tr><td>41</td><td><span style=\"background-color:dcd159\">dcd159</span></td><td>Dense Shrublands: dominated by woody perennials (1-2m) >60% cover.</td></tr><tr><td>42</td><td><span style=\"background-color:f1fb58\">f1fb58</span></td><td>Shrubland/Grassland Mosaics: dominated by woody perennials (1-2m) 10-60% cover with dense herbaceous annual understory.</td></tr><tr><td>43</td><td><span style=\"background-color:fbee65\">fbee65</span></td><td>Sparse Shrublands: dominated by woody perennials (1-2m) 10-60% cover with minimal herbaceous understory.</td></tr></table><p><b>LC_Prop2 Class Table</b><table class=\"eecat\"><tr><th scope=\"col\">Value</th><th scope=\"col\">Color</th><th scope=\"col\">Description</th></tr><tr><td>1</td><td><span style=\"background-color:f9ffa4\">f9ffa4</span></td><td>Barren: at least of area 60% is non-vegetated barren (sand, rock, soil) or permanent snow/ice with less than 10% vegetation.</td></tr><tr><td>2</td><td><span style=\"background-color:69fff8\">69fff8</span></td><td>Permanent Snow and Ice: at least 60% of area is covered by snow and ice for at least 10 months of the year.</td></tr><tr><td>3</td><td><span style=\"background-color:1c0dff\">1c0dff</span></td><td>Water Bodies: at least 60% of area is covered by permanent water bodies.</td></tr><tr><td>9</td><td><span style=\"background-color:a5a5a5\">a5a5a5</span></td><td>Urban and Built-up Lands: at least 30% of area is made up ofimpervious surfaces including building materials, asphalt, and vehicles.</td></tr><tr><td>10</td><td><span style=\"background-color:003f00\">003f00</span></td><td>Dense Forests: tree cover >60% (canopy >2m).</td></tr><tr><td>20</td><td><span style=\"background-color:006c00\">006c00</span></td><td>Open Forests: tree cover 10-60% (canopy >2m).</td></tr><tr><td>25</td><td><span style=\"background-color:e3ff77\">e3ff77</span></td><td>Forest/Cropland Mosaics: mosaics of small-scale cultivation 40-60% with >10% natural tree cover.</td></tr><tr><td>30</td><td><span style=\"background-color:b6ff05\">b6ff05</span></td><td>Natural Herbaceous: dominated by herbaceous annuals (<2m). At least 10% cover.</td></tr><tr><td>35</td><td><span style=\"background-color:93ce04\">93ce04</span></td><td>Natural Herbaceous/Croplands Mosaics: mosaics of small-scale cultivation 40-60% with natural shrub or herbaceous vegetation.</td></tr><tr><td>36</td><td><span style=\"background-color:77a703\">77a703</span></td><td>Herbaceous Croplands: dominated by herbaceous annuals (<2m). At least 60% cover. Cultivated fraction >60%.</td></tr><tr><td>40</td><td><span style=\"background-color:dcd159\">dcd159</span></td><td>Shrublands: shrub cover >60% (1-2m).</td></tr></table><p><b>LC_Prop3 Class Table</b><table class=\"eecat\"><tr><th scope=\"col\">Value</th><th scope=\"col\">Color</th><th scope=\"col\">Description</th></tr><tr><td>1</td><td><span style=\"background-color:f9ffa4\">f9ffa4</span></td><td>Barren: at least of area 60% is non-vegetated barren (sand, rock, soil) or permanent snow/ice with less than 10% vegetation.</td></tr><tr><td>2</td><td><span style=\"background-color:69fff8\">69fff8</span></td><td>Permanent Snow and Ice: at least 60% of area is covered by snow and ice for at least 10 months of the year.</td></tr><tr><td>3</td><td><span style=\"background-color:1c0dff\">1c0dff</span></td><td>Water Bodies: at least 60% of area is covered by permanent water bodies.</td></tr><tr><td>10</td><td><span style=\"background-color:003f00\">003f00</span></td><td>Dense Forests: tree cover >60% (canopy >2m).</td></tr><tr><td>20</td><td><span style=\"background-color:006c00\">006c00</span></td><td>Open Forests: tree cover 10-60% (canopy >2m).</td></tr><tr><td>27</td><td><span style=\"background-color:72834a\">72834a</span></td><td>Woody Wetlands: shrub and tree cover >10% (>1m). Permanently or seasonally inundated.</td></tr><tr><td>30</td><td><span style=\"background-color:b6ff05\">b6ff05</span></td><td>Grasslands: dominated by herbaceous annuals (<2m) >10% cover.</td></tr><tr><td>40</td><td><span style=\"background-color:c6b044\">c6b044</span></td><td>Shrublands: shrub cover >60% (1-2m).</td></tr><tr><td>50</td><td><span style=\"background-color:3aba73\">3aba73</span></td><td>Herbaceous Wetlands: dominated by herbaceous annuals (<2m) >10% cover. Permanently or seasonally inundated.</td></tr><tr><td>51</td><td><span style=\"background-color:1e9db3\">1e9db3</span></td><td>Tundra: tree cover <10%. Snow-covered for at least 8 months of the year.</td></tr></table><p><b>QC Class Table</b><table class=\"eecat\"><tr><th scope=\"col\">Value</th><th scope=\"col\">Color</th><th scope=\"col\">Description</th></tr><tr><td>0</td><td><span style=\"background-color:\"></span></td><td>Classified land: has a classification label and is land according to the water mask.</td></tr><tr><td>1</td><td><span style=\"background-color:\"></span></td><td>Unclassified land: not classified because of missing data but land according to the water mask, labeled as barren.</td></tr><tr><td>2</td><td><span style=\"background-color:\"></span></td><td>Classified water: has a classification label and is water according to the water mask.</td></tr><tr><td>3</td><td><span style=\"background-color:\"></span></td><td>Unclassified water: not classified because of missing data but water according to the water mask.</td></tr><tr><td>4</td><td><span style=\"background-color:\"></span></td><td>Classified sea ice: classified as snow/ice but water mask says it is water and less than 100m elevation, switched to water.</td></tr><tr><td>5</td><td><span style=\"background-color:\"></span></td><td>Misclassified water: classified as water but water mask says it is land, switched to secondary label.</td></tr><tr><td>6</td><td><span style=\"background-color:\"></span></td><td>Omitted snow/ice: land according to the water mask that was classified as something other than snow but with a maximum annual temperature below 1◦C, relabeled as snow/ice.</td></tr><tr><td>7</td><td><span style=\"background-color:\"></span></td><td>Misclassified snow/ice: land according to the water mask that was classified as snow but with a minimum annual temperature greater than 1◦C, relabeled as barren.</td></tr><tr><td>8</td><td><span style=\"background-color:\"></span></td><td>Backfilled label: missing label from stabilization, filled with the pre-stabilized result.</td></tr><tr><td>9</td><td><span style=\"background-color:\"></span></td><td>Forest type changed: climate-based change to forest class.</td></tr></table><p><b>LW Class Table</b><table class=\"eecat\"><tr><th scope=\"col\">Value</th><th scope=\"col\">Color</th><th scope=\"col\">Description</th></tr><tr><td>1</td><td><span style=\"background-color:1c0dff\">1c0dff</span></td><td>Water</td></tr><tr><td>2</td><td><span style=\"background-color:f9ffa4\">f9ffa4</span></td><td>Land</td></tr></table><p><b>Terms of Use</b><br><p>MODIS data and products acquired through the LP DAAC have no restrictions on subsequent use, sale, or redistribution.</p><br><b>Dataset's DOI(s)</b><ul><li><p><a href=\"https://doi.org/10.5067/MODIS/MCD12Q1.006\">https://doi.org/10.5067/MODIS/MCD12Q1.006</a></li></ul><p><b>Suggested citation(s)</b><ul><li><p>Please visit <a href=\"https://lpdaac.usgs.gov/citing_our_data\">LP DAAC &#39;Citing Our Data&#39; page</a> for information on citing LP DAAC datasets.</p></li></ul><style>\n",
       "  table.eecat {\n",
       "  border: 1px solid black;\n",
       "  border-collapse: collapse;\n",
       "  font-size: 13px;\n",
       "  }\n",
       "  table.eecat td, tr, th {\n",
       "  text-align: left; vertical-align: top;\n",
       "  border: 1px solid gray; padding: 3px;\n",
       "  }\n",
       "  td.nobreak { white-space: nowrap; }\n",
       "</style>"
      ],
      "text/plain": [
       "<IPython.core.display.HTML object>"
      ]
     },
     "metadata": {},
     "output_type": "display_data"
    }
   ],
   "source": [
    "display(HTML(meta_modis['properties']['description']))"
   ]
  },
  {
   "cell_type": "markdown",
   "metadata": {},
   "source": [
    "For each image"
   ]
  },
  {
   "cell_type": "code",
   "execution_count": 87,
   "metadata": {},
   "outputs": [],
   "source": [
    "meta = g.getInfo()"
   ]
  },
  {
   "cell_type": "code",
   "execution_count": 88,
   "metadata": {},
   "outputs": [
    {
     "data": {
      "text/plain": [
       "[u'bands', u'version', u'type', u'id', u'properties']"
      ]
     },
     "execution_count": 88,
     "metadata": {},
     "output_type": "execute_result"
    }
   ],
   "source": [
    "meta.keys()"
   ]
  },
  {
   "cell_type": "code",
   "execution_count": 93,
   "metadata": {},
   "outputs": [
    {
     "data": {
      "text/plain": [
       "u'Image'"
      ]
     },
     "execution_count": 93,
     "metadata": {},
     "output_type": "execute_result"
    }
   ],
   "source": [
    "meta['type']"
   ]
  },
  {
   "cell_type": "code",
   "execution_count": 94,
   "metadata": {},
   "outputs": [
    {
     "data": {
      "text/plain": [
       "u'MODIS/006/MCD12Q1/2013_01_01'"
      ]
     },
     "execution_count": 94,
     "metadata": {},
     "output_type": "execute_result"
    }
   ],
   "source": [
    "meta['id']"
   ]
  },
  {
   "cell_type": "code",
   "execution_count": 90,
   "metadata": {},
   "outputs": [
    {
     "data": {
      "text/plain": [
       "[u'system:index',\n",
       " u'LC_Prop1_class_values',\n",
       " u'system:time_start',\n",
       " u'LC_Type3_class_values',\n",
       " u'LC_Type4_class_palette',\n",
       " u'system:footprint',\n",
       " u'LC_Prop2_class_names',\n",
       " u'LC_Type4_class_names',\n",
       " u'LW_class_palette',\n",
       " u'LC_Type5_class_values',\n",
       " u'LC_Prop2_class_values',\n",
       " u'LC_Type4_class_values',\n",
       " u'LC_Type5_class_names',\n",
       " u'LC_Type1_class_values',\n",
       " u'LC_Type2_class_palette',\n",
       " u'LC_Prop1_class_names',\n",
       " u'LC_Type1_class_names',\n",
       " u'LW_class_values',\n",
       " u'system:time_end',\n",
       " u'LC_Type3_class_palette',\n",
       " u'LC_Prop3_class_names',\n",
       " u'LC_Type2_class_values',\n",
       " u'LC_Prop3_class_palette',\n",
       " u'LC_Type2_class_names',\n",
       " u'LC_Prop1_class_palette',\n",
       " u'LC_Prop3_class_values',\n",
       " u'LC_Type3_class_names',\n",
       " u'system:asset_size',\n",
       " u'LC_Type1_class_palette',\n",
       " u'LC_Type5_class_palette',\n",
       " u'LW_class_names',\n",
       " u'LC_Prop2_class_palette']"
      ]
     },
     "execution_count": 90,
     "metadata": {},
     "output_type": "execute_result"
    }
   ],
   "source": [
    "meta['properties'].keys()"
   ]
  },
  {
   "cell_type": "code",
   "execution_count": 193,
   "metadata": {},
   "outputs": [
    {
     "data": {
      "text/plain": [
       "1388534400000"
      ]
     },
     "execution_count": 193,
     "metadata": {},
     "output_type": "execute_result"
    }
   ],
   "source": [
    "meta['properties']['system:time_end']"
   ]
  },
  {
   "cell_type": "code",
   "execution_count": 107,
   "metadata": {},
   "outputs": [
    {
     "data": {
      "text/plain": [
       "[0, 1, 2, 3, 4, 5, 6, 7, 8, 9, 10, 11, 12, 13, 14, 15]"
      ]
     },
     "execution_count": 107,
     "metadata": {},
     "output_type": "execute_result"
    }
   ],
   "source": [
    "meta['properties']['LC_Type2_class_values']"
   ]
  },
  {
   "cell_type": "code",
   "execution_count": 110,
   "metadata": {},
   "outputs": [
    {
     "data": {
      "text/plain": [
       "[1, 2, 3, 4, 5, 6, 7, 8, 9, 10, 11, 12, 13, 14, 15, 16, 17]"
      ]
     },
     "execution_count": 110,
     "metadata": {},
     "output_type": "execute_result"
    }
   ],
   "source": [
    "meta['properties']['LC_Type1_class_values']"
   ]
  },
  {
   "cell_type": "code",
   "execution_count": 121,
   "metadata": {},
   "outputs": [],
   "source": [
    "meta = g.getInfo()\n",
    "\n",
    "def viz_setting(band):\n",
    "    # band = 'LC_Type1'\n",
    "    values = meta['properties'][band+'_class_values']\n",
    "    palette = meta['properties'][band+'_class_palette']\n",
    "    \n",
    "    return {'min': min(values),\n",
    "           'max': max(values),\n",
    "           'palette': palette,\n",
    "           'bands': [band]}\n",
    "\n",
    "def viz_map(ee_image, band):\n",
    "    map1 = ipyleaflet.Map(\n",
    "    center=(48.2082, 16.3779), zoom=4,\n",
    "    layout={'height':'400px'}\n",
    "    )\n",
    "\n",
    "    map1.add_layer(\n",
    "        ipyleaflet.TileLayer(url=GetTileLayerUrl(\n",
    "            # returns ee_image object\n",
    "            ee_image.visualize(**viz_setting(band))\n",
    "        )\n",
    "    ))\n",
    "\n",
    "    return map1\n",
    "    "
   ]
  },
  {
   "cell_type": "code",
   "execution_count": 114,
   "metadata": {
    "scrolled": false
   },
   "outputs": [
    {
     "data": {
      "application/vnd.jupyter.widget-view+json": {
       "model_id": "1c9f691aef4646d6ba69dd7834b9a229",
       "version_major": 2,
       "version_minor": 0
      },
      "text/plain": [
       "TWFwKGJhc2VtYXA9eyd1cmwnOiAnaHR0cHM6Ly97c30udGlsZS5vcGVuc3RyZWV0bWFwLm9yZy97en0ve3h9L3t5fS5wbmcnLCAnbWF4X3pvb20nOiAxOSwgJ2F0dHJpYnV0aW9uJzogJ01hcCDigKY=\n"
      ]
     },
     "metadata": {},
     "output_type": "display_data"
    }
   ],
   "source": [
    "viz_map(g, 'LC_Type1')"
   ]
  },
  {
   "cell_type": "code",
   "execution_count": 115,
   "metadata": {
    "scrolled": false
   },
   "outputs": [
    {
     "data": {
      "application/vnd.jupyter.widget-view+json": {
       "model_id": "",
       "version_major": 2,
       "version_minor": 0
      },
      "text/plain": [
       "TWFwKGJhc2VtYXA9eyd1cmwnOiAnaHR0cHM6Ly97c30udGlsZS5vcGVuc3RyZWV0bWFwLm9yZy97en0ve3h9L3t5fS5wbmcnLCAnbWF4X3pvb20nOiAxOSwgJ2F0dHJpYnV0aW9uJzogJ01hcCDigKY=\n"
      ]
     },
     "metadata": {},
     "output_type": "display_data"
    }
   ],
   "source": [
    "viz_map(g, 'LC_Type2')"
   ]
  },
  {
   "cell_type": "code",
   "execution_count": 116,
   "metadata": {
    "scrolled": false
   },
   "outputs": [
    {
     "data": {
      "application/vnd.jupyter.widget-view+json": {
       "model_id": "4b20cac4bbd24b9792707644923eb724",
       "version_major": 2,
       "version_minor": 0
      },
      "text/plain": [
       "TWFwKGJhc2VtYXA9eyd1cmwnOiAnaHR0cHM6Ly97c30udGlsZS5vcGVuc3RyZWV0bWFwLm9yZy97en0ve3h9L3t5fS5wbmcnLCAnbWF4X3pvb20nOiAxOSwgJ2F0dHJpYnV0aW9uJzogJ01hcCDigKY=\n"
      ]
     },
     "metadata": {},
     "output_type": "display_data"
    }
   ],
   "source": [
    "viz_map(g, 'LC_Type3')"
   ]
  },
  {
   "cell_type": "code",
   "execution_count": 117,
   "metadata": {},
   "outputs": [
    {
     "data": {
      "application/vnd.jupyter.widget-view+json": {
       "model_id": "",
       "version_major": 2,
       "version_minor": 0
      },
      "text/plain": [
       "TWFwKGJhc2VtYXA9eyd1cmwnOiAnaHR0cHM6Ly97c30udGlsZS5vcGVuc3RyZWV0bWFwLm9yZy97en0ve3h9L3t5fS5wbmcnLCAnbWF4X3pvb20nOiAxOSwgJ2F0dHJpYnV0aW9uJzogJ01hcCDigKY=\n"
      ]
     },
     "metadata": {},
     "output_type": "display_data"
    }
   ],
   "source": [
    "viz_map(g, 'LC_Type4')"
   ]
  },
  {
   "cell_type": "code",
   "execution_count": 118,
   "metadata": {},
   "outputs": [
    {
     "data": {
      "application/vnd.jupyter.widget-view+json": {
       "model_id": "01fe987ae7c24cbba6aa9afec5ef5f07",
       "version_major": 2,
       "version_minor": 0
      },
      "text/plain": [
       "TWFwKGJhc2VtYXA9eyd1cmwnOiAnaHR0cHM6Ly97c30udGlsZS5vcGVuc3RyZWV0bWFwLm9yZy97en0ve3h9L3t5fS5wbmcnLCAnbWF4X3pvb20nOiAxOSwgJ2F0dHJpYnV0aW9uJzogJ01hcCDigKY=\n"
      ]
     },
     "metadata": {},
     "output_type": "display_data"
    }
   ],
   "source": [
    "viz_map(g, 'LC_Type5')"
   ]
  },
  {
   "cell_type": "code",
   "execution_count": 119,
   "metadata": {},
   "outputs": [],
   "source": []
  },
  {
   "cell_type": "code",
   "execution_count": 160,
   "metadata": {},
   "outputs": [
    {
     "data": {
      "text/html": [
       "<p style='font-size:12px'>\n",
       "             <div style=\"background-color:#f2c;display:inline-block;width:30px;height:12px\">\n",
       "             </div> helloworld</p>\n",
       "             <p style='font-size:12px'>\n",
       "             <div style=\"background-color:#f2c;display:inline-block;width:30px;height:12px\">\n",
       "             </div> helloworld</p>"
      ],
      "text/plain": [
       "<IPython.core.display.HTML object>"
      ]
     },
     "metadata": {},
     "output_type": "display_data"
    }
   ],
   "source": [
    "display(HTML('''<p style='font-size:12px'>\n",
    "             <div style=\"background-color:#f2c;display:inline-block;width:30px;height:12px\">\n",
    "             </div> helloworld</p>\n",
    "             <p style='font-size:12px'>\n",
    "             <div style=\"background-color:#f2c;display:inline-block;width:30px;height:12px\">\n",
    "             </div> helloworld</p>'''))"
   ]
  },
  {
   "cell_type": "code",
   "execution_count": 171,
   "metadata": {},
   "outputs": [],
   "source": [
    "from IPython.core.display import display, HTML\n",
    "\n",
    "def viz_legend(band):\n",
    "    '''Create a legend based on band'''\n",
    "    values = meta['properties'][band+'_class_values']\n",
    "    palette = meta['properties'][band+'_class_palette']\n",
    "    names = meta['properties'][band+'_class_names']\n",
    "    \n",
    "    html = \"\"\n",
    "    for value, name, colour in zip(values, names, palette):\n",
    "        html += '''\n",
    "        <p style=\"font-size:12px\">\n",
    "        <div style=\"background-color:#{};display:inline-block;width:30px;height:12px\">\n",
    "        </div> {}: {}</p>\n",
    "        '''.format(colour, value, name)\n",
    "        \n",
    "#     print html\n",
    "    display(HTML(html))"
   ]
  },
  {
   "cell_type": "code",
   "execution_count": 172,
   "metadata": {},
   "outputs": [
    {
     "data": {
      "text/html": [
       "\n",
       "        <p style=\"font-size:12px\">\n",
       "        <div style=\"background-color:#05450a;display:inline-block;width:30px;height:12px\">\n",
       "        </div> 1: Evergreen Needleleaf Forests: dominated by evergreen conifer trees (canopy >2m). Tree cover >60%.</p>\n",
       "        \n",
       "        <p style=\"font-size:12px\">\n",
       "        <div style=\"background-color:#086a10;display:inline-block;width:30px;height:12px\">\n",
       "        </div> 2: Evergreen Broadleaf Forests: dominated by evergreen broadleaf and palmate trees (canopy >2m). Tree cover >60%.</p>\n",
       "        \n",
       "        <p style=\"font-size:12px\">\n",
       "        <div style=\"background-color:#54a708;display:inline-block;width:30px;height:12px\">\n",
       "        </div> 3: Deciduous Needleleaf Forests: dominated by deciduous needleleaf (larch) trees (canopy >2m). Tree cover >60%.</p>\n",
       "        \n",
       "        <p style=\"font-size:12px\">\n",
       "        <div style=\"background-color:#78d203;display:inline-block;width:30px;height:12px\">\n",
       "        </div> 4: Deciduous Broadleaf Forests: dominated by deciduous broadleaf trees (canopy >2m). Tree cover >60%.</p>\n",
       "        \n",
       "        <p style=\"font-size:12px\">\n",
       "        <div style=\"background-color:#009900;display:inline-block;width:30px;height:12px\">\n",
       "        </div> 5: Mixed Forests: dominated by neither deciduous nor evergreen (40-60% of each) tree type (canopy >2m). Tree cover >60%.</p>\n",
       "        \n",
       "        <p style=\"font-size:12px\">\n",
       "        <div style=\"background-color:#c6b044;display:inline-block;width:30px;height:12px\">\n",
       "        </div> 6: Closed Shrublands: dominated by woody perennials (1-2m height) >60% cover.</p>\n",
       "        \n",
       "        <p style=\"font-size:12px\">\n",
       "        <div style=\"background-color:#dcd159;display:inline-block;width:30px;height:12px\">\n",
       "        </div> 7: Open Shrublands: dominated by woody perennials (1-2m height) 10-60% cover.</p>\n",
       "        \n",
       "        <p style=\"font-size:12px\">\n",
       "        <div style=\"background-color:#dade48;display:inline-block;width:30px;height:12px\">\n",
       "        </div> 8: Woody Savannas: tree cover 30-60% (canopy >2m).</p>\n",
       "        \n",
       "        <p style=\"font-size:12px\">\n",
       "        <div style=\"background-color:#fbff13;display:inline-block;width:30px;height:12px\">\n",
       "        </div> 9: Savannas: tree cover 10-30% (canopy >2m).</p>\n",
       "        \n",
       "        <p style=\"font-size:12px\">\n",
       "        <div style=\"background-color:#b6ff05;display:inline-block;width:30px;height:12px\">\n",
       "        </div> 10: Grasslands: dominated by herbaceous annuals (<2m).</p>\n",
       "        \n",
       "        <p style=\"font-size:12px\">\n",
       "        <div style=\"background-color:#27ff87;display:inline-block;width:30px;height:12px\">\n",
       "        </div> 11: Permanent Wetlands: permanently inundated lands with 30-60% water cover and >10% vegetated cover.</p>\n",
       "        \n",
       "        <p style=\"font-size:12px\">\n",
       "        <div style=\"background-color:#c24f44;display:inline-block;width:30px;height:12px\">\n",
       "        </div> 12: Croplands: at least 60% of area is cultivated cropland.</p>\n",
       "        \n",
       "        <p style=\"font-size:12px\">\n",
       "        <div style=\"background-color:#a5a5a5;display:inline-block;width:30px;height:12px\">\n",
       "        </div> 13: Urban and Built-up Lands: at least 30% impervious surface area including building materials, asphalt and vehicles.</p>\n",
       "        \n",
       "        <p style=\"font-size:12px\">\n",
       "        <div style=\"background-color:#ff6d4c;display:inline-block;width:30px;height:12px\">\n",
       "        </div> 14: Cropland/Natural Vegetation Mosaics: mosaics of small-scale cultivation 40-60% with natural tree, shrub, or herbaceous vegetation.</p>\n",
       "        \n",
       "        <p style=\"font-size:12px\">\n",
       "        <div style=\"background-color:#69fff8;display:inline-block;width:30px;height:12px\">\n",
       "        </div> 15: Permanent Snow and Ice: at least 60% of area is covered by snow and ice for at least 10 months of the year.</p>\n",
       "        \n",
       "        <p style=\"font-size:12px\">\n",
       "        <div style=\"background-color:#f9ffa4;display:inline-block;width:30px;height:12px\">\n",
       "        </div> 16: Barren: at least 60% of area is non-vegetated barren (sand, rock, soil) areas with less than 10% vegetation.</p>\n",
       "        \n",
       "        <p style=\"font-size:12px\">\n",
       "        <div style=\"background-color:#1c0dff;display:inline-block;width:30px;height:12px\">\n",
       "        </div> 17: Water Bodies: at least 60% of area is covered by permanent water bodies.</p>\n",
       "        "
      ],
      "text/plain": [
       "<IPython.core.display.HTML object>"
      ]
     },
     "metadata": {},
     "output_type": "display_data"
    }
   ],
   "source": [
    "viz_legend('LC_Type1')"
   ]
  },
  {
   "cell_type": "code",
   "execution_count": null,
   "metadata": {},
   "outputs": [],
   "source": [
    "def html_legend(band):\n",
    "    legend = viz_legend(band)\n",
    "    "
   ]
  },
  {
   "cell_type": "code",
   "execution_count": null,
   "metadata": {},
   "outputs": [],
   "source": []
  },
  {
   "cell_type": "code",
   "execution_count": 92,
   "metadata": {},
   "outputs": [
    {
     "data": {
      "text/plain": [
       "{u'crs': u'SR-ORG:6974',\n",
       " u'crs_transform': [463.312716528,\n",
       "  0.0,\n",
       "  -20015109.354,\n",
       "  0.0,\n",
       "  -463.312716527,\n",
       "  10007554.677],\n",
       " u'data_type': {u'max': 255,\n",
       "  u'min': 0,\n",
       "  u'precision': u'int',\n",
       "  u'type': u'PixelType'},\n",
       " u'dimensions': [86400, 43200],\n",
       " u'id': u'LC_Type3'}"
      ]
     },
     "execution_count": 92,
     "metadata": {},
     "output_type": "execute_result"
    }
   ],
   "source": [
    "meta['bands'][2]"
   ]
  },
  {
   "cell_type": "code",
   "execution_count": 69,
   "metadata": {},
   "outputs": [
    {
     "data": {
      "text/plain": [
       "[1, 2, 3, 4, 5, 6, 7, 8, 9, 10, 11, 12, 13, 14, 15, 16, 17]"
      ]
     },
     "execution_count": 69,
     "metadata": {},
     "output_type": "execute_result"
    }
   ],
   "source": [
    "g.get('LC_Type1_class_values').getInfo()"
   ]
  },
  {
   "cell_type": "code",
   "execution_count": 68,
   "metadata": {
    "collapsed": true
   },
   "outputs": [
    {
     "data": {
      "text/plain": [
       "[u'05450a',\n",
       " u'086a10',\n",
       " u'54a708',\n",
       " u'78d203',\n",
       " u'009900',\n",
       " u'c6b044',\n",
       " u'dcd159',\n",
       " u'dade48',\n",
       " u'fbff13',\n",
       " u'b6ff05',\n",
       " u'27ff87',\n",
       " u'c24f44',\n",
       " u'a5a5a5',\n",
       " u'ff6d4c',\n",
       " u'69fff8',\n",
       " u'f9ffa4',\n",
       " u'1c0dff']"
      ]
     },
     "execution_count": 68,
     "metadata": {},
     "output_type": "execute_result"
    }
   ],
   "source": [
    "g.get('LC_Type1_class_palette').getInfo()"
   ]
  },
  {
   "cell_type": "code",
   "execution_count": 67,
   "metadata": {
    "collapsed": true
   },
   "outputs": [
    {
     "data": {
      "text/plain": [
       "[u'Evergreen Needleleaf Forests: dominated by evergreen conifer trees (canopy >2m). Tree cover >60%.',\n",
       " u'Evergreen Broadleaf Forests: dominated by evergreen broadleaf and palmate trees (canopy >2m). Tree cover >60%.',\n",
       " u'Deciduous Needleleaf Forests: dominated by deciduous needleleaf (larch) trees (canopy >2m). Tree cover >60%.',\n",
       " u'Deciduous Broadleaf Forests: dominated by deciduous broadleaf trees (canopy >2m). Tree cover >60%.',\n",
       " u'Mixed Forests: dominated by neither deciduous nor evergreen (40-60% of each) tree type (canopy >2m). Tree cover >60%.',\n",
       " u'Closed Shrublands: dominated by woody perennials (1-2m height) >60% cover.',\n",
       " u'Open Shrublands: dominated by woody perennials (1-2m height) 10-60% cover.',\n",
       " u'Woody Savannas: tree cover 30-60% (canopy >2m).',\n",
       " u'Savannas: tree cover 10-30% (canopy >2m).',\n",
       " u'Grasslands: dominated by herbaceous annuals (<2m).',\n",
       " u'Permanent Wetlands: permanently inundated lands with 30-60% water cover and >10% vegetated cover.',\n",
       " u'Croplands: at least 60% of area is cultivated cropland.',\n",
       " u'Urban and Built-up Lands: at least 30% impervious surface area including building materials, asphalt and vehicles.',\n",
       " u'Cropland/Natural Vegetation Mosaics: mosaics of small-scale cultivation 40-60% with natural tree, shrub, or herbaceous vegetation.',\n",
       " u'Permanent Snow and Ice: at least 60% of area is covered by snow and ice for at least 10 months of the year.',\n",
       " u'Barren: at least 60% of area is non-vegetated barren (sand, rock, soil) areas with less than 10% vegetation.',\n",
       " u'Water Bodies: at least 60% of area is covered by permanent water bodies.']"
      ]
     },
     "execution_count": 67,
     "metadata": {},
     "output_type": "execute_result"
    }
   ],
   "source": [
    "g.get('LC_Type1_class_names').getInfo()"
   ]
  },
  {
   "cell_type": "code",
   "execution_count": 102,
   "metadata": {},
   "outputs": [],
   "source": [
    "gg = g.visualize(min=1, max=17, palette=g.get('LC_Type1_class_palette').getInfo(), bands=['LC_Type1'])"
   ]
  },
  {
   "cell_type": "code",
   "execution_count": 104,
   "metadata": {},
   "outputs": [
    {
     "data": {
      "text/plain": [
       "<ee.image.Image at 0x7f8080d73210>"
      ]
     },
     "execution_count": 104,
     "metadata": {},
     "output_type": "execute_result"
    }
   ],
   "source": [
    "gg"
   ]
  },
  {
   "cell_type": "code",
   "execution_count": 105,
   "metadata": {
    "scrolled": false
   },
   "outputs": [
    {
     "data": {
      "application/vnd.jupyter.widget-view+json": {
       "model_id": "ec00228173b0465f8cf4ac6a7941c776",
       "version_major": 2,
       "version_minor": 0
      },
      "text/plain": [
       "TWFwKGJhc2VtYXA9eyd1cmwnOiAnaHR0cHM6Ly97c30udGlsZS5vcGVuc3RyZWV0bWFwLm9yZy97en0ve3h9L3t5fS5wbmcnLCAnbWF4X3pvb20nOiAxOSwgJ2F0dHJpYnV0aW9uJzogJ01hcCDigKY=\n"
      ]
     },
     "metadata": {},
     "output_type": "display_data"
    }
   ],
   "source": [
    "map1 = ipyleaflet.Map(\n",
    "    center=(48.2082, 16.3779), zoom=4,\n",
    "    layout={'height':'400px'}\n",
    ")\n",
    "\n",
    "map1.add_layer(\n",
    "    ipyleaflet.TileLayer(url=GetTileLayerUrl(\n",
    "        gg\n",
    "    )\n",
    "))\n",
    "\n",
    "map1"
   ]
  },
  {
   "cell_type": "code",
   "execution_count": null,
   "metadata": {},
   "outputs": [],
   "source": []
  }
 ],
 "metadata": {
  "kernelspec": {
   "display_name": "Python 2",
   "language": "python",
   "name": "python2"
  },
  "language_info": {
   "codemirror_mode": {
    "name": "ipython",
    "version": 2
   },
   "file_extension": ".py",
   "mimetype": "text/x-python",
   "name": "python",
   "nbconvert_exporter": "python",
   "pygments_lexer": "ipython2",
   "version": "2.7.12"
  }
 },
 "nbformat": 4,
 "nbformat_minor": 2
}
