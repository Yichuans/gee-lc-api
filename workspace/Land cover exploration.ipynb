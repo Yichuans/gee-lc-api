{
 "cells": [
  {
   "cell_type": "markdown",
   "metadata": {},
   "source": [
    "# MODIS land cover exploration"
   ]
  },
  {
   "cell_type": "markdown",
   "metadata": {},
   "source": [
    "Visualisation and stats generation"
   ]
  },
  {
   "cell_type": "code",
   "execution_count": 2,
   "metadata": {},
   "outputs": [],
   "source": [
    "import ee"
   ]
  },
  {
   "cell_type": "code",
   "execution_count": 3,
   "metadata": {},
   "outputs": [],
   "source": [
    "ee.Initialize()"
   ]
  },
  {
   "cell_type": "code",
   "execution_count": 5,
   "metadata": {},
   "outputs": [],
   "source": [
    "import ipyleaflet\n",
    "\n",
    "# utility\n",
    "def GetTileLayerUrl(ee_image_object):\n",
    "  map_id = ee.Image(ee_image_object).getMapId()\n",
    "  tile_url_template = \"https://earthengine.googleapis.com/map/{mapid}/{{z}}/{{x}}/{{y}}?token={token}\"\n",
    "  return tile_url_template.format(**map_id)"
   ]
  },
  {
   "cell_type": "markdown",
   "metadata": {},
   "source": [
    "MODIS land cover data, `ee.ImageColelction` with 17 `ee.Image`, each representing a year (data between 2000 and 2016). Each year image has multiple bands, representing different land cover classifications"
   ]
  },
  {
   "cell_type": "code",
   "execution_count": 6,
   "metadata": {},
   "outputs": [],
   "source": [
    "modis = ee.ImageCollection('MODIS/006/MCD12Q1')"
   ]
  },
  {
   "cell_type": "code",
   "execution_count": 31,
   "metadata": {},
   "outputs": [],
   "source": [
    "meta_modis = modis.getInfo()"
   ]
  },
  {
   "cell_type": "code",
   "execution_count": 7,
   "metadata": {},
   "outputs": [],
   "source": [
    "def get_modis_lc_by_year(year):\n",
    "    \n",
    "    if year not in range(2000, 2017):\n",
    "        raise Exception('Year must be in between 2000 and 2016')\n",
    "        \n",
    "    # internal ee.Image 'system:time_start' 'system:time_end' in miliseconds\n",
    "    g = modis.filterDate(str(year)+'-01-01', str(year)+'-12-31').first()\n",
    "    \n",
    "    return g"
   ]
  },
  {
   "cell_type": "code",
   "execution_count": 24,
   "metadata": {},
   "outputs": [],
   "source": [
    "lc2015 = get_modis_lc_by_year(2015)"
   ]
  },
  {
   "cell_type": "code",
   "execution_count": 25,
   "metadata": {},
   "outputs": [
    {
     "data": {
      "text/plain": [
       "<ee.image.Image at 0x7ffa672502d0>"
      ]
     },
     "execution_count": 25,
     "metadata": {},
     "output_type": "execute_result"
    }
   ],
   "source": [
    "lc2015"
   ]
  },
  {
   "cell_type": "markdown",
   "metadata": {},
   "source": [
    "Here `g` is an instance of `ee.Image`. Get an descriptive object `meta` to check on properties. Examine if the time filter works as intended. `meta` will also be used to derive colour schemes and etc. \n",
    "\n",
    "**N.B.**\n",
    "For viz purposes, `meta` is the same regardless of the band/different LC classification within `modis`. This can be re-used and there is no need to repeatedly request `meta` from Earth Engine, based on the band"
   ]
  },
  {
   "cell_type": "code",
   "execution_count": 26,
   "metadata": {},
   "outputs": [],
   "source": [
    "meta = lc2015.getInfo()"
   ]
  },
  {
   "cell_type": "code",
   "execution_count": 14,
   "metadata": {},
   "outputs": [
    {
     "data": {
      "text/plain": [
       "1420070400000"
      ]
     },
     "execution_count": 14,
     "metadata": {},
     "output_type": "execute_result"
    }
   ],
   "source": [
    "meta['properties']['system:time_start']"
   ]
  },
  {
   "cell_type": "code",
   "execution_count": 17,
   "metadata": {},
   "outputs": [],
   "source": [
    "import datetime"
   ]
  },
  {
   "cell_type": "code",
   "execution_count": 19,
   "metadata": {},
   "outputs": [
    {
     "data": {
      "text/plain": [
       "datetime.datetime(2015, 1, 1, 0, 0)"
      ]
     },
     "execution_count": 19,
     "metadata": {},
     "output_type": "execute_result"
    }
   ],
   "source": [
    "datetime.datetime.fromtimestamp(meta['properties']['system:time_start']/1000.0)"
   ]
  },
  {
   "cell_type": "code",
   "execution_count": 20,
   "metadata": {},
   "outputs": [
    {
     "data": {
      "text/plain": [
       "datetime.datetime(2016, 1, 1, 0, 0)"
      ]
     },
     "execution_count": 20,
     "metadata": {},
     "output_type": "execute_result"
    }
   ],
   "source": [
    "datetime.datetime.fromtimestamp(meta['properties']['system:time_end']/1000.0)"
   ]
  },
  {
   "cell_type": "markdown",
   "metadata": {},
   "source": [
    "Here are the properties of the `meta`, which is a dictionary"
   ]
  },
  {
   "cell_type": "code",
   "execution_count": 21,
   "metadata": {},
   "outputs": [
    {
     "data": {
      "text/plain": [
       "[u'system:index',\n",
       " u'LC_Prop1_class_values',\n",
       " u'system:time_start',\n",
       " u'LC_Type3_class_values',\n",
       " u'LC_Type4_class_palette',\n",
       " u'system:footprint',\n",
       " u'LC_Prop2_class_names',\n",
       " u'LC_Type4_class_names',\n",
       " u'LW_class_palette',\n",
       " u'LC_Type5_class_values',\n",
       " u'LC_Prop2_class_values',\n",
       " u'LC_Type4_class_values',\n",
       " u'LC_Type5_class_names',\n",
       " u'LC_Type1_class_values',\n",
       " u'LC_Type2_class_palette',\n",
       " u'LC_Prop1_class_names',\n",
       " u'LC_Type1_class_names',\n",
       " u'LW_class_values',\n",
       " u'system:time_end',\n",
       " u'LC_Type3_class_palette',\n",
       " u'LC_Prop3_class_names',\n",
       " u'LC_Type2_class_values',\n",
       " u'LC_Prop3_class_palette',\n",
       " u'LC_Type2_class_names',\n",
       " u'LC_Prop1_class_palette',\n",
       " u'LC_Prop3_class_values',\n",
       " u'LC_Type3_class_names',\n",
       " u'system:asset_size',\n",
       " u'LC_Type1_class_palette',\n",
       " u'LC_Type5_class_palette',\n",
       " u'LW_class_names',\n",
       " u'LC_Prop2_class_palette']"
      ]
     },
     "execution_count": 21,
     "metadata": {},
     "output_type": "execute_result"
    }
   ],
   "source": [
    "meta['properties'].keys()"
   ]
  },
  {
   "cell_type": "markdown",
   "metadata": {},
   "source": [
    "## Visualisation"
   ]
  },
  {
   "cell_type": "code",
   "execution_count": 5,
   "metadata": {},
   "outputs": [],
   "source": [
    "import ipyleaflet\n",
    "\n",
    "# utility\n",
    "def GetTileLayerUrl(ee_image_object):\n",
    "  map_id = ee.Image(ee_image_object).getMapId()\n",
    "  tile_url_template = \"https://earthengine.googleapis.com/map/{mapid}/{{z}}/{{x}}/{{y}}?token={token}\"\n",
    "  return tile_url_template.format(**map_id)"
   ]
  },
  {
   "cell_type": "code",
   "execution_count": 5,
   "metadata": {},
   "outputs": [],
   "source": [
    "import ipyleaflet\n",
    "\n",
    "# utility\n",
    "def GetTileLayerUrl(ee_image_object):\n",
    "  map_id = ee.Image(ee_image_object).getMapId()\n",
    "  tile_url_template = \"https://earthengine.googleapis.com/map/{mapid}/{{z}}/{{x}}/{{y}}?token={token}\"\n",
    "  return tile_url_template.format(**map_id)"
   ]
  },
  {
   "cell_type": "code",
   "execution_count": 23,
   "metadata": {},
   "outputs": [],
   "source": [
    "# function to return viz params, to be unpacked for use\n",
    "def viz_setting(band):\n",
    "    '''e.g. band=\"LC_Type1\" '''\n",
    "    values = meta['properties'][band+'_class_values']\n",
    "    palette = meta['properties'][band+'_class_palette']\n",
    "    \n",
    "    return {'min': min(values),\n",
    "           'max': max(values),\n",
    "           'palette': palette,\n",
    "           'bands': [band]}\n",
    "\n",
    "# convenient wrapper\n",
    "def viz_map(ee_image, band):\n",
    "    map1 = ipyleaflet.Map(\n",
    "    center=(48.2082, 16.3779), zoom=4,\n",
    "    layout={'height':'400px'}\n",
    "    )\n",
    "\n",
    "    map1.add_layer(\n",
    "        ipyleaflet.TileLayer(url=GetTileLayerUrl(\n",
    "            # returns ee_image object\n",
    "            ee_image.visualize(**viz_setting(band))\n",
    "        )\n",
    "    ))\n",
    "\n",
    "    return map1"
   ]
  },
  {
   "cell_type": "code",
   "execution_count": 22,
   "metadata": {},
   "outputs": [],
   "source": [
    "from IPython.core.display import display, HTML\n",
    "\n",
    "# legend viz\n",
    "def viz_legend(band):\n",
    "    '''Create a legend based on band'''\n",
    "    values = meta['properties'][band+'_class_values']\n",
    "    palette = meta['properties'][band+'_class_palette']\n",
    "    names = meta['properties'][band+'_class_names']\n",
    "    \n",
    "    html = \"\"\n",
    "    for value, name, colour in zip(values, names, palette):\n",
    "        html += '''\n",
    "        <p style=\"font-size:12px\">\n",
    "        <div style=\"background-color:#{};display:inline-block;width:30px;height:12px\">\n",
    "        </div> {}: {}</p>\n",
    "        '''.format(colour, value, name)\n",
    "        \n",
    "#     print html\n",
    "    display(HTML(html))"
   ]
  },
  {
   "cell_type": "markdown",
   "metadata": {},
   "source": [
    "## Examples\n",
    "\n",
    "Below are examples of all LC classification within `modis` in year 2015"
   ]
  },
  {
   "cell_type": "code",
   "execution_count": 32,
   "metadata": {},
   "outputs": [
    {
     "data": {
      "text/html": [
       "<p>The MCD12Q1 V6 product provides global land cover types at yearly intervals\n",
       "(2001-2016) derived from six different classification schemes. It is derived\n",
       "using supervised classifications of MODIS Terra and Aqua reflectance data.\n",
       "The supervised classifications then undergo additional post-processing that\n",
       "incorporate prior knowledge and ancillary information to further refine\n",
       "specific classes.</p><p><b>Resolution</b><br>500 meters\n",
       "</p><p><b>Cadence</b><br>\n",
       "  1 year\n",
       "</p><p><b>Bands</b><table class=\"eecat\"><tr><th scope=\"col\">Name</th><th scope=\"col\">Units</th><th scope=\"col\">Min</th><th scope=\"col\">Max</th><th scope=\"col\">Description</th></tr><tr><td>LC_Type1</td><td></td><td></td><td></td><td><p>Land Cover Type 1: Annual International Geosphere-Biosphere Programme (IGBP) classification</p></td></tr><tr><td>LC_Type2</td><td></td><td></td><td></td><td><p>Land Cover Type 2: Annual University of Maryland (UMD) classification</p></td></tr><tr><td>LC_Type3</td><td></td><td></td><td></td><td><p>Land Cover Type 3: Annual Leaf Area Index (LAI) classification</p></td></tr><tr><td>LC_Type4</td><td></td><td></td><td></td><td><p>Land Cover Type 4: Annual BIOME-Biogeochemical Cycles (BGC) classification</p></td></tr><tr><td>LC_Type5</td><td></td><td></td><td></td><td><p>Land Cover Type 5: Annual Plant Functional Types classification</p></td></tr><tr><td>LC_Prop1_Assessment</td><td>%</td><td>\n",
       "          0\n",
       "</td><td>\n",
       "          100\n",
       "</td><td><p>LCCS1 land cover layer confidence</p></td></tr><tr><td>LC_Prop2_Assessment</td><td>%</td><td>\n",
       "          0\n",
       "</td><td>\n",
       "          100\n",
       "</td><td><p>LCCS2 land use layer confidence</p></td></tr><tr><td>LC_Prop3_Assessment</td><td>%</td><td>\n",
       "          0\n",
       "</td><td>\n",
       "          100\n",
       "</td><td><p>LCCS3 surface hydrology layer confidence</p></td></tr><tr><td>LC_Prop1</td><td></td><td></td><td></td><td><p>FAO-Land Cover Classification System 1 (LCCS1) land cover layer</p></td></tr><tr><td>LC_Prop2</td><td></td><td></td><td></td><td><p>FAO-LCCS2 land use layer</p></td></tr><tr><td>LC_Prop3</td><td></td><td></td><td></td><td><p>FAO-LCCS3 surface hydrology layer</p></td></tr><tr><td>QC</td><td></td><td></td><td></td><td><p>Product quality flags</p></td></tr><tr><td>LW</td><td></td><td></td><td></td><td><p>Binary land (class 2) / water (class 1) mask derived from MOD44W</p></td></tr></table><p><b>LC_Type1 Class Table</b><table class=\"eecat\"><tr><th scope=\"col\">Value</th><th scope=\"col\">Color</th><th scope=\"col\">Description</th></tr><tr><td>1</td><td><span style=\"background-color:05450a\">05450a</span></td><td>Evergreen Needleleaf Forests: dominated by evergreen conifer trees (canopy >2m). Tree cover >60%.</td></tr><tr><td>2</td><td><span style=\"background-color:086a10\">086a10</span></td><td>Evergreen Broadleaf Forests: dominated by evergreen broadleaf and palmate trees (canopy >2m). Tree cover >60%.</td></tr><tr><td>3</td><td><span style=\"background-color:54a708\">54a708</span></td><td>Deciduous Needleleaf Forests: dominated by deciduous needleleaf (larch) trees (canopy >2m). Tree cover >60%.</td></tr><tr><td>4</td><td><span style=\"background-color:78d203\">78d203</span></td><td>Deciduous Broadleaf Forests: dominated by deciduous broadleaf trees (canopy >2m). Tree cover >60%.</td></tr><tr><td>5</td><td><span style=\"background-color:009900\">009900</span></td><td>Mixed Forests: dominated by neither deciduous nor evergreen (40-60% of each) tree type (canopy >2m). Tree cover >60%.</td></tr><tr><td>6</td><td><span style=\"background-color:c6b044\">c6b044</span></td><td>Closed Shrublands: dominated by woody perennials (1-2m height) >60% cover.</td></tr><tr><td>7</td><td><span style=\"background-color:dcd159\">dcd159</span></td><td>Open Shrublands: dominated by woody perennials (1-2m height) 10-60% cover.</td></tr><tr><td>8</td><td><span style=\"background-color:dade48\">dade48</span></td><td>Woody Savannas: tree cover 30-60% (canopy >2m).</td></tr><tr><td>9</td><td><span style=\"background-color:fbff13\">fbff13</span></td><td>Savannas: tree cover 10-30% (canopy >2m).</td></tr><tr><td>10</td><td><span style=\"background-color:b6ff05\">b6ff05</span></td><td>Grasslands: dominated by herbaceous annuals (<2m).</td></tr><tr><td>11</td><td><span style=\"background-color:27ff87\">27ff87</span></td><td>Permanent Wetlands: permanently inundated lands with 30-60% water cover and >10% vegetated cover.</td></tr><tr><td>12</td><td><span style=\"background-color:c24f44\">c24f44</span></td><td>Croplands: at least 60% of area is cultivated cropland.</td></tr><tr><td>13</td><td><span style=\"background-color:a5a5a5\">a5a5a5</span></td><td>Urban and Built-up Lands: at least 30% impervious surface area including building materials, asphalt and vehicles.</td></tr><tr><td>14</td><td><span style=\"background-color:ff6d4c\">ff6d4c</span></td><td>Cropland/Natural Vegetation Mosaics: mosaics of small-scale cultivation 40-60% with natural tree, shrub, or herbaceous vegetation.</td></tr><tr><td>15</td><td><span style=\"background-color:69fff8\">69fff8</span></td><td>Permanent Snow and Ice: at least 60% of area is covered by snow and ice for at least 10 months of the year.</td></tr><tr><td>16</td><td><span style=\"background-color:f9ffa4\">f9ffa4</span></td><td>Barren: at least 60% of area is non-vegetated barren (sand, rock, soil) areas with less than 10% vegetation.</td></tr><tr><td>17</td><td><span style=\"background-color:1c0dff\">1c0dff</span></td><td>Water Bodies: at least 60% of area is covered by permanent water bodies.</td></tr></table><p><b>LC_Type2 Class Table</b><table class=\"eecat\"><tr><th scope=\"col\">Value</th><th scope=\"col\">Color</th><th scope=\"col\">Description</th></tr><tr><td>0</td><td><span style=\"background-color:1c0dff\">1c0dff</span></td><td>Water Bodies: at least 60% of area is covered by permanent water bodies.</td></tr><tr><td>1</td><td><span style=\"background-color:05450a\">05450a</span></td><td>Evergreen Needleleaf Forests: dominated by evergreen conifer trees (canopy >2m). Tree cover >60%.</td></tr><tr><td>2</td><td><span style=\"background-color:086a10\">086a10</span></td><td>Evergreen Broadleaf Forests: dominated by evergreen broadleaf and palmate trees (canopy >2m). Tree cover >60%.</td></tr><tr><td>3</td><td><span style=\"background-color:54a708\">54a708</span></td><td>Deciduous Needleleaf Forests: dominated by deciduous needleleaf (larch) trees (canopy >2m). Tree cover >60%.</td></tr><tr><td>4</td><td><span style=\"background-color:78d203\">78d203</span></td><td>Deciduous Broadleaf Forests: dominated by deciduous broadleaf trees (canopy >2m). Tree cover >60%.</td></tr><tr><td>5</td><td><span style=\"background-color:009900\">009900</span></td><td>Mixed Forests: dominated by neither deciduous nor evergreen (40-60% of each) tree type (canopy >2m). Tree cover >60%.</td></tr><tr><td>6</td><td><span style=\"background-color:c6b044\">c6b044</span></td><td>Closed Shrublands: dominated by woody perennials (1-2m height) >60% cover.</td></tr><tr><td>7</td><td><span style=\"background-color:dcd159\">dcd159</span></td><td>Open Shrublands: dominated by woody perennials (1-2m height) 10-60% cover.</td></tr><tr><td>8</td><td><span style=\"background-color:dade48\">dade48</span></td><td>Woody Savannas: tree cover 30-60% (canopy >2m).</td></tr><tr><td>9</td><td><span style=\"background-color:fbff13\">fbff13</span></td><td>Savannas: tree cover 10-30% (canopy >2m).</td></tr><tr><td>10</td><td><span style=\"background-color:b6ff05\">b6ff05</span></td><td>Grasslands: dominated by herbaceous annuals (<2m).</td></tr><tr><td>11</td><td><span style=\"background-color:27ff87\">27ff87</span></td><td>Permanent Wetlands: permanently inundated lands with 30-60% water cover and >10% vegetated cover.</td></tr><tr><td>12</td><td><span style=\"background-color:c24f44\">c24f44</span></td><td>Croplands: at least 60% of area is cultivated cropland.</td></tr><tr><td>13</td><td><span style=\"background-color:a5a5a5\">a5a5a5</span></td><td>Urban and Built-up Lands: at least 30% impervious surface area including building materials, asphalt and vehicles.</td></tr><tr><td>14</td><td><span style=\"background-color:ff6d4c\">ff6d4c</span></td><td>Cropland/Natural Vegetation Mosaics: mosaics of small-scale cultivation 40-60% with natural tree, shrub, or herbaceous vegetation.</td></tr><tr><td>15</td><td><span style=\"background-color:f9ffa4\">f9ffa4</span></td><td>Non-Vegetated Lands: at least 60% of area is non-vegetated barren (sand, rock, soil) or permanent snow and ice with less than 10% vegetation.</td></tr></table><p><b>LC_Type3 Class Table</b><table class=\"eecat\"><tr><th scope=\"col\">Value</th><th scope=\"col\">Color</th><th scope=\"col\">Description</th></tr><tr><td>0</td><td><span style=\"background-color:1c0dff\">1c0dff</span></td><td>Water Bodies: at least 60% of area is covered by permanent water bodies.</td></tr><tr><td>1</td><td><span style=\"background-color:b6ff05\">b6ff05</span></td><td>Grasslands: dominated by herbaceous annuals (<2m) including cereal croplands.</td></tr><tr><td>2</td><td><span style=\"background-color:dcd159\">dcd159</span></td><td>Shrublands: shrub (1-2m) cover >10%.</td></tr><tr><td>3</td><td><span style=\"background-color:c24f44\">c24f44</span></td><td>Broadleaf Croplands: bominated by herbaceous annuals (<2m) that are cultivated with broadleaf crops.</td></tr><tr><td>4</td><td><span style=\"background-color:fbff13\">fbff13</span></td><td>Savannas: between 10-60% tree cover (>2m).</td></tr><tr><td>5</td><td><span style=\"background-color:086a10\">086a10</span></td><td>Evergreen Broadleaf Forests: dominated by evergreen broadleaf and palmate trees (canopy >2m). Tree cover >60%.</td></tr><tr><td>6</td><td><span style=\"background-color:78d203\">78d203</span></td><td>Deciduous Broadleaf Forests: dominated by deciduous broadleaf trees (canopy >2m). Tree cover >60%.</td></tr><tr><td>7</td><td><span style=\"background-color:05450a\">05450a</span></td><td>Evergreen Needleleaf Forests: dominated by evergreen conifer trees (canopy >2m). Tree cover >60%.</td></tr><tr><td>8</td><td><span style=\"background-color:54a708\">54a708</span></td><td>Deciduous Needleleaf Forests: dominated by deciduous needleleaf (larch) trees (canopy >2m). Tree cover >60%.</td></tr><tr><td>9</td><td><span style=\"background-color:f9ffa4\">f9ffa4</span></td><td>Non-Vegetated Lands: at least 60% of area is non-vegetated barren (sand, rock, soil) or permanent snow and ice with less than 10% vegetation.</td></tr><tr><td>10</td><td><span style=\"background-color:a5a5a5\">a5a5a5</span></td><td>Urban and Built-up Lands: at least 30% impervious surface area including building materials, asphalt and vehicles.</td></tr></table><p><b>LC_Type4 Class Table</b><table class=\"eecat\"><tr><th scope=\"col\">Value</th><th scope=\"col\">Color</th><th scope=\"col\">Description</th></tr><tr><td>0</td><td><span style=\"background-color:1c0dff\">1c0dff</span></td><td>Water Bodies: at least 60% of area is covered by permanent water bodies.</td></tr><tr><td>1</td><td><span style=\"background-color:05450a\">05450a</span></td><td>Evergreen Needleleaf Vegetation: dominated by evergreen conifer trees and shrubs (>1m). Woody vegetation cover >10%.</td></tr><tr><td>2</td><td><span style=\"background-color:086a10\">086a10</span></td><td>Evergreen Broadleaf Vegetation: dominated by evergreen broadleaf and palmate trees and shrubs (>1m). Woody vegetation cover >10%.</td></tr><tr><td>3</td><td><span style=\"background-color:54a708\">54a708</span></td><td>Deciduous Needleleaf Vegetation: dominated by deciduous needleleaf (larch) trees and shrubs (>1m). Woody vegetation cover >10%.</td></tr><tr><td>4</td><td><span style=\"background-color:78d203\">78d203</span></td><td>Deciduous Broadleaf Vegetation: dominated by deciduous broadleaf trees and shrubs (>1m). Woody vegetation cover >10%.</td></tr><tr><td>5</td><td><span style=\"background-color:009900\">009900</span></td><td>Annual Broadleaf Vegetation: dominated by herbaceous annuals (<2m). At least 60% cultivated broadleaf crops.</td></tr><tr><td>6</td><td><span style=\"background-color:b6ff05\">b6ff05</span></td><td>Annual Grass Vegetation: dominated by herbaceous annuals (<2m) including cereal croplands.</td></tr><tr><td>7</td><td><span style=\"background-color:f9ffa4\">f9ffa4</span></td><td>Non-Vegetated Lands: at least 60% of area is non-vegetated barren (sand, rock, soil) or permanent snow/ice with less than 10% vegetation.</td></tr><tr><td>8</td><td><span style=\"background-color:a5a5a5\">a5a5a5</span></td><td>Urban and Built-up Lands: at least 30% impervious surface area including building materials, asphalt, and vehicles.</td></tr></table><p><b>LC_Type5 Class Table</b><table class=\"eecat\"><tr><th scope=\"col\">Value</th><th scope=\"col\">Color</th><th scope=\"col\">Description</th></tr><tr><td>0</td><td><span style=\"background-color:1c0dff\">1c0dff</span></td><td>Water Bodies: at least 60% of area is covered by permanent water bodies.</td></tr><tr><td>1</td><td><span style=\"background-color:05450a\">05450a</span></td><td>Evergreen Needleleaf Trees: dominated by evergreen conifer trees (>2m). Tree cover >10%.</td></tr><tr><td>2</td><td><span style=\"background-color:086a10\">086a10</span></td><td>Evergreen Broadleaf Trees: dominated by evergreen broadleaf and palmate trees (>2m). Tree cover >10%.</td></tr><tr><td>3</td><td><span style=\"background-color:54a708\">54a708</span></td><td>Deciduous Needleleaf Trees: dominated by deciduous needleleaf (larch) trees (>2m). Tree cover >10%.</td></tr><tr><td>4</td><td><span style=\"background-color:78d203\">78d203</span></td><td>Deciduous Broadleaf Trees: dominated by deciduous broadleaf trees (>2m). Tree cover >10%.</td></tr><tr><td>5</td><td><span style=\"background-color:dcd159\">dcd159</span></td><td>Shrub: Shrub (1-2m) cover >10%.</td></tr><tr><td>6</td><td><span style=\"background-color:b6ff05\">b6ff05</span></td><td>Grass: dominated by herbaceous annuals (<2m) that are not cultivated.</td></tr><tr><td>7</td><td><span style=\"background-color:dade48\">dade48</span></td><td>Cereal Croplands: dominated by herbaceous annuals (<2m). At least 60% cultivated cereal crops.</td></tr><tr><td>8</td><td><span style=\"background-color:c24f44\">c24f44</span></td><td>Broadleaf Croplands: dominated by herbaceous annuals (<2m). At least 60% cultivated broadleaf crops.</td></tr><tr><td>9</td><td><span style=\"background-color:a5a5a5\">a5a5a5</span></td><td>Urban and Built-up Lands: at least 30% impervious surface area including building materials, asphalt, and vehicles.</td></tr><tr><td>10</td><td><span style=\"background-color:69fff8\">69fff8</span></td><td>Permanent Snow and Ice: at least 60% of area is covered by snow and ice for at least 10 months of the year.</td></tr><tr><td>11</td><td><span style=\"background-color:f9ffa4\">f9ffa4</span></td><td>Non-Vegetated Lands: at least 60% of area is non-vegetated barren (sand, rock, soil) with less than 10% vegetation.</td></tr></table><p><b>LC_Prop1 Class Table</b><table class=\"eecat\"><tr><th scope=\"col\">Value</th><th scope=\"col\">Color</th><th scope=\"col\">Description</th></tr><tr><td>1</td><td><span style=\"background-color:f9ffa4\">f9ffa4</span></td><td>Barren: at least of area 60% is non-vegetated barren (sand, rock, soil) or permanent snow/ice with less than 10% vegetation.</td></tr><tr><td>2</td><td><span style=\"background-color:69fff8\">69fff8</span></td><td>Permanent Snow and Ice: at least 60% of area is covered by snow and ice for at least 10 months of the year.</td></tr><tr><td>3</td><td><span style=\"background-color:1c0dff\">1c0dff</span></td><td>Water Bodies: at least 60% of area is covered by permanent water bodies.</td></tr><tr><td>11</td><td><span style=\"background-color:05450a\">05450a</span></td><td>Evergreen Needleleaf Forests: dominated by evergreen conifer trees (>2m). Tree cover >60%.</td></tr><tr><td>12</td><td><span style=\"background-color:086a10\">086a10</span></td><td>Evergreen Broadleaf Forests: dominated by evergreen broadleaf and palmate trees (>2m). Tree cover >60%.</td></tr><tr><td>13</td><td><span style=\"background-color:54a708\">54a708</span></td><td>Deciduous Needleleaf Forests: dominated by deciduous needleleaf (larch) trees (>2m). Tree cover >60%.</td></tr><tr><td>14</td><td><span style=\"background-color:78d203\">78d203</span></td><td>Deciduous Broadleaf Forests: dominated by deciduous broadleaf trees (>2m). Tree cover >60%.</td></tr><tr><td>15</td><td><span style=\"background-color:005a00\">005a00</span></td><td>Mixed Broadleaf/Needleleaf Forests: co-dominated (40-60%) by broadleaf deciduous and evergreen needleleaf tree (>2m) types. Tree cover >60%.</td></tr><tr><td>16</td><td><span style=\"background-color:009900\">009900</span></td><td>Mixed Broadleaf Evergreen/Deciduous Forests: co-dominated (40-60%) by broadleaf evergreen and deciduous tree (>2m) types. Tree cover >60%.</td></tr><tr><td>21</td><td><span style=\"background-color:006c00\">006c00</span></td><td>Open Forests: tree cover 30-60% (canopy >2m).</td></tr><tr><td>22</td><td><span style=\"background-color:00d000\">00d000</span></td><td>Sparse Forests: tree cover 10-30% (canopy >2m).</td></tr><tr><td>31</td><td><span style=\"background-color:b6ff05\">b6ff05</span></td><td>Dense Herbaceous: dominated by herbaceous annuals (<2m) at least 60% cover.</td></tr><tr><td>32</td><td><span style=\"background-color:98d604\">98d604</span></td><td>Sparse Herbaceous: dominated by herbaceous annuals (<2m) 10-60% cover.</td></tr><tr><td>41</td><td><span style=\"background-color:dcd159\">dcd159</span></td><td>Dense Shrublands: dominated by woody perennials (1-2m) >60% cover.</td></tr><tr><td>42</td><td><span style=\"background-color:f1fb58\">f1fb58</span></td><td>Shrubland/Grassland Mosaics: dominated by woody perennials (1-2m) 10-60% cover with dense herbaceous annual understory.</td></tr><tr><td>43</td><td><span style=\"background-color:fbee65\">fbee65</span></td><td>Sparse Shrublands: dominated by woody perennials (1-2m) 10-60% cover with minimal herbaceous understory.</td></tr></table><p><b>LC_Prop2 Class Table</b><table class=\"eecat\"><tr><th scope=\"col\">Value</th><th scope=\"col\">Color</th><th scope=\"col\">Description</th></tr><tr><td>1</td><td><span style=\"background-color:f9ffa4\">f9ffa4</span></td><td>Barren: at least of area 60% is non-vegetated barren (sand, rock, soil) or permanent snow/ice with less than 10% vegetation.</td></tr><tr><td>2</td><td><span style=\"background-color:69fff8\">69fff8</span></td><td>Permanent Snow and Ice: at least 60% of area is covered by snow and ice for at least 10 months of the year.</td></tr><tr><td>3</td><td><span style=\"background-color:1c0dff\">1c0dff</span></td><td>Water Bodies: at least 60% of area is covered by permanent water bodies.</td></tr><tr><td>9</td><td><span style=\"background-color:a5a5a5\">a5a5a5</span></td><td>Urban and Built-up Lands: at least 30% of area is made up ofimpervious surfaces including building materials, asphalt, and vehicles.</td></tr><tr><td>10</td><td><span style=\"background-color:003f00\">003f00</span></td><td>Dense Forests: tree cover >60% (canopy >2m).</td></tr><tr><td>20</td><td><span style=\"background-color:006c00\">006c00</span></td><td>Open Forests: tree cover 10-60% (canopy >2m).</td></tr><tr><td>25</td><td><span style=\"background-color:e3ff77\">e3ff77</span></td><td>Forest/Cropland Mosaics: mosaics of small-scale cultivation 40-60% with >10% natural tree cover.</td></tr><tr><td>30</td><td><span style=\"background-color:b6ff05\">b6ff05</span></td><td>Natural Herbaceous: dominated by herbaceous annuals (<2m). At least 10% cover.</td></tr><tr><td>35</td><td><span style=\"background-color:93ce04\">93ce04</span></td><td>Natural Herbaceous/Croplands Mosaics: mosaics of small-scale cultivation 40-60% with natural shrub or herbaceous vegetation.</td></tr><tr><td>36</td><td><span style=\"background-color:77a703\">77a703</span></td><td>Herbaceous Croplands: dominated by herbaceous annuals (<2m). At least 60% cover. Cultivated fraction >60%.</td></tr><tr><td>40</td><td><span style=\"background-color:dcd159\">dcd159</span></td><td>Shrublands: shrub cover >60% (1-2m).</td></tr></table><p><b>LC_Prop3 Class Table</b><table class=\"eecat\"><tr><th scope=\"col\">Value</th><th scope=\"col\">Color</th><th scope=\"col\">Description</th></tr><tr><td>1</td><td><span style=\"background-color:f9ffa4\">f9ffa4</span></td><td>Barren: at least of area 60% is non-vegetated barren (sand, rock, soil) or permanent snow/ice with less than 10% vegetation.</td></tr><tr><td>2</td><td><span style=\"background-color:69fff8\">69fff8</span></td><td>Permanent Snow and Ice: at least 60% of area is covered by snow and ice for at least 10 months of the year.</td></tr><tr><td>3</td><td><span style=\"background-color:1c0dff\">1c0dff</span></td><td>Water Bodies: at least 60% of area is covered by permanent water bodies.</td></tr><tr><td>10</td><td><span style=\"background-color:003f00\">003f00</span></td><td>Dense Forests: tree cover >60% (canopy >2m).</td></tr><tr><td>20</td><td><span style=\"background-color:006c00\">006c00</span></td><td>Open Forests: tree cover 10-60% (canopy >2m).</td></tr><tr><td>27</td><td><span style=\"background-color:72834a\">72834a</span></td><td>Woody Wetlands: shrub and tree cover >10% (>1m). Permanently or seasonally inundated.</td></tr><tr><td>30</td><td><span style=\"background-color:b6ff05\">b6ff05</span></td><td>Grasslands: dominated by herbaceous annuals (<2m) >10% cover.</td></tr><tr><td>40</td><td><span style=\"background-color:c6b044\">c6b044</span></td><td>Shrublands: shrub cover >60% (1-2m).</td></tr><tr><td>50</td><td><span style=\"background-color:3aba73\">3aba73</span></td><td>Herbaceous Wetlands: dominated by herbaceous annuals (<2m) >10% cover. Permanently or seasonally inundated.</td></tr><tr><td>51</td><td><span style=\"background-color:1e9db3\">1e9db3</span></td><td>Tundra: tree cover <10%. Snow-covered for at least 8 months of the year.</td></tr></table><p><b>QC Class Table</b><table class=\"eecat\"><tr><th scope=\"col\">Value</th><th scope=\"col\">Color</th><th scope=\"col\">Description</th></tr><tr><td>0</td><td><span style=\"background-color:\"></span></td><td>Classified land: has a classification label and is land according to the water mask.</td></tr><tr><td>1</td><td><span style=\"background-color:\"></span></td><td>Unclassified land: not classified because of missing data but land according to the water mask, labeled as barren.</td></tr><tr><td>2</td><td><span style=\"background-color:\"></span></td><td>Classified water: has a classification label and is water according to the water mask.</td></tr><tr><td>3</td><td><span style=\"background-color:\"></span></td><td>Unclassified water: not classified because of missing data but water according to the water mask.</td></tr><tr><td>4</td><td><span style=\"background-color:\"></span></td><td>Classified sea ice: classified as snow/ice but water mask says it is water and less than 100m elevation, switched to water.</td></tr><tr><td>5</td><td><span style=\"background-color:\"></span></td><td>Misclassified water: classified as water but water mask says it is land, switched to secondary label.</td></tr><tr><td>6</td><td><span style=\"background-color:\"></span></td><td>Omitted snow/ice: land according to the water mask that was classified as something other than snow but with a maximum annual temperature below 1◦C, relabeled as snow/ice.</td></tr><tr><td>7</td><td><span style=\"background-color:\"></span></td><td>Misclassified snow/ice: land according to the water mask that was classified as snow but with a minimum annual temperature greater than 1◦C, relabeled as barren.</td></tr><tr><td>8</td><td><span style=\"background-color:\"></span></td><td>Backfilled label: missing label from stabilization, filled with the pre-stabilized result.</td></tr><tr><td>9</td><td><span style=\"background-color:\"></span></td><td>Forest type changed: climate-based change to forest class.</td></tr></table><p><b>LW Class Table</b><table class=\"eecat\"><tr><th scope=\"col\">Value</th><th scope=\"col\">Color</th><th scope=\"col\">Description</th></tr><tr><td>1</td><td><span style=\"background-color:1c0dff\">1c0dff</span></td><td>Water</td></tr><tr><td>2</td><td><span style=\"background-color:f9ffa4\">f9ffa4</span></td><td>Land</td></tr></table><p><b>Terms of Use</b><br><p>MODIS data and products acquired through the LP DAAC have no restrictions on subsequent use, sale, or redistribution.</p><br><b>Dataset's DOI(s)</b><ul><li><p><a href=\"https://doi.org/10.5067/MODIS/MCD12Q1.006\">https://doi.org/10.5067/MODIS/MCD12Q1.006</a></li></ul><p><b>Suggested citation(s)</b><ul><li><p>Please visit <a href=\"https://lpdaac.usgs.gov/citing_our_data\">LP DAAC &#39;Citing Our Data&#39; page</a> for information on citing LP DAAC datasets.</p></li></ul><style>\n",
       "  table.eecat {\n",
       "  border: 1px solid black;\n",
       "  border-collapse: collapse;\n",
       "  font-size: 13px;\n",
       "  }\n",
       "  table.eecat td, tr, th {\n",
       "  text-align: left; vertical-align: top;\n",
       "  border: 1px solid gray; padding: 3px;\n",
       "  }\n",
       "  td.nobreak { white-space: nowrap; }\n",
       "</style>"
      ],
      "text/plain": [
       "<IPython.core.display.HTML object>"
      ]
     },
     "metadata": {},
     "output_type": "display_data"
    }
   ],
   "source": [
    "# description of the modis\n",
    "display(HTML(meta_modis['properties']['description']))"
   ]
  },
  {
   "cell_type": "code",
   "execution_count": 29,
   "metadata": {},
   "outputs": [
    {
     "data": {
      "application/vnd.jupyter.widget-view+json": {
       "model_id": "",
       "version_major": 2,
       "version_minor": 0
      },
      "text/plain": [
       "TWFwKGJhc2VtYXA9eyd1cmwnOiAnaHR0cHM6Ly97c30udGlsZS5vcGVuc3RyZWV0bWFwLm9yZy97en0ve3h9L3t5fS5wbmcnLCAnbWF4X3pvb20nOiAxOSwgJ2F0dHJpYnV0aW9uJzogJ01hcCDigKY=\n"
      ]
     },
     "metadata": {},
     "output_type": "display_data"
    }
   ],
   "source": [
    "# Land Cover Type 1: Annual International Geosphere-Biosphere Programme (IGBP) classification\n",
    "viz_map(lc2015, 'LC_Type1')"
   ]
  },
  {
   "cell_type": "code",
   "execution_count": 30,
   "metadata": {},
   "outputs": [
    {
     "data": {
      "text/html": [
       "\n",
       "        <p style=\"font-size:12px\">\n",
       "        <div style=\"background-color:#05450a;display:inline-block;width:30px;height:12px\">\n",
       "        </div> 1: Evergreen Needleleaf Forests: dominated by evergreen conifer trees (canopy >2m). Tree cover >60%.</p>\n",
       "        \n",
       "        <p style=\"font-size:12px\">\n",
       "        <div style=\"background-color:#086a10;display:inline-block;width:30px;height:12px\">\n",
       "        </div> 2: Evergreen Broadleaf Forests: dominated by evergreen broadleaf and palmate trees (canopy >2m). Tree cover >60%.</p>\n",
       "        \n",
       "        <p style=\"font-size:12px\">\n",
       "        <div style=\"background-color:#54a708;display:inline-block;width:30px;height:12px\">\n",
       "        </div> 3: Deciduous Needleleaf Forests: dominated by deciduous needleleaf (larch) trees (canopy >2m). Tree cover >60%.</p>\n",
       "        \n",
       "        <p style=\"font-size:12px\">\n",
       "        <div style=\"background-color:#78d203;display:inline-block;width:30px;height:12px\">\n",
       "        </div> 4: Deciduous Broadleaf Forests: dominated by deciduous broadleaf trees (canopy >2m). Tree cover >60%.</p>\n",
       "        \n",
       "        <p style=\"font-size:12px\">\n",
       "        <div style=\"background-color:#009900;display:inline-block;width:30px;height:12px\">\n",
       "        </div> 5: Mixed Forests: dominated by neither deciduous nor evergreen (40-60% of each) tree type (canopy >2m). Tree cover >60%.</p>\n",
       "        \n",
       "        <p style=\"font-size:12px\">\n",
       "        <div style=\"background-color:#c6b044;display:inline-block;width:30px;height:12px\">\n",
       "        </div> 6: Closed Shrublands: dominated by woody perennials (1-2m height) >60% cover.</p>\n",
       "        \n",
       "        <p style=\"font-size:12px\">\n",
       "        <div style=\"background-color:#dcd159;display:inline-block;width:30px;height:12px\">\n",
       "        </div> 7: Open Shrublands: dominated by woody perennials (1-2m height) 10-60% cover.</p>\n",
       "        \n",
       "        <p style=\"font-size:12px\">\n",
       "        <div style=\"background-color:#dade48;display:inline-block;width:30px;height:12px\">\n",
       "        </div> 8: Woody Savannas: tree cover 30-60% (canopy >2m).</p>\n",
       "        \n",
       "        <p style=\"font-size:12px\">\n",
       "        <div style=\"background-color:#fbff13;display:inline-block;width:30px;height:12px\">\n",
       "        </div> 9: Savannas: tree cover 10-30% (canopy >2m).</p>\n",
       "        \n",
       "        <p style=\"font-size:12px\">\n",
       "        <div style=\"background-color:#b6ff05;display:inline-block;width:30px;height:12px\">\n",
       "        </div> 10: Grasslands: dominated by herbaceous annuals (<2m).</p>\n",
       "        \n",
       "        <p style=\"font-size:12px\">\n",
       "        <div style=\"background-color:#27ff87;display:inline-block;width:30px;height:12px\">\n",
       "        </div> 11: Permanent Wetlands: permanently inundated lands with 30-60% water cover and >10% vegetated cover.</p>\n",
       "        \n",
       "        <p style=\"font-size:12px\">\n",
       "        <div style=\"background-color:#c24f44;display:inline-block;width:30px;height:12px\">\n",
       "        </div> 12: Croplands: at least 60% of area is cultivated cropland.</p>\n",
       "        \n",
       "        <p style=\"font-size:12px\">\n",
       "        <div style=\"background-color:#a5a5a5;display:inline-block;width:30px;height:12px\">\n",
       "        </div> 13: Urban and Built-up Lands: at least 30% impervious surface area including building materials, asphalt and vehicles.</p>\n",
       "        \n",
       "        <p style=\"font-size:12px\">\n",
       "        <div style=\"background-color:#ff6d4c;display:inline-block;width:30px;height:12px\">\n",
       "        </div> 14: Cropland/Natural Vegetation Mosaics: mosaics of small-scale cultivation 40-60% with natural tree, shrub, or herbaceous vegetation.</p>\n",
       "        \n",
       "        <p style=\"font-size:12px\">\n",
       "        <div style=\"background-color:#69fff8;display:inline-block;width:30px;height:12px\">\n",
       "        </div> 15: Permanent Snow and Ice: at least 60% of area is covered by snow and ice for at least 10 months of the year.</p>\n",
       "        \n",
       "        <p style=\"font-size:12px\">\n",
       "        <div style=\"background-color:#f9ffa4;display:inline-block;width:30px;height:12px\">\n",
       "        </div> 16: Barren: at least 60% of area is non-vegetated barren (sand, rock, soil) areas with less than 10% vegetation.</p>\n",
       "        \n",
       "        <p style=\"font-size:12px\">\n",
       "        <div style=\"background-color:#1c0dff;display:inline-block;width:30px;height:12px\">\n",
       "        </div> 17: Water Bodies: at least 60% of area is covered by permanent water bodies.</p>\n",
       "        "
      ],
      "text/plain": [
       "<IPython.core.display.HTML object>"
      ]
     },
     "metadata": {},
     "output_type": "display_data"
    }
   ],
   "source": [
    "viz_legend('LC_Type1')"
   ]
  },
  {
   "cell_type": "code",
   "execution_count": 33,
   "metadata": {},
   "outputs": [
    {
     "data": {
      "application/vnd.jupyter.widget-view+json": {
       "model_id": "00e7a88dcbb74b5ab97d65ff37cb787c",
       "version_major": 2,
       "version_minor": 0
      },
      "text/plain": [
       "TWFwKGJhc2VtYXA9eyd1cmwnOiAnaHR0cHM6Ly97c30udGlsZS5vcGVuc3RyZWV0bWFwLm9yZy97en0ve3h9L3t5fS5wbmcnLCAnbWF4X3pvb20nOiAxOSwgJ2F0dHJpYnV0aW9uJzogJ01hcCDigKY=\n"
      ]
     },
     "metadata": {},
     "output_type": "display_data"
    }
   ],
   "source": [
    "# Land Cover Type 2: Annual University of Maryland (UMD) classification\n",
    "viz_map(lc2015, 'LC_Type2')"
   ]
  },
  {
   "cell_type": "code",
   "execution_count": 34,
   "metadata": {},
   "outputs": [
    {
     "data": {
      "text/html": [
       "\n",
       "        <p style=\"font-size:12px\">\n",
       "        <div style=\"background-color:#1c0dff;display:inline-block;width:30px;height:12px\">\n",
       "        </div> 0: Water Bodies: at least 60% of area is covered by permanent water bodies.</p>\n",
       "        \n",
       "        <p style=\"font-size:12px\">\n",
       "        <div style=\"background-color:#05450a;display:inline-block;width:30px;height:12px\">\n",
       "        </div> 1: Evergreen Needleleaf Forests: dominated by evergreen conifer trees (canopy >2m). Tree cover >60%.</p>\n",
       "        \n",
       "        <p style=\"font-size:12px\">\n",
       "        <div style=\"background-color:#086a10;display:inline-block;width:30px;height:12px\">\n",
       "        </div> 2: Evergreen Broadleaf Forests: dominated by evergreen broadleaf and palmate trees (canopy >2m). Tree cover >60%.</p>\n",
       "        \n",
       "        <p style=\"font-size:12px\">\n",
       "        <div style=\"background-color:#54a708;display:inline-block;width:30px;height:12px\">\n",
       "        </div> 3: Deciduous Needleleaf Forests: dominated by deciduous needleleaf (larch) trees (canopy >2m). Tree cover >60%.</p>\n",
       "        \n",
       "        <p style=\"font-size:12px\">\n",
       "        <div style=\"background-color:#78d203;display:inline-block;width:30px;height:12px\">\n",
       "        </div> 4: Deciduous Broadleaf Forests: dominated by deciduous broadleaf trees (canopy >2m). Tree cover >60%.</p>\n",
       "        \n",
       "        <p style=\"font-size:12px\">\n",
       "        <div style=\"background-color:#009900;display:inline-block;width:30px;height:12px\">\n",
       "        </div> 5: Mixed Forests: dominated by neither deciduous nor evergreen (40-60% of each) tree type (canopy >2m). Tree cover >60%.</p>\n",
       "        \n",
       "        <p style=\"font-size:12px\">\n",
       "        <div style=\"background-color:#c6b044;display:inline-block;width:30px;height:12px\">\n",
       "        </div> 6: Closed Shrublands: dominated by woody perennials (1-2m height) >60% cover.</p>\n",
       "        \n",
       "        <p style=\"font-size:12px\">\n",
       "        <div style=\"background-color:#dcd159;display:inline-block;width:30px;height:12px\">\n",
       "        </div> 7: Open Shrublands: dominated by woody perennials (1-2m height) 10-60% cover.</p>\n",
       "        \n",
       "        <p style=\"font-size:12px\">\n",
       "        <div style=\"background-color:#dade48;display:inline-block;width:30px;height:12px\">\n",
       "        </div> 8: Woody Savannas: tree cover 30-60% (canopy >2m).</p>\n",
       "        \n",
       "        <p style=\"font-size:12px\">\n",
       "        <div style=\"background-color:#fbff13;display:inline-block;width:30px;height:12px\">\n",
       "        </div> 9: Savannas: tree cover 10-30% (canopy >2m).</p>\n",
       "        \n",
       "        <p style=\"font-size:12px\">\n",
       "        <div style=\"background-color:#b6ff05;display:inline-block;width:30px;height:12px\">\n",
       "        </div> 10: Grasslands: dominated by herbaceous annuals (<2m).</p>\n",
       "        \n",
       "        <p style=\"font-size:12px\">\n",
       "        <div style=\"background-color:#27ff87;display:inline-block;width:30px;height:12px\">\n",
       "        </div> 11: Permanent Wetlands: permanently inundated lands with 30-60% water cover and >10% vegetated cover.</p>\n",
       "        \n",
       "        <p style=\"font-size:12px\">\n",
       "        <div style=\"background-color:#c24f44;display:inline-block;width:30px;height:12px\">\n",
       "        </div> 12: Croplands: at least 60% of area is cultivated cropland.</p>\n",
       "        \n",
       "        <p style=\"font-size:12px\">\n",
       "        <div style=\"background-color:#a5a5a5;display:inline-block;width:30px;height:12px\">\n",
       "        </div> 13: Urban and Built-up Lands: at least 30% impervious surface area including building materials, asphalt and vehicles.</p>\n",
       "        \n",
       "        <p style=\"font-size:12px\">\n",
       "        <div style=\"background-color:#ff6d4c;display:inline-block;width:30px;height:12px\">\n",
       "        </div> 14: Cropland/Natural Vegetation Mosaics: mosaics of small-scale cultivation 40-60% with natural tree, shrub, or herbaceous vegetation.</p>\n",
       "        \n",
       "        <p style=\"font-size:12px\">\n",
       "        <div style=\"background-color:#f9ffa4;display:inline-block;width:30px;height:12px\">\n",
       "        </div> 15: Non-Vegetated Lands: at least 60% of area is non-vegetated barren (sand, rock, soil) or permanent snow and ice with less than 10% vegetation.</p>\n",
       "        "
      ],
      "text/plain": [
       "<IPython.core.display.HTML object>"
      ]
     },
     "metadata": {},
     "output_type": "display_data"
    }
   ],
   "source": [
    "viz_legend('LC_Type2')"
   ]
  },
  {
   "cell_type": "code",
   "execution_count": 35,
   "metadata": {},
   "outputs": [
    {
     "data": {
      "application/vnd.jupyter.widget-view+json": {
       "model_id": "920095f9f5814e329e7495638560374d",
       "version_major": 2,
       "version_minor": 0
      },
      "text/plain": [
       "TWFwKGJhc2VtYXA9eyd1cmwnOiAnaHR0cHM6Ly97c30udGlsZS5vcGVuc3RyZWV0bWFwLm9yZy97en0ve3h9L3t5fS5wbmcnLCAnbWF4X3pvb20nOiAxOSwgJ2F0dHJpYnV0aW9uJzogJ01hcCDigKY=\n"
      ]
     },
     "metadata": {},
     "output_type": "display_data"
    }
   ],
   "source": [
    "# Land Cover Type 3: Annual Leaf Area Index (LAI) classification\n",
    "viz_map(lc2015, 'LC_Type3')"
   ]
  },
  {
   "cell_type": "code",
   "execution_count": 36,
   "metadata": {},
   "outputs": [
    {
     "data": {
      "text/html": [
       "\n",
       "        <p style=\"font-size:12px\">\n",
       "        <div style=\"background-color:#1c0dff;display:inline-block;width:30px;height:12px\">\n",
       "        </div> 0: Water Bodies: at least 60% of area is covered by permanent water bodies.</p>\n",
       "        \n",
       "        <p style=\"font-size:12px\">\n",
       "        <div style=\"background-color:#b6ff05;display:inline-block;width:30px;height:12px\">\n",
       "        </div> 1: Grasslands: dominated by herbaceous annuals (<2m) including cereal croplands.</p>\n",
       "        \n",
       "        <p style=\"font-size:12px\">\n",
       "        <div style=\"background-color:#dcd159;display:inline-block;width:30px;height:12px\">\n",
       "        </div> 2: Shrublands: shrub (1-2m) cover >10%.</p>\n",
       "        \n",
       "        <p style=\"font-size:12px\">\n",
       "        <div style=\"background-color:#c24f44;display:inline-block;width:30px;height:12px\">\n",
       "        </div> 3: Broadleaf Croplands: bominated by herbaceous annuals (<2m) that are cultivated with broadleaf crops.</p>\n",
       "        \n",
       "        <p style=\"font-size:12px\">\n",
       "        <div style=\"background-color:#fbff13;display:inline-block;width:30px;height:12px\">\n",
       "        </div> 4: Savannas: between 10-60% tree cover (>2m).</p>\n",
       "        \n",
       "        <p style=\"font-size:12px\">\n",
       "        <div style=\"background-color:#086a10;display:inline-block;width:30px;height:12px\">\n",
       "        </div> 5: Evergreen Broadleaf Forests: dominated by evergreen broadleaf and palmate trees (canopy >2m). Tree cover >60%.</p>\n",
       "        \n",
       "        <p style=\"font-size:12px\">\n",
       "        <div style=\"background-color:#78d203;display:inline-block;width:30px;height:12px\">\n",
       "        </div> 6: Deciduous Broadleaf Forests: dominated by deciduous broadleaf trees (canopy >2m). Tree cover >60%.</p>\n",
       "        \n",
       "        <p style=\"font-size:12px\">\n",
       "        <div style=\"background-color:#05450a;display:inline-block;width:30px;height:12px\">\n",
       "        </div> 7: Evergreen Needleleaf Forests: dominated by evergreen conifer trees (canopy >2m). Tree cover >60%.</p>\n",
       "        \n",
       "        <p style=\"font-size:12px\">\n",
       "        <div style=\"background-color:#54a708;display:inline-block;width:30px;height:12px\">\n",
       "        </div> 8: Deciduous Needleleaf Forests: dominated by deciduous needleleaf (larch) trees (canopy >2m). Tree cover >60%.</p>\n",
       "        \n",
       "        <p style=\"font-size:12px\">\n",
       "        <div style=\"background-color:#f9ffa4;display:inline-block;width:30px;height:12px\">\n",
       "        </div> 9: Non-Vegetated Lands: at least 60% of area is non-vegetated barren (sand, rock, soil) or permanent snow and ice with less than 10% vegetation.</p>\n",
       "        \n",
       "        <p style=\"font-size:12px\">\n",
       "        <div style=\"background-color:#a5a5a5;display:inline-block;width:30px;height:12px\">\n",
       "        </div> 10: Urban and Built-up Lands: at least 30% impervious surface area including building materials, asphalt and vehicles.</p>\n",
       "        "
      ],
      "text/plain": [
       "<IPython.core.display.HTML object>"
      ]
     },
     "metadata": {},
     "output_type": "display_data"
    }
   ],
   "source": [
    "viz_legend('LC_Type3')"
   ]
  },
  {
   "cell_type": "code",
   "execution_count": null,
   "metadata": {},
   "outputs": [],
   "source": []
  }
 ],
 "metadata": {
  "kernelspec": {
   "display_name": "Python 2",
   "language": "python",
   "name": "python2"
  },
  "language_info": {
   "codemirror_mode": {
    "name": "ipython",
    "version": 2
   },
   "file_extension": ".py",
   "mimetype": "text/x-python",
   "name": "python",
   "nbconvert_exporter": "python",
   "pygments_lexer": "ipython2",
   "version": "2.7.12"
  }
 },
 "nbformat": 4,
 "nbformat_minor": 2
}
