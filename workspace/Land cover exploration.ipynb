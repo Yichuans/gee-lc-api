{
 "cells": [
  {
   "cell_type": "markdown",
   "metadata": {},
   "source": [
    "# MODIS land cover exploration"
   ]
  },
  {
   "cell_type": "markdown",
   "metadata": {},
   "source": [
    "Visualisation and stats generation"
   ]
  },
  {
   "cell_type": "code",
   "execution_count": 3,
   "metadata": {},
   "outputs": [],
   "source": [
    "import ee"
   ]
  },
  {
   "cell_type": "code",
   "execution_count": 4,
   "metadata": {},
   "outputs": [],
   "source": [
    "ee.Initialize()"
   ]
  },
  {
   "cell_type": "code",
   "execution_count": 5,
   "metadata": {},
   "outputs": [],
   "source": [
    "import ipyleaflet\n",
    "\n",
    "# utility\n",
    "def GetTileLayerUrl(ee_image_object):\n",
    "  map_id = ee.Image(ee_image_object).getMapId()\n",
    "  tile_url_template = \"https://earthengine.googleapis.com/map/{mapid}/{{z}}/{{x}}/{{y}}?token={token}\"\n",
    "  return tile_url_template.format(**map_id)"
   ]
  },
  {
   "cell_type": "markdown",
   "metadata": {},
   "source": [
    "MODIS land cover data, `ee.ImageColelction` with 17 `ee.Image`, each representing a year (data between 2000 and 2016). Each year image has multiple bands, representing different land cover classifications"
   ]
  },
  {
   "cell_type": "code",
   "execution_count": 6,
   "metadata": {},
   "outputs": [],
   "source": [
    "modis = ee.ImageCollection('MODIS/006/MCD12Q1')"
   ]
  },
  {
   "cell_type": "code",
   "execution_count": 7,
   "metadata": {},
   "outputs": [],
   "source": [
    "meta_modis = modis.getInfo()"
   ]
  },
  {
   "cell_type": "code",
   "execution_count": 8,
   "metadata": {},
   "outputs": [],
   "source": [
    "def get_modis_lc_by_year(year):\n",
    "    \n",
    "    if year not in range(2000, 2017):\n",
    "        raise Exception('Year must be in between 2000 and 2016')\n",
    "        \n",
    "    # internal ee.Image 'system:time_start' 'system:time_end' in miliseconds\n",
    "    g = modis.filterDate(str(year)+'-01-01', str(year)+'-12-31').first()\n",
    "    \n",
    "    return g"
   ]
  },
  {
   "cell_type": "code",
   "execution_count": 9,
   "metadata": {},
   "outputs": [],
   "source": [
    "lc2015 = get_modis_lc_by_year(2015)"
   ]
  },
  {
   "cell_type": "code",
   "execution_count": 10,
   "metadata": {},
   "outputs": [
    {
     "data": {
      "text/plain": [
       "<ee.image.Image at 0x7f7a85f439d0>"
      ]
     },
     "execution_count": 10,
     "metadata": {},
     "output_type": "execute_result"
    }
   ],
   "source": [
    "lc2015"
   ]
  },
  {
   "cell_type": "markdown",
   "metadata": {},
   "source": [
    "Here `g` is an instance of `ee.Image`. Get an descriptive object `meta` to check on properties. Examine if the time filter works as intended. `meta` will also be used to derive colour schemes and etc. \n",
    "\n",
    "**N.B.**\n",
    "For viz purposes, `meta` is the same regardless of the band/different LC classification within `modis`. This can be re-used and there is no need to repeatedly request `meta` from Earth Engine, based on the band"
   ]
  },
  {
   "cell_type": "code",
   "execution_count": 11,
   "metadata": {},
   "outputs": [],
   "source": [
    "meta = lc2015.getInfo()"
   ]
  },
  {
   "cell_type": "code",
   "execution_count": 12,
   "metadata": {},
   "outputs": [
    {
     "data": {
      "text/plain": [
       "1420070400000"
      ]
     },
     "execution_count": 12,
     "metadata": {},
     "output_type": "execute_result"
    }
   ],
   "source": [
    "meta['properties']['system:time_start']"
   ]
  },
  {
   "cell_type": "code",
   "execution_count": 13,
   "metadata": {},
   "outputs": [],
   "source": [
    "import datetime"
   ]
  },
  {
   "cell_type": "code",
   "execution_count": 14,
   "metadata": {},
   "outputs": [
    {
     "data": {
      "text/plain": [
       "datetime.datetime(2015, 1, 1, 0, 0)"
      ]
     },
     "execution_count": 14,
     "metadata": {},
     "output_type": "execute_result"
    }
   ],
   "source": [
    "datetime.datetime.fromtimestamp(meta['properties']['system:time_start']/1000.0)"
   ]
  },
  {
   "cell_type": "code",
   "execution_count": 15,
   "metadata": {},
   "outputs": [
    {
     "data": {
      "text/plain": [
       "datetime.datetime(2016, 1, 1, 0, 0)"
      ]
     },
     "execution_count": 15,
     "metadata": {},
     "output_type": "execute_result"
    }
   ],
   "source": [
    "datetime.datetime.fromtimestamp(meta['properties']['system:time_end']/1000.0)"
   ]
  },
  {
   "cell_type": "markdown",
   "metadata": {},
   "source": [
    "Here are the properties of the `meta`, which is a dictionary"
   ]
  },
  {
   "cell_type": "code",
   "execution_count": 16,
   "metadata": {},
   "outputs": [
    {
     "data": {
      "text/plain": [
       "[u'system:index',\n",
       " u'LC_Prop1_class_values',\n",
       " u'system:time_start',\n",
       " u'LC_Type3_class_values',\n",
       " u'LC_Type4_class_palette',\n",
       " u'system:footprint',\n",
       " u'LC_Prop2_class_names',\n",
       " u'LC_Type4_class_names',\n",
       " u'LW_class_palette',\n",
       " u'LC_Type5_class_values',\n",
       " u'LC_Prop2_class_values',\n",
       " u'LC_Type4_class_values',\n",
       " u'LC_Type5_class_names',\n",
       " u'LC_Type1_class_values',\n",
       " u'LC_Type2_class_palette',\n",
       " u'LC_Prop1_class_names',\n",
       " u'LC_Type1_class_names',\n",
       " u'LW_class_values',\n",
       " u'system:time_end',\n",
       " u'LC_Type3_class_palette',\n",
       " u'LC_Prop3_class_names',\n",
       " u'LC_Type2_class_values',\n",
       " u'LC_Prop3_class_palette',\n",
       " u'LC_Type2_class_names',\n",
       " u'LC_Prop1_class_palette',\n",
       " u'LC_Prop3_class_values',\n",
       " u'LC_Type3_class_names',\n",
       " u'system:asset_size',\n",
       " u'LC_Type1_class_palette',\n",
       " u'LC_Type5_class_palette',\n",
       " u'LW_class_names',\n",
       " u'LC_Prop2_class_palette']"
      ]
     },
     "execution_count": 16,
     "metadata": {},
     "output_type": "execute_result"
    }
   ],
   "source": [
    "meta['properties'].keys()"
   ]
  },
  {
   "cell_type": "markdown",
   "metadata": {},
   "source": [
    "## Visualisation"
   ]
  },
  {
   "cell_type": "code",
   "execution_count": 17,
   "metadata": {},
   "outputs": [],
   "source": [
    "import ipyleaflet\n",
    "\n",
    "# utility\n",
    "def GetTileLayerUrl(ee_image_object):\n",
    "  map_id = ee.Image(ee_image_object).getMapId()\n",
    "  tile_url_template = \"https://earthengine.googleapis.com/map/{mapid}/{{z}}/{{x}}/{{y}}?token={token}\"\n",
    "  return tile_url_template.format(**map_id)"
   ]
  },
  {
   "cell_type": "code",
   "execution_count": 19,
   "metadata": {},
   "outputs": [],
   "source": [
    "# function to return viz params, to be unpacked for use\n",
    "def viz_setting(band):\n",
    "    '''e.g. band=\"LC_Type1\" '''\n",
    "    values = meta['properties'][band+'_class_values']\n",
    "    palette = meta['properties'][band+'_class_palette']\n",
    "    \n",
    "    return {'min': min(values),\n",
    "           'max': max(values),\n",
    "           'palette': palette,\n",
    "           'bands': [band]}\n",
    "\n",
    "# convenient wrapper\n",
    "def viz_map(ee_image, band):\n",
    "    map1 = ipyleaflet.Map(\n",
    "    center=(48.2082, 16.3779), zoom=4,\n",
    "    layout={'height':'400px'}\n",
    "    )\n",
    "\n",
    "    map1.add_layer(\n",
    "        ipyleaflet.TileLayer(url=GetTileLayerUrl(\n",
    "            # returns ee_image object\n",
    "            ee_image.visualize(**viz_setting(band))\n",
    "        )\n",
    "    ))\n",
    "\n",
    "    return map1"
   ]
  },
  {
   "cell_type": "code",
   "execution_count": 20,
   "metadata": {},
   "outputs": [],
   "source": [
    "from IPython.core.display import display, HTML\n",
    "\n",
    "# legend viz\n",
    "def viz_legend(band):\n",
    "    '''Create a legend based on band'''\n",
    "    values = meta['properties'][band+'_class_values']\n",
    "    palette = meta['properties'][band+'_class_palette']\n",
    "    names = meta['properties'][band+'_class_names']\n",
    "    \n",
    "    html = \"\"\n",
    "    for value, name, colour in zip(values, names, palette):\n",
    "        html += '''\n",
    "        <p style=\"font-size:12px\">\n",
    "        <div style=\"background-color:#{};display:inline-block;width:30px;height:12px\">\n",
    "        </div> {}: {}</p>\n",
    "        '''.format(colour, value, name)\n",
    "        \n",
    "#     print html\n",
    "    display(HTML(html))"
   ]
  },
  {
   "cell_type": "markdown",
   "metadata": {},
   "source": [
    "## Examples\n",
    "\n",
    "Below are examples of all LC classification within `modis` in year 2015"
   ]
  },
  {
   "cell_type": "code",
   "execution_count": 21,
   "metadata": {},
   "outputs": [
    {
     "data": {
      "text/html": [
       "<p>The MCD12Q1 V6 product provides global land cover types at yearly intervals\n",
       "(2001-2016) derived from six different classification schemes. It is derived\n",
       "using supervised classifications of MODIS Terra and Aqua reflectance data.\n",
       "The supervised classifications then undergo additional post-processing that\n",
       "incorporate prior knowledge and ancillary information to further refine\n",
       "specific classes.</p><p><b>Resolution</b><br>500 meters\n",
       "</p><p><b>Cadence</b><br>\n",
       "  1 year\n",
       "</p><p><b>Bands</b><table class=\"eecat\"><tr><th scope=\"col\">Name</th><th scope=\"col\">Units</th><th scope=\"col\">Min</th><th scope=\"col\">Max</th><th scope=\"col\">Description</th></tr><tr><td>LC_Type1</td><td></td><td></td><td></td><td><p>Land Cover Type 1: Annual International Geosphere-Biosphere Programme (IGBP) classification</p></td></tr><tr><td>LC_Type2</td><td></td><td></td><td></td><td><p>Land Cover Type 2: Annual University of Maryland (UMD) classification</p></td></tr><tr><td>LC_Type3</td><td></td><td></td><td></td><td><p>Land Cover Type 3: Annual Leaf Area Index (LAI) classification</p></td></tr><tr><td>LC_Type4</td><td></td><td></td><td></td><td><p>Land Cover Type 4: Annual BIOME-Biogeochemical Cycles (BGC) classification</p></td></tr><tr><td>LC_Type5</td><td></td><td></td><td></td><td><p>Land Cover Type 5: Annual Plant Functional Types classification</p></td></tr><tr><td>LC_Prop1_Assessment</td><td>%</td><td>\n",
       "          0\n",
       "</td><td>\n",
       "          100\n",
       "</td><td><p>LCCS1 land cover layer confidence</p></td></tr><tr><td>LC_Prop2_Assessment</td><td>%</td><td>\n",
       "          0\n",
       "</td><td>\n",
       "          100\n",
       "</td><td><p>LCCS2 land use layer confidence</p></td></tr><tr><td>LC_Prop3_Assessment</td><td>%</td><td>\n",
       "          0\n",
       "</td><td>\n",
       "          100\n",
       "</td><td><p>LCCS3 surface hydrology layer confidence</p></td></tr><tr><td>LC_Prop1</td><td></td><td></td><td></td><td><p>FAO-Land Cover Classification System 1 (LCCS1) land cover layer</p></td></tr><tr><td>LC_Prop2</td><td></td><td></td><td></td><td><p>FAO-LCCS2 land use layer</p></td></tr><tr><td>LC_Prop3</td><td></td><td></td><td></td><td><p>FAO-LCCS3 surface hydrology layer</p></td></tr><tr><td>QC</td><td></td><td></td><td></td><td><p>Product quality flags</p></td></tr><tr><td>LW</td><td></td><td></td><td></td><td><p>Binary land (class 2) / water (class 1) mask derived from MOD44W</p></td></tr></table><p><b>LC_Type1 Class Table</b><table class=\"eecat\"><tr><th scope=\"col\">Value</th><th scope=\"col\">Color</th><th scope=\"col\">Description</th></tr><tr><td>1</td><td><span style=\"background-color:05450a\">05450a</span></td><td>Evergreen Needleleaf Forests: dominated by evergreen conifer trees (canopy >2m). Tree cover >60%.</td></tr><tr><td>2</td><td><span style=\"background-color:086a10\">086a10</span></td><td>Evergreen Broadleaf Forests: dominated by evergreen broadleaf and palmate trees (canopy >2m). Tree cover >60%.</td></tr><tr><td>3</td><td><span style=\"background-color:54a708\">54a708</span></td><td>Deciduous Needleleaf Forests: dominated by deciduous needleleaf (larch) trees (canopy >2m). Tree cover >60%.</td></tr><tr><td>4</td><td><span style=\"background-color:78d203\">78d203</span></td><td>Deciduous Broadleaf Forests: dominated by deciduous broadleaf trees (canopy >2m). Tree cover >60%.</td></tr><tr><td>5</td><td><span style=\"background-color:009900\">009900</span></td><td>Mixed Forests: dominated by neither deciduous nor evergreen (40-60% of each) tree type (canopy >2m). Tree cover >60%.</td></tr><tr><td>6</td><td><span style=\"background-color:c6b044\">c6b044</span></td><td>Closed Shrublands: dominated by woody perennials (1-2m height) >60% cover.</td></tr><tr><td>7</td><td><span style=\"background-color:dcd159\">dcd159</span></td><td>Open Shrublands: dominated by woody perennials (1-2m height) 10-60% cover.</td></tr><tr><td>8</td><td><span style=\"background-color:dade48\">dade48</span></td><td>Woody Savannas: tree cover 30-60% (canopy >2m).</td></tr><tr><td>9</td><td><span style=\"background-color:fbff13\">fbff13</span></td><td>Savannas: tree cover 10-30% (canopy >2m).</td></tr><tr><td>10</td><td><span style=\"background-color:b6ff05\">b6ff05</span></td><td>Grasslands: dominated by herbaceous annuals (<2m).</td></tr><tr><td>11</td><td><span style=\"background-color:27ff87\">27ff87</span></td><td>Permanent Wetlands: permanently inundated lands with 30-60% water cover and >10% vegetated cover.</td></tr><tr><td>12</td><td><span style=\"background-color:c24f44\">c24f44</span></td><td>Croplands: at least 60% of area is cultivated cropland.</td></tr><tr><td>13</td><td><span style=\"background-color:a5a5a5\">a5a5a5</span></td><td>Urban and Built-up Lands: at least 30% impervious surface area including building materials, asphalt and vehicles.</td></tr><tr><td>14</td><td><span style=\"background-color:ff6d4c\">ff6d4c</span></td><td>Cropland/Natural Vegetation Mosaics: mosaics of small-scale cultivation 40-60% with natural tree, shrub, or herbaceous vegetation.</td></tr><tr><td>15</td><td><span style=\"background-color:69fff8\">69fff8</span></td><td>Permanent Snow and Ice: at least 60% of area is covered by snow and ice for at least 10 months of the year.</td></tr><tr><td>16</td><td><span style=\"background-color:f9ffa4\">f9ffa4</span></td><td>Barren: at least 60% of area is non-vegetated barren (sand, rock, soil) areas with less than 10% vegetation.</td></tr><tr><td>17</td><td><span style=\"background-color:1c0dff\">1c0dff</span></td><td>Water Bodies: at least 60% of area is covered by permanent water bodies.</td></tr></table><p><b>LC_Type2 Class Table</b><table class=\"eecat\"><tr><th scope=\"col\">Value</th><th scope=\"col\">Color</th><th scope=\"col\">Description</th></tr><tr><td>0</td><td><span style=\"background-color:1c0dff\">1c0dff</span></td><td>Water Bodies: at least 60% of area is covered by permanent water bodies.</td></tr><tr><td>1</td><td><span style=\"background-color:05450a\">05450a</span></td><td>Evergreen Needleleaf Forests: dominated by evergreen conifer trees (canopy >2m). Tree cover >60%.</td></tr><tr><td>2</td><td><span style=\"background-color:086a10\">086a10</span></td><td>Evergreen Broadleaf Forests: dominated by evergreen broadleaf and palmate trees (canopy >2m). Tree cover >60%.</td></tr><tr><td>3</td><td><span style=\"background-color:54a708\">54a708</span></td><td>Deciduous Needleleaf Forests: dominated by deciduous needleleaf (larch) trees (canopy >2m). Tree cover >60%.</td></tr><tr><td>4</td><td><span style=\"background-color:78d203\">78d203</span></td><td>Deciduous Broadleaf Forests: dominated by deciduous broadleaf trees (canopy >2m). Tree cover >60%.</td></tr><tr><td>5</td><td><span style=\"background-color:009900\">009900</span></td><td>Mixed Forests: dominated by neither deciduous nor evergreen (40-60% of each) tree type (canopy >2m). Tree cover >60%.</td></tr><tr><td>6</td><td><span style=\"background-color:c6b044\">c6b044</span></td><td>Closed Shrublands: dominated by woody perennials (1-2m height) >60% cover.</td></tr><tr><td>7</td><td><span style=\"background-color:dcd159\">dcd159</span></td><td>Open Shrublands: dominated by woody perennials (1-2m height) 10-60% cover.</td></tr><tr><td>8</td><td><span style=\"background-color:dade48\">dade48</span></td><td>Woody Savannas: tree cover 30-60% (canopy >2m).</td></tr><tr><td>9</td><td><span style=\"background-color:fbff13\">fbff13</span></td><td>Savannas: tree cover 10-30% (canopy >2m).</td></tr><tr><td>10</td><td><span style=\"background-color:b6ff05\">b6ff05</span></td><td>Grasslands: dominated by herbaceous annuals (<2m).</td></tr><tr><td>11</td><td><span style=\"background-color:27ff87\">27ff87</span></td><td>Permanent Wetlands: permanently inundated lands with 30-60% water cover and >10% vegetated cover.</td></tr><tr><td>12</td><td><span style=\"background-color:c24f44\">c24f44</span></td><td>Croplands: at least 60% of area is cultivated cropland.</td></tr><tr><td>13</td><td><span style=\"background-color:a5a5a5\">a5a5a5</span></td><td>Urban and Built-up Lands: at least 30% impervious surface area including building materials, asphalt and vehicles.</td></tr><tr><td>14</td><td><span style=\"background-color:ff6d4c\">ff6d4c</span></td><td>Cropland/Natural Vegetation Mosaics: mosaics of small-scale cultivation 40-60% with natural tree, shrub, or herbaceous vegetation.</td></tr><tr><td>15</td><td><span style=\"background-color:f9ffa4\">f9ffa4</span></td><td>Non-Vegetated Lands: at least 60% of area is non-vegetated barren (sand, rock, soil) or permanent snow and ice with less than 10% vegetation.</td></tr></table><p><b>LC_Type3 Class Table</b><table class=\"eecat\"><tr><th scope=\"col\">Value</th><th scope=\"col\">Color</th><th scope=\"col\">Description</th></tr><tr><td>0</td><td><span style=\"background-color:1c0dff\">1c0dff</span></td><td>Water Bodies: at least 60% of area is covered by permanent water bodies.</td></tr><tr><td>1</td><td><span style=\"background-color:b6ff05\">b6ff05</span></td><td>Grasslands: dominated by herbaceous annuals (<2m) including cereal croplands.</td></tr><tr><td>2</td><td><span style=\"background-color:dcd159\">dcd159</span></td><td>Shrublands: shrub (1-2m) cover >10%.</td></tr><tr><td>3</td><td><span style=\"background-color:c24f44\">c24f44</span></td><td>Broadleaf Croplands: bominated by herbaceous annuals (<2m) that are cultivated with broadleaf crops.</td></tr><tr><td>4</td><td><span style=\"background-color:fbff13\">fbff13</span></td><td>Savannas: between 10-60% tree cover (>2m).</td></tr><tr><td>5</td><td><span style=\"background-color:086a10\">086a10</span></td><td>Evergreen Broadleaf Forests: dominated by evergreen broadleaf and palmate trees (canopy >2m). Tree cover >60%.</td></tr><tr><td>6</td><td><span style=\"background-color:78d203\">78d203</span></td><td>Deciduous Broadleaf Forests: dominated by deciduous broadleaf trees (canopy >2m). Tree cover >60%.</td></tr><tr><td>7</td><td><span style=\"background-color:05450a\">05450a</span></td><td>Evergreen Needleleaf Forests: dominated by evergreen conifer trees (canopy >2m). Tree cover >60%.</td></tr><tr><td>8</td><td><span style=\"background-color:54a708\">54a708</span></td><td>Deciduous Needleleaf Forests: dominated by deciduous needleleaf (larch) trees (canopy >2m). Tree cover >60%.</td></tr><tr><td>9</td><td><span style=\"background-color:f9ffa4\">f9ffa4</span></td><td>Non-Vegetated Lands: at least 60% of area is non-vegetated barren (sand, rock, soil) or permanent snow and ice with less than 10% vegetation.</td></tr><tr><td>10</td><td><span style=\"background-color:a5a5a5\">a5a5a5</span></td><td>Urban and Built-up Lands: at least 30% impervious surface area including building materials, asphalt and vehicles.</td></tr></table><p><b>LC_Type4 Class Table</b><table class=\"eecat\"><tr><th scope=\"col\">Value</th><th scope=\"col\">Color</th><th scope=\"col\">Description</th></tr><tr><td>0</td><td><span style=\"background-color:1c0dff\">1c0dff</span></td><td>Water Bodies: at least 60% of area is covered by permanent water bodies.</td></tr><tr><td>1</td><td><span style=\"background-color:05450a\">05450a</span></td><td>Evergreen Needleleaf Vegetation: dominated by evergreen conifer trees and shrubs (>1m). Woody vegetation cover >10%.</td></tr><tr><td>2</td><td><span style=\"background-color:086a10\">086a10</span></td><td>Evergreen Broadleaf Vegetation: dominated by evergreen broadleaf and palmate trees and shrubs (>1m). Woody vegetation cover >10%.</td></tr><tr><td>3</td><td><span style=\"background-color:54a708\">54a708</span></td><td>Deciduous Needleleaf Vegetation: dominated by deciduous needleleaf (larch) trees and shrubs (>1m). Woody vegetation cover >10%.</td></tr><tr><td>4</td><td><span style=\"background-color:78d203\">78d203</span></td><td>Deciduous Broadleaf Vegetation: dominated by deciduous broadleaf trees and shrubs (>1m). Woody vegetation cover >10%.</td></tr><tr><td>5</td><td><span style=\"background-color:009900\">009900</span></td><td>Annual Broadleaf Vegetation: dominated by herbaceous annuals (<2m). At least 60% cultivated broadleaf crops.</td></tr><tr><td>6</td><td><span style=\"background-color:b6ff05\">b6ff05</span></td><td>Annual Grass Vegetation: dominated by herbaceous annuals (<2m) including cereal croplands.</td></tr><tr><td>7</td><td><span style=\"background-color:f9ffa4\">f9ffa4</span></td><td>Non-Vegetated Lands: at least 60% of area is non-vegetated barren (sand, rock, soil) or permanent snow/ice with less than 10% vegetation.</td></tr><tr><td>8</td><td><span style=\"background-color:a5a5a5\">a5a5a5</span></td><td>Urban and Built-up Lands: at least 30% impervious surface area including building materials, asphalt, and vehicles.</td></tr></table><p><b>LC_Type5 Class Table</b><table class=\"eecat\"><tr><th scope=\"col\">Value</th><th scope=\"col\">Color</th><th scope=\"col\">Description</th></tr><tr><td>0</td><td><span style=\"background-color:1c0dff\">1c0dff</span></td><td>Water Bodies: at least 60% of area is covered by permanent water bodies.</td></tr><tr><td>1</td><td><span style=\"background-color:05450a\">05450a</span></td><td>Evergreen Needleleaf Trees: dominated by evergreen conifer trees (>2m). Tree cover >10%.</td></tr><tr><td>2</td><td><span style=\"background-color:086a10\">086a10</span></td><td>Evergreen Broadleaf Trees: dominated by evergreen broadleaf and palmate trees (>2m). Tree cover >10%.</td></tr><tr><td>3</td><td><span style=\"background-color:54a708\">54a708</span></td><td>Deciduous Needleleaf Trees: dominated by deciduous needleleaf (larch) trees (>2m). Tree cover >10%.</td></tr><tr><td>4</td><td><span style=\"background-color:78d203\">78d203</span></td><td>Deciduous Broadleaf Trees: dominated by deciduous broadleaf trees (>2m). Tree cover >10%.</td></tr><tr><td>5</td><td><span style=\"background-color:dcd159\">dcd159</span></td><td>Shrub: Shrub (1-2m) cover >10%.</td></tr><tr><td>6</td><td><span style=\"background-color:b6ff05\">b6ff05</span></td><td>Grass: dominated by herbaceous annuals (<2m) that are not cultivated.</td></tr><tr><td>7</td><td><span style=\"background-color:dade48\">dade48</span></td><td>Cereal Croplands: dominated by herbaceous annuals (<2m). At least 60% cultivated cereal crops.</td></tr><tr><td>8</td><td><span style=\"background-color:c24f44\">c24f44</span></td><td>Broadleaf Croplands: dominated by herbaceous annuals (<2m). At least 60% cultivated broadleaf crops.</td></tr><tr><td>9</td><td><span style=\"background-color:a5a5a5\">a5a5a5</span></td><td>Urban and Built-up Lands: at least 30% impervious surface area including building materials, asphalt, and vehicles.</td></tr><tr><td>10</td><td><span style=\"background-color:69fff8\">69fff8</span></td><td>Permanent Snow and Ice: at least 60% of area is covered by snow and ice for at least 10 months of the year.</td></tr><tr><td>11</td><td><span style=\"background-color:f9ffa4\">f9ffa4</span></td><td>Non-Vegetated Lands: at least 60% of area is non-vegetated barren (sand, rock, soil) with less than 10% vegetation.</td></tr></table><p><b>LC_Prop1 Class Table</b><table class=\"eecat\"><tr><th scope=\"col\">Value</th><th scope=\"col\">Color</th><th scope=\"col\">Description</th></tr><tr><td>1</td><td><span style=\"background-color:f9ffa4\">f9ffa4</span></td><td>Barren: at least of area 60% is non-vegetated barren (sand, rock, soil) or permanent snow/ice with less than 10% vegetation.</td></tr><tr><td>2</td><td><span style=\"background-color:69fff8\">69fff8</span></td><td>Permanent Snow and Ice: at least 60% of area is covered by snow and ice for at least 10 months of the year.</td></tr><tr><td>3</td><td><span style=\"background-color:1c0dff\">1c0dff</span></td><td>Water Bodies: at least 60% of area is covered by permanent water bodies.</td></tr><tr><td>11</td><td><span style=\"background-color:05450a\">05450a</span></td><td>Evergreen Needleleaf Forests: dominated by evergreen conifer trees (>2m). Tree cover >60%.</td></tr><tr><td>12</td><td><span style=\"background-color:086a10\">086a10</span></td><td>Evergreen Broadleaf Forests: dominated by evergreen broadleaf and palmate trees (>2m). Tree cover >60%.</td></tr><tr><td>13</td><td><span style=\"background-color:54a708\">54a708</span></td><td>Deciduous Needleleaf Forests: dominated by deciduous needleleaf (larch) trees (>2m). Tree cover >60%.</td></tr><tr><td>14</td><td><span style=\"background-color:78d203\">78d203</span></td><td>Deciduous Broadleaf Forests: dominated by deciduous broadleaf trees (>2m). Tree cover >60%.</td></tr><tr><td>15</td><td><span style=\"background-color:005a00\">005a00</span></td><td>Mixed Broadleaf/Needleleaf Forests: co-dominated (40-60%) by broadleaf deciduous and evergreen needleleaf tree (>2m) types. Tree cover >60%.</td></tr><tr><td>16</td><td><span style=\"background-color:009900\">009900</span></td><td>Mixed Broadleaf Evergreen/Deciduous Forests: co-dominated (40-60%) by broadleaf evergreen and deciduous tree (>2m) types. Tree cover >60%.</td></tr><tr><td>21</td><td><span style=\"background-color:006c00\">006c00</span></td><td>Open Forests: tree cover 30-60% (canopy >2m).</td></tr><tr><td>22</td><td><span style=\"background-color:00d000\">00d000</span></td><td>Sparse Forests: tree cover 10-30% (canopy >2m).</td></tr><tr><td>31</td><td><span style=\"background-color:b6ff05\">b6ff05</span></td><td>Dense Herbaceous: dominated by herbaceous annuals (<2m) at least 60% cover.</td></tr><tr><td>32</td><td><span style=\"background-color:98d604\">98d604</span></td><td>Sparse Herbaceous: dominated by herbaceous annuals (<2m) 10-60% cover.</td></tr><tr><td>41</td><td><span style=\"background-color:dcd159\">dcd159</span></td><td>Dense Shrublands: dominated by woody perennials (1-2m) >60% cover.</td></tr><tr><td>42</td><td><span style=\"background-color:f1fb58\">f1fb58</span></td><td>Shrubland/Grassland Mosaics: dominated by woody perennials (1-2m) 10-60% cover with dense herbaceous annual understory.</td></tr><tr><td>43</td><td><span style=\"background-color:fbee65\">fbee65</span></td><td>Sparse Shrublands: dominated by woody perennials (1-2m) 10-60% cover with minimal herbaceous understory.</td></tr></table><p><b>LC_Prop2 Class Table</b><table class=\"eecat\"><tr><th scope=\"col\">Value</th><th scope=\"col\">Color</th><th scope=\"col\">Description</th></tr><tr><td>1</td><td><span style=\"background-color:f9ffa4\">f9ffa4</span></td><td>Barren: at least of area 60% is non-vegetated barren (sand, rock, soil) or permanent snow/ice with less than 10% vegetation.</td></tr><tr><td>2</td><td><span style=\"background-color:69fff8\">69fff8</span></td><td>Permanent Snow and Ice: at least 60% of area is covered by snow and ice for at least 10 months of the year.</td></tr><tr><td>3</td><td><span style=\"background-color:1c0dff\">1c0dff</span></td><td>Water Bodies: at least 60% of area is covered by permanent water bodies.</td></tr><tr><td>9</td><td><span style=\"background-color:a5a5a5\">a5a5a5</span></td><td>Urban and Built-up Lands: at least 30% of area is made up ofimpervious surfaces including building materials, asphalt, and vehicles.</td></tr><tr><td>10</td><td><span style=\"background-color:003f00\">003f00</span></td><td>Dense Forests: tree cover >60% (canopy >2m).</td></tr><tr><td>20</td><td><span style=\"background-color:006c00\">006c00</span></td><td>Open Forests: tree cover 10-60% (canopy >2m).</td></tr><tr><td>25</td><td><span style=\"background-color:e3ff77\">e3ff77</span></td><td>Forest/Cropland Mosaics: mosaics of small-scale cultivation 40-60% with >10% natural tree cover.</td></tr><tr><td>30</td><td><span style=\"background-color:b6ff05\">b6ff05</span></td><td>Natural Herbaceous: dominated by herbaceous annuals (<2m). At least 10% cover.</td></tr><tr><td>35</td><td><span style=\"background-color:93ce04\">93ce04</span></td><td>Natural Herbaceous/Croplands Mosaics: mosaics of small-scale cultivation 40-60% with natural shrub or herbaceous vegetation.</td></tr><tr><td>36</td><td><span style=\"background-color:77a703\">77a703</span></td><td>Herbaceous Croplands: dominated by herbaceous annuals (<2m). At least 60% cover. Cultivated fraction >60%.</td></tr><tr><td>40</td><td><span style=\"background-color:dcd159\">dcd159</span></td><td>Shrublands: shrub cover >60% (1-2m).</td></tr></table><p><b>LC_Prop3 Class Table</b><table class=\"eecat\"><tr><th scope=\"col\">Value</th><th scope=\"col\">Color</th><th scope=\"col\">Description</th></tr><tr><td>1</td><td><span style=\"background-color:f9ffa4\">f9ffa4</span></td><td>Barren: at least of area 60% is non-vegetated barren (sand, rock, soil) or permanent snow/ice with less than 10% vegetation.</td></tr><tr><td>2</td><td><span style=\"background-color:69fff8\">69fff8</span></td><td>Permanent Snow and Ice: at least 60% of area is covered by snow and ice for at least 10 months of the year.</td></tr><tr><td>3</td><td><span style=\"background-color:1c0dff\">1c0dff</span></td><td>Water Bodies: at least 60% of area is covered by permanent water bodies.</td></tr><tr><td>10</td><td><span style=\"background-color:003f00\">003f00</span></td><td>Dense Forests: tree cover >60% (canopy >2m).</td></tr><tr><td>20</td><td><span style=\"background-color:006c00\">006c00</span></td><td>Open Forests: tree cover 10-60% (canopy >2m).</td></tr><tr><td>27</td><td><span style=\"background-color:72834a\">72834a</span></td><td>Woody Wetlands: shrub and tree cover >10% (>1m). Permanently or seasonally inundated.</td></tr><tr><td>30</td><td><span style=\"background-color:b6ff05\">b6ff05</span></td><td>Grasslands: dominated by herbaceous annuals (<2m) >10% cover.</td></tr><tr><td>40</td><td><span style=\"background-color:c6b044\">c6b044</span></td><td>Shrublands: shrub cover >60% (1-2m).</td></tr><tr><td>50</td><td><span style=\"background-color:3aba73\">3aba73</span></td><td>Herbaceous Wetlands: dominated by herbaceous annuals (<2m) >10% cover. Permanently or seasonally inundated.</td></tr><tr><td>51</td><td><span style=\"background-color:1e9db3\">1e9db3</span></td><td>Tundra: tree cover <10%. Snow-covered for at least 8 months of the year.</td></tr></table><p><b>QC Class Table</b><table class=\"eecat\"><tr><th scope=\"col\">Value</th><th scope=\"col\">Color</th><th scope=\"col\">Description</th></tr><tr><td>0</td><td><span style=\"background-color:\"></span></td><td>Classified land: has a classification label and is land according to the water mask.</td></tr><tr><td>1</td><td><span style=\"background-color:\"></span></td><td>Unclassified land: not classified because of missing data but land according to the water mask, labeled as barren.</td></tr><tr><td>2</td><td><span style=\"background-color:\"></span></td><td>Classified water: has a classification label and is water according to the water mask.</td></tr><tr><td>3</td><td><span style=\"background-color:\"></span></td><td>Unclassified water: not classified because of missing data but water according to the water mask.</td></tr><tr><td>4</td><td><span style=\"background-color:\"></span></td><td>Classified sea ice: classified as snow/ice but water mask says it is water and less than 100m elevation, switched to water.</td></tr><tr><td>5</td><td><span style=\"background-color:\"></span></td><td>Misclassified water: classified as water but water mask says it is land, switched to secondary label.</td></tr><tr><td>6</td><td><span style=\"background-color:\"></span></td><td>Omitted snow/ice: land according to the water mask that was classified as something other than snow but with a maximum annual temperature below 1◦C, relabeled as snow/ice.</td></tr><tr><td>7</td><td><span style=\"background-color:\"></span></td><td>Misclassified snow/ice: land according to the water mask that was classified as snow but with a minimum annual temperature greater than 1◦C, relabeled as barren.</td></tr><tr><td>8</td><td><span style=\"background-color:\"></span></td><td>Backfilled label: missing label from stabilization, filled with the pre-stabilized result.</td></tr><tr><td>9</td><td><span style=\"background-color:\"></span></td><td>Forest type changed: climate-based change to forest class.</td></tr></table><p><b>LW Class Table</b><table class=\"eecat\"><tr><th scope=\"col\">Value</th><th scope=\"col\">Color</th><th scope=\"col\">Description</th></tr><tr><td>1</td><td><span style=\"background-color:1c0dff\">1c0dff</span></td><td>Water</td></tr><tr><td>2</td><td><span style=\"background-color:f9ffa4\">f9ffa4</span></td><td>Land</td></tr></table><p><b>Terms of Use</b><br><p>MODIS data and products acquired through the LP DAAC have no restrictions on subsequent use, sale, or redistribution.</p><br><b>Dataset's DOI(s)</b><ul><li><p><a href=\"https://doi.org/10.5067/MODIS/MCD12Q1.006\">https://doi.org/10.5067/MODIS/MCD12Q1.006</a></li></ul><p><b>Suggested citation(s)</b><ul><li><p>Please visit <a href=\"https://lpdaac.usgs.gov/citing_our_data\">LP DAAC &#39;Citing Our Data&#39; page</a> for information on citing LP DAAC datasets.</p></li></ul><style>\n",
       "  table.eecat {\n",
       "  border: 1px solid black;\n",
       "  border-collapse: collapse;\n",
       "  font-size: 13px;\n",
       "  }\n",
       "  table.eecat td, tr, th {\n",
       "  text-align: left; vertical-align: top;\n",
       "  border: 1px solid gray; padding: 3px;\n",
       "  }\n",
       "  td.nobreak { white-space: nowrap; }\n",
       "</style>"
      ],
      "text/plain": [
       "<IPython.core.display.HTML object>"
      ]
     },
     "metadata": {},
     "output_type": "display_data"
    }
   ],
   "source": [
    "# description of the modis\n",
    "display(HTML(meta_modis['properties']['description']))"
   ]
  },
  {
   "cell_type": "code",
   "execution_count": 22,
   "metadata": {},
   "outputs": [
    {
     "data": {
      "application/vnd.jupyter.widget-view+json": {
       "model_id": "5eaaa5d642814307b8863596f45f2d42",
       "version_major": 2,
       "version_minor": 0
      },
      "text/plain": [
       "TWFwKGJhc2VtYXA9eyd1cmwnOiAnaHR0cHM6Ly97c30udGlsZS5vcGVuc3RyZWV0bWFwLm9yZy97en0ve3h9L3t5fS5wbmcnLCAnbWF4X3pvb20nOiAxOSwgJ2F0dHJpYnV0aW9uJzogJ01hcCDigKY=\n"
      ]
     },
     "metadata": {},
     "output_type": "display_data"
    }
   ],
   "source": [
    "# Land Cover Type 1: Annual International Geosphere-Biosphere Programme (IGBP) classification\n",
    "viz_map(lc2015, 'LC_Type1')"
   ]
  },
  {
   "cell_type": "code",
   "execution_count": 23,
   "metadata": {},
   "outputs": [
    {
     "data": {
      "text/html": [
       "\n",
       "        <p style=\"font-size:12px\">\n",
       "        <div style=\"background-color:#05450a;display:inline-block;width:30px;height:12px\">\n",
       "        </div> 1: Evergreen Needleleaf Forests: dominated by evergreen conifer trees (canopy >2m). Tree cover >60%.</p>\n",
       "        \n",
       "        <p style=\"font-size:12px\">\n",
       "        <div style=\"background-color:#086a10;display:inline-block;width:30px;height:12px\">\n",
       "        </div> 2: Evergreen Broadleaf Forests: dominated by evergreen broadleaf and palmate trees (canopy >2m). Tree cover >60%.</p>\n",
       "        \n",
       "        <p style=\"font-size:12px\">\n",
       "        <div style=\"background-color:#54a708;display:inline-block;width:30px;height:12px\">\n",
       "        </div> 3: Deciduous Needleleaf Forests: dominated by deciduous needleleaf (larch) trees (canopy >2m). Tree cover >60%.</p>\n",
       "        \n",
       "        <p style=\"font-size:12px\">\n",
       "        <div style=\"background-color:#78d203;display:inline-block;width:30px;height:12px\">\n",
       "        </div> 4: Deciduous Broadleaf Forests: dominated by deciduous broadleaf trees (canopy >2m). Tree cover >60%.</p>\n",
       "        \n",
       "        <p style=\"font-size:12px\">\n",
       "        <div style=\"background-color:#009900;display:inline-block;width:30px;height:12px\">\n",
       "        </div> 5: Mixed Forests: dominated by neither deciduous nor evergreen (40-60% of each) tree type (canopy >2m). Tree cover >60%.</p>\n",
       "        \n",
       "        <p style=\"font-size:12px\">\n",
       "        <div style=\"background-color:#c6b044;display:inline-block;width:30px;height:12px\">\n",
       "        </div> 6: Closed Shrublands: dominated by woody perennials (1-2m height) >60% cover.</p>\n",
       "        \n",
       "        <p style=\"font-size:12px\">\n",
       "        <div style=\"background-color:#dcd159;display:inline-block;width:30px;height:12px\">\n",
       "        </div> 7: Open Shrublands: dominated by woody perennials (1-2m height) 10-60% cover.</p>\n",
       "        \n",
       "        <p style=\"font-size:12px\">\n",
       "        <div style=\"background-color:#dade48;display:inline-block;width:30px;height:12px\">\n",
       "        </div> 8: Woody Savannas: tree cover 30-60% (canopy >2m).</p>\n",
       "        \n",
       "        <p style=\"font-size:12px\">\n",
       "        <div style=\"background-color:#fbff13;display:inline-block;width:30px;height:12px\">\n",
       "        </div> 9: Savannas: tree cover 10-30% (canopy >2m).</p>\n",
       "        \n",
       "        <p style=\"font-size:12px\">\n",
       "        <div style=\"background-color:#b6ff05;display:inline-block;width:30px;height:12px\">\n",
       "        </div> 10: Grasslands: dominated by herbaceous annuals (<2m).</p>\n",
       "        \n",
       "        <p style=\"font-size:12px\">\n",
       "        <div style=\"background-color:#27ff87;display:inline-block;width:30px;height:12px\">\n",
       "        </div> 11: Permanent Wetlands: permanently inundated lands with 30-60% water cover and >10% vegetated cover.</p>\n",
       "        \n",
       "        <p style=\"font-size:12px\">\n",
       "        <div style=\"background-color:#c24f44;display:inline-block;width:30px;height:12px\">\n",
       "        </div> 12: Croplands: at least 60% of area is cultivated cropland.</p>\n",
       "        \n",
       "        <p style=\"font-size:12px\">\n",
       "        <div style=\"background-color:#a5a5a5;display:inline-block;width:30px;height:12px\">\n",
       "        </div> 13: Urban and Built-up Lands: at least 30% impervious surface area including building materials, asphalt and vehicles.</p>\n",
       "        \n",
       "        <p style=\"font-size:12px\">\n",
       "        <div style=\"background-color:#ff6d4c;display:inline-block;width:30px;height:12px\">\n",
       "        </div> 14: Cropland/Natural Vegetation Mosaics: mosaics of small-scale cultivation 40-60% with natural tree, shrub, or herbaceous vegetation.</p>\n",
       "        \n",
       "        <p style=\"font-size:12px\">\n",
       "        <div style=\"background-color:#69fff8;display:inline-block;width:30px;height:12px\">\n",
       "        </div> 15: Permanent Snow and Ice: at least 60% of area is covered by snow and ice for at least 10 months of the year.</p>\n",
       "        \n",
       "        <p style=\"font-size:12px\">\n",
       "        <div style=\"background-color:#f9ffa4;display:inline-block;width:30px;height:12px\">\n",
       "        </div> 16: Barren: at least 60% of area is non-vegetated barren (sand, rock, soil) areas with less than 10% vegetation.</p>\n",
       "        \n",
       "        <p style=\"font-size:12px\">\n",
       "        <div style=\"background-color:#1c0dff;display:inline-block;width:30px;height:12px\">\n",
       "        </div> 17: Water Bodies: at least 60% of area is covered by permanent water bodies.</p>\n",
       "        "
      ],
      "text/plain": [
       "<IPython.core.display.HTML object>"
      ]
     },
     "metadata": {},
     "output_type": "display_data"
    }
   ],
   "source": [
    "viz_legend('LC_Type1')"
   ]
  },
  {
   "cell_type": "code",
   "execution_count": 24,
   "metadata": {},
   "outputs": [
    {
     "data": {
      "application/vnd.jupyter.widget-view+json": {
       "model_id": "99e0b74c2dfb4bf5b59ce056a150dc6c",
       "version_major": 2,
       "version_minor": 0
      },
      "text/plain": [
       "TWFwKGJhc2VtYXA9eyd1cmwnOiAnaHR0cHM6Ly97c30udGlsZS5vcGVuc3RyZWV0bWFwLm9yZy97en0ve3h9L3t5fS5wbmcnLCAnbWF4X3pvb20nOiAxOSwgJ2F0dHJpYnV0aW9uJzogJ01hcCDigKY=\n"
      ]
     },
     "metadata": {},
     "output_type": "display_data"
    }
   ],
   "source": [
    "# Land Cover Type 2: Annual University of Maryland (UMD) classification\n",
    "viz_map(lc2015, 'LC_Type2')"
   ]
  },
  {
   "cell_type": "code",
   "execution_count": 25,
   "metadata": {},
   "outputs": [
    {
     "data": {
      "text/html": [
       "\n",
       "        <p style=\"font-size:12px\">\n",
       "        <div style=\"background-color:#1c0dff;display:inline-block;width:30px;height:12px\">\n",
       "        </div> 0: Water Bodies: at least 60% of area is covered by permanent water bodies.</p>\n",
       "        \n",
       "        <p style=\"font-size:12px\">\n",
       "        <div style=\"background-color:#05450a;display:inline-block;width:30px;height:12px\">\n",
       "        </div> 1: Evergreen Needleleaf Forests: dominated by evergreen conifer trees (canopy >2m). Tree cover >60%.</p>\n",
       "        \n",
       "        <p style=\"font-size:12px\">\n",
       "        <div style=\"background-color:#086a10;display:inline-block;width:30px;height:12px\">\n",
       "        </div> 2: Evergreen Broadleaf Forests: dominated by evergreen broadleaf and palmate trees (canopy >2m). Tree cover >60%.</p>\n",
       "        \n",
       "        <p style=\"font-size:12px\">\n",
       "        <div style=\"background-color:#54a708;display:inline-block;width:30px;height:12px\">\n",
       "        </div> 3: Deciduous Needleleaf Forests: dominated by deciduous needleleaf (larch) trees (canopy >2m). Tree cover >60%.</p>\n",
       "        \n",
       "        <p style=\"font-size:12px\">\n",
       "        <div style=\"background-color:#78d203;display:inline-block;width:30px;height:12px\">\n",
       "        </div> 4: Deciduous Broadleaf Forests: dominated by deciduous broadleaf trees (canopy >2m). Tree cover >60%.</p>\n",
       "        \n",
       "        <p style=\"font-size:12px\">\n",
       "        <div style=\"background-color:#009900;display:inline-block;width:30px;height:12px\">\n",
       "        </div> 5: Mixed Forests: dominated by neither deciduous nor evergreen (40-60% of each) tree type (canopy >2m). Tree cover >60%.</p>\n",
       "        \n",
       "        <p style=\"font-size:12px\">\n",
       "        <div style=\"background-color:#c6b044;display:inline-block;width:30px;height:12px\">\n",
       "        </div> 6: Closed Shrublands: dominated by woody perennials (1-2m height) >60% cover.</p>\n",
       "        \n",
       "        <p style=\"font-size:12px\">\n",
       "        <div style=\"background-color:#dcd159;display:inline-block;width:30px;height:12px\">\n",
       "        </div> 7: Open Shrublands: dominated by woody perennials (1-2m height) 10-60% cover.</p>\n",
       "        \n",
       "        <p style=\"font-size:12px\">\n",
       "        <div style=\"background-color:#dade48;display:inline-block;width:30px;height:12px\">\n",
       "        </div> 8: Woody Savannas: tree cover 30-60% (canopy >2m).</p>\n",
       "        \n",
       "        <p style=\"font-size:12px\">\n",
       "        <div style=\"background-color:#fbff13;display:inline-block;width:30px;height:12px\">\n",
       "        </div> 9: Savannas: tree cover 10-30% (canopy >2m).</p>\n",
       "        \n",
       "        <p style=\"font-size:12px\">\n",
       "        <div style=\"background-color:#b6ff05;display:inline-block;width:30px;height:12px\">\n",
       "        </div> 10: Grasslands: dominated by herbaceous annuals (<2m).</p>\n",
       "        \n",
       "        <p style=\"font-size:12px\">\n",
       "        <div style=\"background-color:#27ff87;display:inline-block;width:30px;height:12px\">\n",
       "        </div> 11: Permanent Wetlands: permanently inundated lands with 30-60% water cover and >10% vegetated cover.</p>\n",
       "        \n",
       "        <p style=\"font-size:12px\">\n",
       "        <div style=\"background-color:#c24f44;display:inline-block;width:30px;height:12px\">\n",
       "        </div> 12: Croplands: at least 60% of area is cultivated cropland.</p>\n",
       "        \n",
       "        <p style=\"font-size:12px\">\n",
       "        <div style=\"background-color:#a5a5a5;display:inline-block;width:30px;height:12px\">\n",
       "        </div> 13: Urban and Built-up Lands: at least 30% impervious surface area including building materials, asphalt and vehicles.</p>\n",
       "        \n",
       "        <p style=\"font-size:12px\">\n",
       "        <div style=\"background-color:#ff6d4c;display:inline-block;width:30px;height:12px\">\n",
       "        </div> 14: Cropland/Natural Vegetation Mosaics: mosaics of small-scale cultivation 40-60% with natural tree, shrub, or herbaceous vegetation.</p>\n",
       "        \n",
       "        <p style=\"font-size:12px\">\n",
       "        <div style=\"background-color:#f9ffa4;display:inline-block;width:30px;height:12px\">\n",
       "        </div> 15: Non-Vegetated Lands: at least 60% of area is non-vegetated barren (sand, rock, soil) or permanent snow and ice with less than 10% vegetation.</p>\n",
       "        "
      ],
      "text/plain": [
       "<IPython.core.display.HTML object>"
      ]
     },
     "metadata": {},
     "output_type": "display_data"
    }
   ],
   "source": [
    "viz_legend('LC_Type2')"
   ]
  },
  {
   "cell_type": "code",
   "execution_count": 26,
   "metadata": {},
   "outputs": [
    {
     "data": {
      "application/vnd.jupyter.widget-view+json": {
       "model_id": "48d8d5fecbfd428f8f5573325fe15f44",
       "version_major": 2,
       "version_minor": 0
      },
      "text/plain": [
       "TWFwKGJhc2VtYXA9eyd1cmwnOiAnaHR0cHM6Ly97c30udGlsZS5vcGVuc3RyZWV0bWFwLm9yZy97en0ve3h9L3t5fS5wbmcnLCAnbWF4X3pvb20nOiAxOSwgJ2F0dHJpYnV0aW9uJzogJ01hcCDigKY=\n"
      ]
     },
     "metadata": {},
     "output_type": "display_data"
    }
   ],
   "source": [
    "# Land Cover Type 3: Annual Leaf Area Index (LAI) classification\n",
    "viz_map(lc2015, 'LC_Type3')"
   ]
  },
  {
   "cell_type": "code",
   "execution_count": 27,
   "metadata": {},
   "outputs": [
    {
     "data": {
      "text/html": [
       "\n",
       "        <p style=\"font-size:12px\">\n",
       "        <div style=\"background-color:#1c0dff;display:inline-block;width:30px;height:12px\">\n",
       "        </div> 0: Water Bodies: at least 60% of area is covered by permanent water bodies.</p>\n",
       "        \n",
       "        <p style=\"font-size:12px\">\n",
       "        <div style=\"background-color:#b6ff05;display:inline-block;width:30px;height:12px\">\n",
       "        </div> 1: Grasslands: dominated by herbaceous annuals (<2m) including cereal croplands.</p>\n",
       "        \n",
       "        <p style=\"font-size:12px\">\n",
       "        <div style=\"background-color:#dcd159;display:inline-block;width:30px;height:12px\">\n",
       "        </div> 2: Shrublands: shrub (1-2m) cover >10%.</p>\n",
       "        \n",
       "        <p style=\"font-size:12px\">\n",
       "        <div style=\"background-color:#c24f44;display:inline-block;width:30px;height:12px\">\n",
       "        </div> 3: Broadleaf Croplands: bominated by herbaceous annuals (<2m) that are cultivated with broadleaf crops.</p>\n",
       "        \n",
       "        <p style=\"font-size:12px\">\n",
       "        <div style=\"background-color:#fbff13;display:inline-block;width:30px;height:12px\">\n",
       "        </div> 4: Savannas: between 10-60% tree cover (>2m).</p>\n",
       "        \n",
       "        <p style=\"font-size:12px\">\n",
       "        <div style=\"background-color:#086a10;display:inline-block;width:30px;height:12px\">\n",
       "        </div> 5: Evergreen Broadleaf Forests: dominated by evergreen broadleaf and palmate trees (canopy >2m). Tree cover >60%.</p>\n",
       "        \n",
       "        <p style=\"font-size:12px\">\n",
       "        <div style=\"background-color:#78d203;display:inline-block;width:30px;height:12px\">\n",
       "        </div> 6: Deciduous Broadleaf Forests: dominated by deciduous broadleaf trees (canopy >2m). Tree cover >60%.</p>\n",
       "        \n",
       "        <p style=\"font-size:12px\">\n",
       "        <div style=\"background-color:#05450a;display:inline-block;width:30px;height:12px\">\n",
       "        </div> 7: Evergreen Needleleaf Forests: dominated by evergreen conifer trees (canopy >2m). Tree cover >60%.</p>\n",
       "        \n",
       "        <p style=\"font-size:12px\">\n",
       "        <div style=\"background-color:#54a708;display:inline-block;width:30px;height:12px\">\n",
       "        </div> 8: Deciduous Needleleaf Forests: dominated by deciduous needleleaf (larch) trees (canopy >2m). Tree cover >60%.</p>\n",
       "        \n",
       "        <p style=\"font-size:12px\">\n",
       "        <div style=\"background-color:#f9ffa4;display:inline-block;width:30px;height:12px\">\n",
       "        </div> 9: Non-Vegetated Lands: at least 60% of area is non-vegetated barren (sand, rock, soil) or permanent snow and ice with less than 10% vegetation.</p>\n",
       "        \n",
       "        <p style=\"font-size:12px\">\n",
       "        <div style=\"background-color:#a5a5a5;display:inline-block;width:30px;height:12px\">\n",
       "        </div> 10: Urban and Built-up Lands: at least 30% impervious surface area including building materials, asphalt and vehicles.</p>\n",
       "        "
      ],
      "text/plain": [
       "<IPython.core.display.HTML object>"
      ]
     },
     "metadata": {},
     "output_type": "display_data"
    }
   ],
   "source": [
    "viz_legend('LC_Type3')"
   ]
  },
  {
   "cell_type": "markdown",
   "metadata": {},
   "source": [
    "## Zonal statistics\n",
    "\n",
    "Use a geometry to:\n",
    "1. cut the image using a mask\n",
    "2. derive some statistics about the region of innterest\n"
   ]
  },
  {
   "cell_type": "code",
   "execution_count": 114,
   "metadata": {},
   "outputs": [],
   "source": [
    "testmap = viz_map(ee_image=lc2015, band='LC_Type1')"
   ]
  },
  {
   "cell_type": "code",
   "execution_count": 29,
   "metadata": {},
   "outputs": [
    {
     "data": {
      "application/vnd.jupyter.widget-view+json": {
       "model_id": "4a8348713ef945708dadeea00bd505c9",
       "version_major": 2,
       "version_minor": 0
      },
      "text/plain": [
       "TWFwKGJhc2VtYXA9eyd1cmwnOiAnaHR0cHM6Ly97c30udGlsZS5vcGVuc3RyZWV0bWFwLm9yZy97en0ve3h9L3t5fS5wbmcnLCAnbWF4X3pvb20nOiAxOSwgJ2F0dHJpYnV0aW9uJzogJ01hcCDigKY=\n"
      ]
     },
     "metadata": {},
     "output_type": "display_data"
    }
   ],
   "source": [
    "testmap"
   ]
  },
  {
   "cell_type": "code",
   "execution_count": 30,
   "metadata": {},
   "outputs": [
    {
     "data": {
      "text/plain": [
       "ipyleaflet.leaflet.Map"
      ]
     },
     "execution_count": 30,
     "metadata": {},
     "output_type": "execute_result"
    }
   ],
   "source": [
    "type(testmap)"
   ]
  },
  {
   "cell_type": "markdown",
   "metadata": {},
   "source": [
    "## Get geojson from PPNET"
   ]
  },
  {
   "cell_type": "markdown",
   "metadata": {},
   "source": [
    "PP API token for testing purpose"
   ]
  },
  {
   "cell_type": "code",
   "execution_count": 33,
   "metadata": {},
   "outputs": [],
   "source": [
    "ppapi_token = '4290b88825725a4d241c485d3b0b7cd7'"
   ]
  },
  {
   "cell_type": "code",
   "execution_count": 82,
   "metadata": {},
   "outputs": [],
   "source": [
    "from ipyleaflet import GeoJSON, Map"
   ]
  },
  {
   "cell_type": "code",
   "execution_count": 117,
   "metadata": {},
   "outputs": [],
   "source": [
    "import urllib2 as urllib\n",
    "import json\n",
    "\n",
    "# construct for get request\n",
    "def get_ppnet_url(wdpaid, token):\n",
    "    url = \"https://api.protectedplanet.net/v3/protected_areas/{}?token={}\".format(wdpaid, token)\n",
    "    return url\n",
    "\n",
    "# load url and get wdpa data\n",
    "def get_pa(url):\n",
    "    response = urllib.urlopen(url)\n",
    "    data = json.loads(response.read())\n",
    "    \n",
    "    return data\n",
    "\n",
    "# only to get geometry in geojson\n",
    "def get_geojson(wdpaid, token):\n",
    "    url = get_ppnet_url(wdpaid, token)\n",
    "    data = get_pa(url)\n",
    "    \n",
    "    if 'protected_area' not in data.keys():\n",
    "        raise Exception('no protected area in json')\n",
    "    else:\n",
    "        data = data['protected_area']\n",
    "        \n",
    "        if 'geojson' not in data.keys():\n",
    "            raise Exception('no geometry in json')\n",
    "        else:\n",
    "            return data['geojson']\n",
    "        "
   ]
  },
  {
   "cell_type": "code",
   "execution_count": 118,
   "metadata": {},
   "outputs": [
    {
     "data": {
      "text/plain": [
       "'https://api.protectedplanet.net/v3/protected_areas/2008?token=4290b88825725a4d241c485d3b0b7cd7'"
      ]
     },
     "execution_count": 118,
     "metadata": {},
     "output_type": "execute_result"
    }
   ],
   "source": [
    "get_ppnet_url(2008, ppapi_token)"
   ]
  },
  {
   "cell_type": "code",
   "execution_count": 271,
   "metadata": {},
   "outputs": [],
   "source": [
    "# get_geojson(2008, ppapi_token)"
   ]
  },
  {
   "cell_type": "markdown",
   "metadata": {},
   "source": [
    "Test of overlaying geojson"
   ]
  },
  {
   "cell_type": "markdown",
   "metadata": {},
   "source": [
    "wdpaid 2008 is a World Heritage site in between Poland and Belarus"
   ]
  },
  {
   "cell_type": "code",
   "execution_count": 109,
   "metadata": {},
   "outputs": [],
   "source": [
    "m = Map(center=(52.72491,23.9697784), zoom=9)"
   ]
  },
  {
   "cell_type": "code",
   "execution_count": 110,
   "metadata": {},
   "outputs": [],
   "source": [
    "geojson = GeoJSON(data=get_geojson(2008, ppapi_token), style={})"
   ]
  },
  {
   "cell_type": "code",
   "execution_count": 59,
   "metadata": {},
   "outputs": [
    {
     "data": {
      "text/plain": [
       "ipyleaflet.leaflet.GeoJSON"
      ]
     },
     "execution_count": 59,
     "metadata": {},
     "output_type": "execute_result"
    }
   ],
   "source": [
    "type(geojson)"
   ]
  },
  {
   "cell_type": "code",
   "execution_count": 111,
   "metadata": {},
   "outputs": [],
   "source": [
    "m.add_layer(geojson)"
   ]
  },
  {
   "cell_type": "code",
   "execution_count": 112,
   "metadata": {
    "scrolled": true
   },
   "outputs": [
    {
     "data": {
      "application/vnd.jupyter.widget-view+json": {
       "model_id": "d8d6d3fb585744e091d7b393d7b9a34c",
       "version_major": 2,
       "version_minor": 0
      },
      "text/plain": [
       "TWFwKGJhc2VtYXA9eyd1cmwnOiAnaHR0cHM6Ly97c30udGlsZS5vcGVuc3RyZWV0bWFwLm9yZy97en0ve3h9L3t5fS5wbmcnLCAnbWF4X3pvb20nOiAxOSwgJ2F0dHJpYnV0aW9uJzogJ01hcCDigKY=\n"
      ]
     },
     "metadata": {},
     "output_type": "display_data"
    }
   ],
   "source": [
    "m"
   ]
  },
  {
   "cell_type": "code",
   "execution_count": 116,
   "metadata": {},
   "outputs": [
    {
     "data": {
      "application/vnd.jupyter.widget-view+json": {
       "model_id": "c0e3e1a3d33a4993ad72eed6a1f6ef75",
       "version_major": 2,
       "version_minor": 0
      },
      "text/plain": [
       "TWFwKGJhc2VtYXA9eyd1cmwnOiAnaHR0cHM6Ly97c30udGlsZS5vcGVuc3RyZWV0bWFwLm9yZy97en0ve3h9L3t5fS5wbmcnLCAnbWF4X3pvb20nOiAxOSwgJ2F0dHJpYnV0aW9uJzogJ01hcCDigKY=\n"
      ]
     },
     "metadata": {},
     "output_type": "display_data"
    }
   ],
   "source": [
    "testmap.add_layer(geojson)\n",
    "testmap.center = [52.72491,23.9697784]\n",
    "testmap.zoom = 9\n",
    "testmap"
   ]
  },
  {
   "cell_type": "markdown",
   "metadata": {},
   "source": [
    "## Stats exploring"
   ]
  },
  {
   "cell_type": "code",
   "execution_count": 128,
   "metadata": {},
   "outputs": [],
   "source": [
    "# construct ee.Feature\n",
    "def get_eefeature(wdpaid, token):\n",
    "    pa = get_pa(url=get_ppnet_url(wdpaid, token))\n",
    "    \n",
    "    pa = pa['protected_area']\n",
    "    \n",
    "    # construct ee.Feature geom + dict of attr\n",
    "    return ee.Feature(pa['geojson'], pa.pop('geojson'))\n"
   ]
  },
  {
   "cell_type": "markdown",
   "metadata": {},
   "source": [
    "Using bialo as example to check `ee.Geometry` and `ee.Feature` methods"
   ]
  },
  {
   "cell_type": "code",
   "execution_count": 131,
   "metadata": {},
   "outputs": [],
   "source": [
    "bialo = get_eefeature(2008, ppapi_token)"
   ]
  },
  {
   "cell_type": "code",
   "execution_count": 134,
   "metadata": {},
   "outputs": [],
   "source": [
    "geom = bialo.geometry()"
   ]
  },
  {
   "cell_type": "code",
   "execution_count": 136,
   "metadata": {},
   "outputs": [
    {
     "data": {
      "text/plain": [
       "{u'crs': u'EPSG:4326',\n",
       " u'transform': [1.0, 0.0, 0.0, 0.0, 1.0, 0.0],\n",
       " u'type': u'Projection'}"
      ]
     },
     "execution_count": 136,
     "metadata": {},
     "output_type": "execute_result"
    }
   ],
   "source": [
    "geom.projection().getInfo()"
   ]
  },
  {
   "cell_type": "markdown",
   "metadata": {},
   "source": [
    "Very confusing coordinate systems in GEE. I cannot understand what's happening behind the blackbox"
   ]
  },
  {
   "cell_type": "code",
   "execution_count": 145,
   "metadata": {},
   "outputs": [],
   "source": [
    "wgs84 = ee.Projection('EPSG:4326')\n",
    "mwd = ee.Projection('''PROJCS[\"World_Mollweide\",\n",
    "    GEOGCS[\"GCS_WGS_1984\",\n",
    "        DATUM[\"WGS_1984\",\n",
    "            SPHEROID[\"WGS_1984\",6378137,298.257223563]],\n",
    "        PRIMEM[\"Greenwich\",0],\n",
    "        UNIT[\"Degree\",0.017453292519943295]],\n",
    "    PROJECTION[\"Mollweide\"],\n",
    "    PARAMETER[\"False_Easting\",0],\n",
    "    PARAMETER[\"False_Northing\",0],\n",
    "    PARAMETER[\"Central_Meridian\",0],\n",
    "    UNIT[\"Meter\",1],\n",
    "    AUTHORITY[\"EPSG\",\"54009\"]]''')"
   ]
  },
  {
   "cell_type": "code",
   "execution_count": 141,
   "metadata": {},
   "outputs": [
    {
     "data": {
      "text/plain": [
       "{u'crs': u'EPSG:4326',\n",
       " u'transform': [1.0, 0.0, 0.0, 0.0, 1.0, 0.0],\n",
       " u'type': u'Projection'}"
      ]
     },
     "execution_count": 141,
     "metadata": {},
     "output_type": "execute_result"
    }
   ],
   "source": [
    "ee.Projection('EPSG:4326').getInfo()"
   ]
  },
  {
   "cell_type": "code",
   "execution_count": 144,
   "metadata": {},
   "outputs": [
    {
     "data": {
      "text/plain": [
       "{u'transform': [1.0, 0.0, 0.0, 0.0, 1.0, 0.0],\n",
       " u'type': u'Projection',\n",
       " u'wkt': u'PROJCS[\"World_Mollweide\", \\n  GEOGCS[\"GCS_WGS_1984\", \\n    DATUM[\"WGS_1984\", \\n      SPHEROID[\"WGS_1984\", 6378137.0, 298.257223563]], \\n    PRIMEM[\"Greenwich\", 0.0], \\n    UNIT[\"degree\", 0.017453292519943295], \\n    AXIS[\"Longitude\", EAST], \\n    AXIS[\"Latitude\", NORTH]], \\n  PROJECTION[\"Mollweide\"], \\n  PARAMETER[\"semi_minor\", 6378137.0], \\n  PARAMETER[\"central_meridian\", 0.0], \\n  PARAMETER[\"false_easting\", 0.0], \\n  PARAMETER[\"false_northing\", 0.0], \\n  UNIT[\"m\", 1.0], \\n  AXIS[\"x\", EAST], \\n  AXIS[\"y\", NORTH], \\n  AUTHORITY[\"EPSG\",\"54009\"]]'}"
      ]
     },
     "execution_count": 144,
     "metadata": {},
     "output_type": "execute_result"
    }
   ],
   "source": [
    "ee.Projection('''PROJCS[\"World_Mollweide\",\n",
    "    GEOGCS[\"GCS_WGS_1984\",\n",
    "        DATUM[\"WGS_1984\",\n",
    "            SPHEROID[\"WGS_1984\",6378137,298.257223563]],\n",
    "        PRIMEM[\"Greenwich\",0],\n",
    "        UNIT[\"Degree\",0.017453292519943295]],\n",
    "    PROJECTION[\"Mollweide\"],\n",
    "    PARAMETER[\"False_Easting\",0],\n",
    "    PARAMETER[\"False_Northing\",0],\n",
    "    PARAMETER[\"Central_Meridian\",0],\n",
    "    UNIT[\"Meter\",1],\n",
    "    AUTHORITY[\"EPSG\",\"54009\"]]''').getInfo()"
   ]
  },
  {
   "cell_type": "code",
   "execution_count": 248,
   "metadata": {},
   "outputs": [
    {
     "data": {
      "text/plain": [
       "1391490381.9833984"
      ]
     },
     "execution_count": 248,
     "metadata": {},
     "output_type": "execute_result"
    }
   ],
   "source": [
    "bialo.area(maxError=0.1, proj=mwd).getInfo()"
   ]
  },
  {
   "cell_type": "markdown",
   "metadata": {},
   "source": [
    "According to GEE, `ee.Feature.area` returns the area of the feature's default geomtry in square meters"
   ]
  },
  {
   "cell_type": "code",
   "execution_count": 158,
   "metadata": {},
   "outputs": [
    {
     "data": {
      "text/plain": [
       "1020132630.3024315"
      ]
     },
     "execution_count": 158,
     "metadata": {},
     "output_type": "execute_result"
    }
   ],
   "source": [
    "# I'm not sure how it is done?\n",
    "# it is quite a significant difference compared to reported areas\n",
    "# in square km\n",
    "bialo.area().getInfo() / (1000.0 * 1000.0)"
   ]
  },
  {
   "cell_type": "code",
   "execution_count": 159,
   "metadata": {},
   "outputs": [
    {
     "data": {
      "text/plain": [
       "1020132630302431.5"
      ]
     },
     "execution_count": 159,
     "metadata": {},
     "output_type": "execute_result"
    }
   ],
   "source": [
    "# I'm not sure how it is done?\n",
    "# it is quite a significant difference compared to reported areas\n",
    "# in square km\n",
    "bialo.area().getInfo()"
   ]
  },
  {
   "cell_type": "code",
   "execution_count": 153,
   "metadata": {},
   "outputs": [],
   "source": [
    "bialo_pp = get_pa(get_ppnet_url(2008,ppapi_token))"
   ]
  },
  {
   "cell_type": "code",
   "execution_count": 156,
   "metadata": {},
   "outputs": [
    {
     "data": {
      "text/plain": [
       "u'1418.85'"
      ]
     },
     "execution_count": 156,
     "metadata": {},
     "output_type": "execute_result"
    }
   ],
   "source": [
    "bialo_pp['protected_area']['reported_area']"
   ]
  },
  {
   "cell_type": "code",
   "execution_count": 164,
   "metadata": {},
   "outputs": [
    {
     "data": {
      "text/plain": [
       "1020132630302431.5"
      ]
     },
     "execution_count": 164,
     "metadata": {},
     "output_type": "execute_result"
    }
   ],
   "source": [
    "bialo.geometry().area().getInfo()"
   ]
  },
  {
   "cell_type": "code",
   "execution_count": 171,
   "metadata": {},
   "outputs": [
    {
     "data": {
      "text/plain": [
       "{u'crs': u'EPSG:4326',\n",
       " u'transform': [1.0, 0.0, 0.0, 0.0, 1.0, 0.0],\n",
       " u'type': u'Projection'}"
      ]
     },
     "execution_count": 171,
     "metadata": {},
     "output_type": "execute_result"
    }
   ],
   "source": [
    "geom.projection().getInfo()"
   ]
  },
  {
   "cell_type": "markdown",
   "metadata": {},
   "source": [
    "Some pretty big differences - could it be it uses the default web mercator in the calculation"
   ]
  },
  {
   "cell_type": "markdown",
   "metadata": {},
   "source": [
    "Another example of very simple geometry: Galapagos Island"
   ]
  },
  {
   "cell_type": "code",
   "execution_count": 172,
   "metadata": {},
   "outputs": [],
   "source": [
    "gala = get_eefeature(191, ppapi_token)"
   ]
  },
  {
   "cell_type": "code",
   "execution_count": 175,
   "metadata": {},
   "outputs": [],
   "source": [
    "gala_pp = get_pa(get_ppnet_url(191, ppapi_token))"
   ]
  },
  {
   "cell_type": "code",
   "execution_count": 173,
   "metadata": {},
   "outputs": [],
   "source": [
    "geom2 = gala.geometry()"
   ]
  },
  {
   "cell_type": "code",
   "execution_count": 174,
   "metadata": {},
   "outputs": [
    {
     "data": {
      "text/plain": [
       "{u'crs': u'EPSG:4326',\n",
       " u'transform': [1.0, 0.0, 0.0, 0.0, 1.0, 0.0],\n",
       " u'type': u'Projection'}"
      ]
     },
     "execution_count": 174,
     "metadata": {},
     "output_type": "execute_result"
    }
   ],
   "source": [
    "geom2.projection().getInfo()"
   ]
  },
  {
   "cell_type": "code",
   "execution_count": 179,
   "metadata": {},
   "outputs": [
    {
     "data": {
      "text/plain": [
       "50991888.30823038"
      ]
     },
     "execution_count": 179,
     "metadata": {},
     "output_type": "execute_result"
    }
   ],
   "source": [
    "gala.area().getInfo() / 10000000.0"
   ]
  },
  {
   "cell_type": "code",
   "execution_count": 251,
   "metadata": {},
   "outputs": [
    {
     "data": {
      "text/plain": [
       "u'140665.14'"
      ]
     },
     "execution_count": 251,
     "metadata": {},
     "output_type": "execute_result"
    }
   ],
   "source": [
    "# reported area from PPNET\n",
    "gala_pp['protected_area']['reported_area']"
   ]
  },
  {
   "cell_type": "code",
   "execution_count": 270,
   "metadata": {},
   "outputs": [
    {
     "data": {
      "text/plain": [
       "11.869987367663974"
      ]
     },
     "execution_count": 270,
     "metadata": {},
     "output_type": "execute_result"
    }
   ],
   "source": [
    "# use degree - this obviously is silly but just checking...\n",
    "gala.area(maxError=1, proj=ee.Projection('EPSG:4326')).getInfo()"
   ]
  },
  {
   "cell_type": "code",
   "execution_count": 252,
   "metadata": {},
   "outputs": [
    {
     "data": {
      "text/plain": [
       "147067257322.15942"
      ]
     },
     "execution_count": 252,
     "metadata": {},
     "output_type": "execute_result"
    }
   ],
   "source": [
    "# use molleweide\n",
    "gala.area(maxError=0.1, proj=mwd).getInfo()"
   ]
  },
  {
   "cell_type": "code",
   "execution_count": 253,
   "metadata": {},
   "outputs": [
    {
     "data": {
      "text/plain": [
       "147067256767.8296"
      ]
     },
     "execution_count": 253,
     "metadata": {},
     "output_type": "execute_result"
    }
   ],
   "source": [
    "# use molleweide but different maxerror\n",
    "gala.area(maxError=0.01, proj=mwd).getInfo()"
   ]
  },
  {
   "cell_type": "markdown",
   "metadata": {},
   "source": [
    "Convert to raster and display - check if `ee.Feature` had been constructed correctly"
   ]
  },
  {
   "cell_type": "code",
   "execution_count": 181,
   "metadata": {},
   "outputs": [],
   "source": [
    "gala_r = ee.Image().byte()"
   ]
  },
  {
   "cell_type": "code",
   "execution_count": 204,
   "metadata": {},
   "outputs": [],
   "source": [
    "gala_image = gala_r.paint(ee.FeatureCollection(gala), \n",
    "                         color=1,\n",
    "                         width=3)"
   ]
  },
  {
   "cell_type": "markdown",
   "metadata": {},
   "source": [
    "Try `reducer` on image to obtain area - this looks consistent"
   ]
  },
  {
   "cell_type": "code",
   "execution_count": 238,
   "metadata": {},
   "outputs": [],
   "source": [
    "gala_area = ee.Image.pixelArea()"
   ]
  },
  {
   "cell_type": "code",
   "execution_count": 242,
   "metadata": {},
   "outputs": [
    {
     "data": {
      "text/plain": [
       "{u'area': 146083820175.86685}"
      ]
     },
     "execution_count": 242,
     "metadata": {},
     "output_type": "execute_result"
    }
   ],
   "source": [
    "gala_area.reduceRegion(\n",
    "    reducer=ee.Reducer.sum(),\n",
    "    geometry=gala.geometry(),\n",
    "    scale=150).getInfo()"
   ]
  },
  {
   "cell_type": "code",
   "execution_count": 243,
   "metadata": {},
   "outputs": [
    {
     "data": {
      "text/plain": [
       "{u'area': 146083100492.89636}"
      ]
     },
     "execution_count": 243,
     "metadata": {},
     "output_type": "execute_result"
    }
   ],
   "source": [
    "gala_area.reduceRegion(\n",
    "    reducer=ee.Reducer.sum(),\n",
    "    geometry=gala.geometry(),\n",
    "    scale=350).getInfo()"
   ]
  },
  {
   "cell_type": "markdown",
   "metadata": {},
   "source": [
    "Looks like `geojson` from PPAPI is cast correctly into `ee.Feature`"
   ]
  },
  {
   "cell_type": "code",
   "execution_count": 217,
   "metadata": {},
   "outputs": [],
   "source": [
    "map1 = ipyleaflet.Map(layout={'height':'400px'}, zoom=6, center=(-0.4734209,-90.8904806))"
   ]
  },
  {
   "cell_type": "code",
   "execution_count": 218,
   "metadata": {},
   "outputs": [],
   "source": [
    "map1.add_layer(\n",
    "    ipyleaflet.TileLayer(url=GetTileLayerUrl(gala_image))\n",
    "\n",
    ")"
   ]
  },
  {
   "cell_type": "code",
   "execution_count": 219,
   "metadata": {},
   "outputs": [
    {
     "data": {
      "application/vnd.jupyter.widget-view+json": {
       "model_id": "a7d031bdce0d474c8ea30bdc4eae5d64",
       "version_major": 2,
       "version_minor": 0
      },
      "text/plain": [
       "TWFwKGJhc2VtYXA9eyd1cmwnOiAnaHR0cHM6Ly97c30udGlsZS5vcGVuc3RyZWV0bWFwLm9yZy97en0ve3h9L3t5fS5wbmcnLCAnbWF4X3pvb20nOiAxOSwgJ2F0dHJpYnV0aW9uJzogJ01hcCDigKY=\n"
      ]
     },
     "metadata": {},
     "output_type": "display_data"
    }
   ],
   "source": [
    "map1"
   ]
  },
  {
   "cell_type": "markdown",
   "metadata": {},
   "source": [
    "## Zonal statistics - land cover"
   ]
  },
  {
   "cell_type": "markdown",
   "metadata": {},
   "source": [
    "Grouped reductions. Statistics in each zone of an `image` by using reducer.group()"
   ]
  },
  {
   "cell_type": "markdown",
   "metadata": {},
   "source": [
    "Construct an `ee.Image` of two bands, a `pixelArea` band (used to sum total in area) and a `land cover` band (used to provide the group definition)"
   ]
  },
  {
   "cell_type": "code",
   "execution_count": 254,
   "metadata": {},
   "outputs": [],
   "source": [
    "landcover = ee.Image.pixelArea().addBands(lc2015.select('LC_Type1'))"
   ]
  },
  {
   "cell_type": "code",
   "execution_count": 257,
   "metadata": {},
   "outputs": [
    {
     "data": {
      "text/plain": [
       "[u'area', u'LC_Type1']"
      ]
     },
     "execution_count": 257,
     "metadata": {},
     "output_type": "execute_result"
    }
   ],
   "source": [
    "landcover.bandNames().getInfo()"
   ]
  },
  {
   "cell_type": "markdown",
   "metadata": {},
   "source": [
    "Use `bialo` as input geom, and `landcover` input image. `groupField` is the index of the band containing the zones by which to group the output, in this case, `groupField=1` refers to the `landcover` band (The `area` band has index 0)"
   ]
  },
  {
   "cell_type": "code",
   "execution_count": 260,
   "metadata": {},
   "outputs": [],
   "source": [
    "result = landcover.reduceRegion(\n",
    "    reducer=ee.Reducer.sum().group(\n",
    "        groupField=1,\n",
    "        groupName='landcover'\n",
    "    ),\n",
    "    geometry=bialo.geometry(),\n",
    "    scale=100\n",
    ").getInfo()"
   ]
  },
  {
   "cell_type": "code",
   "execution_count": 265,
   "metadata": {},
   "outputs": [
    {
     "data": {
      "text/plain": [
       "[{u'landcover': 1, u'sum': 222177846.67470837},\n",
       " {u'landcover': 4, u'sum': 30881579.170831423},\n",
       " {u'landcover': 5, u'sum': 1058747306.4780327},\n",
       " {u'landcover': 8, u'sum': 27617364.872995164},\n",
       " {u'landcover': 9, u'sum': 31727085.910864748},\n",
       " {u'landcover': 10, u'sum': 22154713.868397675},\n",
       " {u'landcover': 11, u'sum': 364804.9365234375},\n",
       " {u'landcover': 12, u'sum': 39981.42554955574},\n",
       " {u'landcover': 13, u'sum': 268159.6290690104}]"
      ]
     },
     "execution_count": 265,
     "metadata": {},
     "output_type": "execute_result"
    }
   ],
   "source": [
    "result['groups']"
   ]
  },
  {
   "cell_type": "code",
   "execution_count": 268,
   "metadata": {},
   "outputs": [],
   "source": [
    "import numpy as np"
   ]
  },
  {
   "cell_type": "markdown",
   "metadata": {},
   "source": [
    "Validation to check the sum of `sum` of each land cover type is the same as the total area of the site. In this case, it is very close to 1400 sqkm, the same as from the `rep_area` from the WDPA via PPNET API"
   ]
  },
  {
   "cell_type": "code",
   "execution_count": 269,
   "metadata": {},
   "outputs": [
    {
     "data": {
      "text/plain": [
       "1393978842.9669724"
      ]
     },
     "execution_count": 269,
     "metadata": {},
     "output_type": "execute_result"
    }
   ],
   "source": [
    "np.array([each['sum'] for each in result['groups']]).sum()"
   ]
  },
  {
   "cell_type": "markdown",
   "metadata": {},
   "source": [
    "Sensitivity analysis to check GEE's variable `scale` and `maxPixels`"
   ]
  },
  {
   "cell_type": "code",
   "execution_count": 282,
   "metadata": {},
   "outputs": [],
   "source": [
    "def landcover_composition(ee_landcover, ee_feature, scale):\n",
    "    # `ee.Image`, `ee.Feature`, scale\n",
    "    # compose a two band image 0: area 1: land cover classes\n",
    "    landcover = ee.Image.pixelArea().addBands(ee_landcover)\n",
    "    \n",
    "    # reduce group\n",
    "    result = landcover.reduceRegion(\n",
    "    reducer=ee.Reducer.sum().group(\n",
    "        groupField=1,\n",
    "        groupName='landcover'\n",
    "    ),\n",
    "    geometry=ee_feature.geometry(),\n",
    "    scale=scale,\n",
    "    maxPixels=1e9\n",
    "    ).getInfo()\n",
    "    \n",
    "    return result['groups']"
   ]
  },
  {
   "cell_type": "code",
   "execution_count": 283,
   "metadata": {},
   "outputs": [
    {
     "data": {
      "text/plain": [
       "[{u'landcover': 1, u'sum': 223332400.53329718},\n",
       " {u'landcover': 4, u'sum': 30749167.52696558},\n",
       " {u'landcover': 5, u'sum': 1057534493.666615},\n",
       " {u'landcover': 8, u'sum': 27760601.240934633},\n",
       " {u'landcover': 9, u'sum': 31759449.05298227},\n",
       " {u'landcover': 10, u'sum': 22101869.32274595},\n",
       " {u'landcover': 11, u'sum': 436672.8308868408},\n",
       " {u'landcover': 12, u'sum': 34940.76837234496},\n",
       " {u'landcover': 13, u'sum': 254108.40444635172}]"
      ]
     },
     "execution_count": 283,
     "metadata": {},
     "output_type": "execute_result"
    }
   ],
   "source": [
    "landcover_composition(ee_landcover=lc2015.select('LC_Type1'), ee_feature=bialo, scale=10)"
   ]
  },
  {
   "cell_type": "code",
   "execution_count": 274,
   "metadata": {},
   "outputs": [
    {
     "data": {
      "text/plain": [
       "[{u'landcover': 1, u'sum': 222177846.67470837},\n",
       " {u'landcover': 4, u'sum': 30881579.170831423},\n",
       " {u'landcover': 5, u'sum': 1058747306.4780327},\n",
       " {u'landcover': 8, u'sum': 27617364.872995164},\n",
       " {u'landcover': 9, u'sum': 31727085.910864748},\n",
       " {u'landcover': 10, u'sum': 22154713.868397675},\n",
       " {u'landcover': 11, u'sum': 364804.9365234375},\n",
       " {u'landcover': 12, u'sum': 39981.42554955574},\n",
       " {u'landcover': 13, u'sum': 268159.6290690104}]"
      ]
     },
     "execution_count": 274,
     "metadata": {},
     "output_type": "execute_result"
    }
   ],
   "source": [
    "landcover_composition(ee_landcover=lc2015.select('LC_Type1'), ee_feature=bialo, scale=100)"
   ]
  },
  {
   "cell_type": "code",
   "execution_count": 275,
   "metadata": {},
   "outputs": [
    {
     "data": {
      "text/plain": [
       "[{u'landcover': 1, u'sum': 210743367.60269606},\n",
       " {u'landcover': 4, u'sum': 27402440.68063725},\n",
       " {u'landcover': 5, u'sum': 1061467705.3438724},\n",
       " {u'landcover': 8, u'sum': 34027615.602696076},\n",
       " {u'landcover': 9, u'sum': 35080003.93259804},\n",
       " {u'landcover': 10, u'sum': 24808394.12328432},\n",
       " {u'landcover': 12, u'sum': 162202.9705882353},\n",
       " {u'landcover': 13, u'sum': 264253.3470588235}]"
      ]
     },
     "execution_count": 275,
     "metadata": {},
     "output_type": "execute_result"
    }
   ],
   "source": [
    "landcover_composition(ee_landcover=lc2015.select('LC_Type1'), ee_feature=bialo, scale=1000)"
   ]
  },
  {
   "cell_type": "code",
   "execution_count": 276,
   "metadata": {},
   "outputs": [
    {
     "data": {
      "text/plain": [
       "[{u'landcover': 1, u'sum': 1908987.607843137},\n",
       " {u'landcover': 5, u'sum': 1312704721.1607845},\n",
       " {u'landcover': 10, u'sum': 29204153.74117647},\n",
       " {u'landcover': 12, u'sum': 58535499.27843137}]"
      ]
     },
     "execution_count": 276,
     "metadata": {},
     "output_type": "execute_result"
    }
   ],
   "source": [
    "landcover_composition(ee_landcover=lc2015.select('LC_Type1'), ee_feature=bialo, scale=10000)"
   ]
  },
  {
   "cell_type": "markdown",
   "metadata": {},
   "source": [
    "This illustrate the effect of scale in GEE. Image pyramids are used and depending on scale, values will be draw from the image pyramids, i.e. not the original values. This is different and misleading composed to other GIS and image processing platforms.\n",
    "\n",
    "**IMPORTANT**\n",
    "For discrete valued images, pixel values of upper levels of the pyramids are a sample of the **top left pixel of the next lower level**. It is not unimaginable that a signifcant number of values may disappear entirely when values are drawn from top most levels of the pyramids.\n",
    "\n",
    "[How scale works in Google Earth Engine](https://developers.google.com/earth-engine/scale)"
   ]
  },
  {
   "cell_type": "markdown",
   "metadata": {},
   "source": [
    "## Clipping images"
   ]
  },
  {
   "cell_type": "code",
   "execution_count": 285,
   "metadata": {},
   "outputs": [
    {
     "data": {
      "text/plain": [
       "<ee.image.Image at 0x7f7a85bb6490>"
      ]
     },
     "execution_count": 285,
     "metadata": {},
     "output_type": "execute_result"
    }
   ],
   "source": [
    "lc2015.clip(bialo)"
   ]
  },
  {
   "cell_type": "code",
   "execution_count": 287,
   "metadata": {},
   "outputs": [
    {
     "data": {
      "application/vnd.jupyter.widget-view+json": {
       "model_id": "091cb5fd0e54477c995c3c7fa2f014cc",
       "version_major": 2,
       "version_minor": 0
      },
      "text/plain": [
       "TWFwKGJhc2VtYXA9eyd1cmwnOiAnaHR0cHM6Ly97c30udGlsZS5vcGVuc3RyZWV0bWFwLm9yZy97en0ve3h9L3t5fS5wbmcnLCAnbWF4X3pvb20nOiAxOSwgJ2F0dHJpYnV0aW9uJzogJ01hcCDigKY=\n"
      ]
     },
     "metadata": {},
     "output_type": "display_data"
    }
   ],
   "source": [
    "clipped_map = viz_map(ee_image=lc2015.clip(bialo), band='LC_Type1')\n",
    "clipped_map.center = [52.72491,23.9697784]\n",
    "clipped_map.zoom = 9\n",
    "clipped_map"
   ]
  },
  {
   "cell_type": "code",
   "execution_count": null,
   "metadata": {},
   "outputs": [],
   "source": []
  }
 ],
 "metadata": {
  "kernelspec": {
   "display_name": "Python 2",
   "language": "python",
   "name": "python2"
  },
  "language_info": {
   "codemirror_mode": {
    "name": "ipython",
    "version": 2
   },
   "file_extension": ".py",
   "mimetype": "text/x-python",
   "name": "python",
   "nbconvert_exporter": "python",
   "pygments_lexer": "ipython2",
   "version": "2.7.12"
  }
 },
 "nbformat": 4,
 "nbformat_minor": 2
}
